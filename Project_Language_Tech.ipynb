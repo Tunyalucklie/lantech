{
  "nbformat": 4,
  "nbformat_minor": 0,
  "metadata": {
    "colab": {
      "provenance": [],
      "include_colab_link": true
    },
    "kernelspec": {
      "name": "python3",
      "display_name": "Python 3"
    },
    "language_info": {
      "name": "python"
    }
  },
  "cells": [
    {
      "cell_type": "markdown",
      "metadata": {
        "id": "view-in-github",
        "colab_type": "text"
      },
      "source": [
        "<a href=\"https://colab.research.google.com/github/Tunyalucklie/lantech/blob/main/Project_Language_Tech.ipynb\" target=\"_parent\"><img src=\"https://colab.research.google.com/assets/colab-badge.svg\" alt=\"Open In Colab\"/></a>"
      ]
    },
    {
      "cell_type": "markdown",
      "source": [
        "#**Sentiment analysis for content moderation in social media communities**\n",
        "\n",
        "\n"
      ],
      "metadata": {
        "id": "2JgwI5SJm_uD"
      }
    },
    {
      "cell_type": "markdown",
      "source": [
        "picture\n",
        "\n",
        "brief project explanation"
      ],
      "metadata": {
        "id": "2BWsw1I3wNNx"
      }
    },
    {
      "cell_type": "markdown",
      "source": [
        "# Preprocessing\n",
        "- split training and testing dataset\n",
        "- build the bag of words representation and create dict to store sentence information (words and classes)"
      ],
      "metadata": {
        "id": "F1ewmjwJn73F"
      }
    },
    {
      "cell_type": "code",
      "execution_count": null,
      "metadata": {
        "id": "XmPkWzCFWY0N",
        "colab": {
          "base_uri": "https://localhost:8080/"
        },
        "outputId": "73ea61e7-c99e-424c-efa0-ce86b14f900d"
      },
      "outputs": [
        {
          "output_type": "stream",
          "name": "stdout",
          "text": [
            "Drive already mounted at /content/drive; to attempt to forcibly remount, call drive.mount(\"/content/drive\", force_remount=True).\n"
          ]
        }
      ],
      "source": [
        "# from google.colab import drive\n",
        "# drive.mount('/content/drive')"
      ]
    },
    {
      "cell_type": "code",
      "source": [
        "import os\n",
        "import math\n",
        "\n",
        "import pandas as pd\n",
        "import numpy as np\n",
        "\n",
        "import seaborn as sns\n",
        "import matplotlib.pyplot as plt\n"
      ],
      "metadata": {
        "id": "t6WIGfn6WvML"
      },
      "execution_count": null,
      "outputs": []
    },
    {
      "cell_type": "code",
      "source": [
        "path=\"/content/drive/MyDrive/lang tech/\"\n",
        "os.chdir(path)"
      ],
      "metadata": {
        "id": "9EjBmpchZOl3"
      },
      "execution_count": null,
      "outputs": []
    },
    {
      "cell_type": "markdown",
      "source": [
        "Dataset information: ....."
      ],
      "metadata": {
        "id": "4-OWVXbowfQW"
      }
    },
    {
      "cell_type": "code",
      "source": [
        "data = pd.read_csv(\"HateSpeechDataset.csv\",encoding='utf-8')"
      ],
      "metadata": {
        "id": "2EO5bkhmYLGq"
      },
      "execution_count": null,
      "outputs": []
    },
    {
      "cell_type": "code",
      "source": [
        "os.listdir()"
      ],
      "metadata": {
        "id": "ZKJC3RpxiRDu",
        "outputId": "334d1cfc-1493-4ef7-9ab8-23ed96bfae6d",
        "colab": {
          "base_uri": "https://localhost:8080/"
        }
      },
      "execution_count": null,
      "outputs": [
        {
          "output_type": "execute_result",
          "data": {
            "text/plain": [
              "['HateSpeechDatasetBalanced.csv', 'HateSpeechDataset.csv']"
            ]
          },
          "metadata": {},
          "execution_count": 17
        }
      ]
    },
    {
      "cell_type": "code",
      "source": [
        "data"
      ],
      "metadata": {
        "id": "heC9KwP2aryK",
        "colab": {
          "base_uri": "https://localhost:8080/",
          "height": 424
        },
        "outputId": "517c6a42-30c8-40f3-ef79-33af11b97a80"
      },
      "execution_count": null,
      "outputs": [
        {
          "output_type": "execute_result",
          "data": {
            "text/plain": [
              "                                                  Content Label  \\\n",
              "0       denial of normal the con be asked to comment o...     1   \n",
              "1       just by being able to tweet this insufferable ...     1   \n",
              "2       that is retarded you too cute to be single tha...     1   \n",
              "3       thought of a real badass mongol style declarat...     1   \n",
              "4                                     afro american basho     1   \n",
              "...                                                   ...   ...   \n",
              "440900  crash another movie from left field i have to ...     0   \n",
              "440901  i why do not you debate first before starting ...     0   \n",
              "440902  removal of i reverted the removal of the above...     0   \n",
              "440903  i have unblocked you eddie as i discussed on u...     0   \n",
              "440904  you have the ability to delete that revision a...     0   \n",
              "\n",
              "                                              Content_int  \n",
              "0       [146715, 0, 1, 2, 3, 4, 5, 6, 7, 8, 9, 10, 11,...  \n",
              "1       [146715, 14, 15, 16, 17, 7, 18, 19, 20, 21, 22...  \n",
              "2       [146715, 28, 29, 30, 26, 31, 32, 7, 5, 33, 28,...  \n",
              "3       [146715, 35, 1, 24, 36, 37, 38, 39, 40, 1, 41,...  \n",
              "4                            [146715, 46, 47, 48, 146714]  \n",
              "...                                                   ...  \n",
              "440900  [146715, 1780, 649, 1673, 347, 701, 1702, 80, ...  \n",
              "440901  [146715, 80, 186, 340, 76, 26, 6407, 566, 2608...  \n",
              "440902  [146715, 18731, 1, 80, 48182, 3, 18731, 1, 3, ...  \n",
              "440903  [146715, 80, 87, 20515, 26, 10684, 273, 80, 95...  \n",
              "440904  [146715, 26, 87, 3, 12795, 7, 3358, 28, 3938, ...  \n",
              "\n",
              "[440905 rows x 3 columns]"
            ],
            "text/html": [
              "\n",
              "  <div id=\"df-def72657-6090-4456-94cb-63f16b518906\" class=\"colab-df-container\">\n",
              "    <div>\n",
              "<style scoped>\n",
              "    .dataframe tbody tr th:only-of-type {\n",
              "        vertical-align: middle;\n",
              "    }\n",
              "\n",
              "    .dataframe tbody tr th {\n",
              "        vertical-align: top;\n",
              "    }\n",
              "\n",
              "    .dataframe thead th {\n",
              "        text-align: right;\n",
              "    }\n",
              "</style>\n",
              "<table border=\"1\" class=\"dataframe\">\n",
              "  <thead>\n",
              "    <tr style=\"text-align: right;\">\n",
              "      <th></th>\n",
              "      <th>Content</th>\n",
              "      <th>Label</th>\n",
              "      <th>Content_int</th>\n",
              "    </tr>\n",
              "  </thead>\n",
              "  <tbody>\n",
              "    <tr>\n",
              "      <th>0</th>\n",
              "      <td>denial of normal the con be asked to comment o...</td>\n",
              "      <td>1</td>\n",
              "      <td>[146715, 0, 1, 2, 3, 4, 5, 6, 7, 8, 9, 10, 11,...</td>\n",
              "    </tr>\n",
              "    <tr>\n",
              "      <th>1</th>\n",
              "      <td>just by being able to tweet this insufferable ...</td>\n",
              "      <td>1</td>\n",
              "      <td>[146715, 14, 15, 16, 17, 7, 18, 19, 20, 21, 22...</td>\n",
              "    </tr>\n",
              "    <tr>\n",
              "      <th>2</th>\n",
              "      <td>that is retarded you too cute to be single tha...</td>\n",
              "      <td>1</td>\n",
              "      <td>[146715, 28, 29, 30, 26, 31, 32, 7, 5, 33, 28,...</td>\n",
              "    </tr>\n",
              "    <tr>\n",
              "      <th>3</th>\n",
              "      <td>thought of a real badass mongol style declarat...</td>\n",
              "      <td>1</td>\n",
              "      <td>[146715, 35, 1, 24, 36, 37, 38, 39, 40, 1, 41,...</td>\n",
              "    </tr>\n",
              "    <tr>\n",
              "      <th>4</th>\n",
              "      <td>afro american basho</td>\n",
              "      <td>1</td>\n",
              "      <td>[146715, 46, 47, 48, 146714]</td>\n",
              "    </tr>\n",
              "    <tr>\n",
              "      <th>...</th>\n",
              "      <td>...</td>\n",
              "      <td>...</td>\n",
              "      <td>...</td>\n",
              "    </tr>\n",
              "    <tr>\n",
              "      <th>440900</th>\n",
              "      <td>crash another movie from left field i have to ...</td>\n",
              "      <td>0</td>\n",
              "      <td>[146715, 1780, 649, 1673, 347, 701, 1702, 80, ...</td>\n",
              "    </tr>\n",
              "    <tr>\n",
              "      <th>440901</th>\n",
              "      <td>i why do not you debate first before starting ...</td>\n",
              "      <td>0</td>\n",
              "      <td>[146715, 80, 186, 340, 76, 26, 6407, 566, 2608...</td>\n",
              "    </tr>\n",
              "    <tr>\n",
              "      <th>440902</th>\n",
              "      <td>removal of i reverted the removal of the above...</td>\n",
              "      <td>0</td>\n",
              "      <td>[146715, 18731, 1, 80, 48182, 3, 18731, 1, 3, ...</td>\n",
              "    </tr>\n",
              "    <tr>\n",
              "      <th>440903</th>\n",
              "      <td>i have unblocked you eddie as i discussed on u...</td>\n",
              "      <td>0</td>\n",
              "      <td>[146715, 80, 87, 20515, 26, 10684, 273, 80, 95...</td>\n",
              "    </tr>\n",
              "    <tr>\n",
              "      <th>440904</th>\n",
              "      <td>you have the ability to delete that revision a...</td>\n",
              "      <td>0</td>\n",
              "      <td>[146715, 26, 87, 3, 12795, 7, 3358, 28, 3938, ...</td>\n",
              "    </tr>\n",
              "  </tbody>\n",
              "</table>\n",
              "<p>440905 rows × 3 columns</p>\n",
              "</div>\n",
              "    <div class=\"colab-df-buttons\">\n",
              "\n",
              "  <div class=\"colab-df-container\">\n",
              "    <button class=\"colab-df-convert\" onclick=\"convertToInteractive('df-def72657-6090-4456-94cb-63f16b518906')\"\n",
              "            title=\"Convert this dataframe to an interactive table.\"\n",
              "            style=\"display:none;\">\n",
              "\n",
              "  <svg xmlns=\"http://www.w3.org/2000/svg\" height=\"24px\" viewBox=\"0 -960 960 960\">\n",
              "    <path d=\"M120-120v-720h720v720H120Zm60-500h600v-160H180v160Zm220 220h160v-160H400v160Zm0 220h160v-160H400v160ZM180-400h160v-160H180v160Zm440 0h160v-160H620v160ZM180-180h160v-160H180v160Zm440 0h160v-160H620v160Z\"/>\n",
              "  </svg>\n",
              "    </button>\n",
              "\n",
              "  <style>\n",
              "    .colab-df-container {\n",
              "      display:flex;\n",
              "      gap: 12px;\n",
              "    }\n",
              "\n",
              "    .colab-df-convert {\n",
              "      background-color: #E8F0FE;\n",
              "      border: none;\n",
              "      border-radius: 50%;\n",
              "      cursor: pointer;\n",
              "      display: none;\n",
              "      fill: #1967D2;\n",
              "      height: 32px;\n",
              "      padding: 0 0 0 0;\n",
              "      width: 32px;\n",
              "    }\n",
              "\n",
              "    .colab-df-convert:hover {\n",
              "      background-color: #E2EBFA;\n",
              "      box-shadow: 0px 1px 2px rgba(60, 64, 67, 0.3), 0px 1px 3px 1px rgba(60, 64, 67, 0.15);\n",
              "      fill: #174EA6;\n",
              "    }\n",
              "\n",
              "    .colab-df-buttons div {\n",
              "      margin-bottom: 4px;\n",
              "    }\n",
              "\n",
              "    [theme=dark] .colab-df-convert {\n",
              "      background-color: #3B4455;\n",
              "      fill: #D2E3FC;\n",
              "    }\n",
              "\n",
              "    [theme=dark] .colab-df-convert:hover {\n",
              "      background-color: #434B5C;\n",
              "      box-shadow: 0px 1px 3px 1px rgba(0, 0, 0, 0.15);\n",
              "      filter: drop-shadow(0px 1px 2px rgba(0, 0, 0, 0.3));\n",
              "      fill: #FFFFFF;\n",
              "    }\n",
              "  </style>\n",
              "\n",
              "    <script>\n",
              "      const buttonEl =\n",
              "        document.querySelector('#df-def72657-6090-4456-94cb-63f16b518906 button.colab-df-convert');\n",
              "      buttonEl.style.display =\n",
              "        google.colab.kernel.accessAllowed ? 'block' : 'none';\n",
              "\n",
              "      async function convertToInteractive(key) {\n",
              "        const element = document.querySelector('#df-def72657-6090-4456-94cb-63f16b518906');\n",
              "        const dataTable =\n",
              "          await google.colab.kernel.invokeFunction('convertToInteractive',\n",
              "                                                    [key], {});\n",
              "        if (!dataTable) return;\n",
              "\n",
              "        const docLinkHtml = 'Like what you see? Visit the ' +\n",
              "          '<a target=\"_blank\" href=https://colab.research.google.com/notebooks/data_table.ipynb>data table notebook</a>'\n",
              "          + ' to learn more about interactive tables.';\n",
              "        element.innerHTML = '';\n",
              "        dataTable['output_type'] = 'display_data';\n",
              "        await google.colab.output.renderOutput(dataTable, element);\n",
              "        const docLink = document.createElement('div');\n",
              "        docLink.innerHTML = docLinkHtml;\n",
              "        element.appendChild(docLink);\n",
              "      }\n",
              "    </script>\n",
              "  </div>\n",
              "\n",
              "\n",
              "<div id=\"df-2c00083b-25df-4874-bea5-e134722f8705\">\n",
              "  <button class=\"colab-df-quickchart\" onclick=\"quickchart('df-2c00083b-25df-4874-bea5-e134722f8705')\"\n",
              "            title=\"Suggest charts\"\n",
              "            style=\"display:none;\">\n",
              "\n",
              "<svg xmlns=\"http://www.w3.org/2000/svg\" height=\"24px\"viewBox=\"0 0 24 24\"\n",
              "     width=\"24px\">\n",
              "    <g>\n",
              "        <path d=\"M19 3H5c-1.1 0-2 .9-2 2v14c0 1.1.9 2 2 2h14c1.1 0 2-.9 2-2V5c0-1.1-.9-2-2-2zM9 17H7v-7h2v7zm4 0h-2V7h2v10zm4 0h-2v-4h2v4z\"/>\n",
              "    </g>\n",
              "</svg>\n",
              "  </button>\n",
              "\n",
              "<style>\n",
              "  .colab-df-quickchart {\n",
              "      --bg-color: #E8F0FE;\n",
              "      --fill-color: #1967D2;\n",
              "      --hover-bg-color: #E2EBFA;\n",
              "      --hover-fill-color: #174EA6;\n",
              "      --disabled-fill-color: #AAA;\n",
              "      --disabled-bg-color: #DDD;\n",
              "  }\n",
              "\n",
              "  [theme=dark] .colab-df-quickchart {\n",
              "      --bg-color: #3B4455;\n",
              "      --fill-color: #D2E3FC;\n",
              "      --hover-bg-color: #434B5C;\n",
              "      --hover-fill-color: #FFFFFF;\n",
              "      --disabled-bg-color: #3B4455;\n",
              "      --disabled-fill-color: #666;\n",
              "  }\n",
              "\n",
              "  .colab-df-quickchart {\n",
              "    background-color: var(--bg-color);\n",
              "    border: none;\n",
              "    border-radius: 50%;\n",
              "    cursor: pointer;\n",
              "    display: none;\n",
              "    fill: var(--fill-color);\n",
              "    height: 32px;\n",
              "    padding: 0;\n",
              "    width: 32px;\n",
              "  }\n",
              "\n",
              "  .colab-df-quickchart:hover {\n",
              "    background-color: var(--hover-bg-color);\n",
              "    box-shadow: 0 1px 2px rgba(60, 64, 67, 0.3), 0 1px 3px 1px rgba(60, 64, 67, 0.15);\n",
              "    fill: var(--button-hover-fill-color);\n",
              "  }\n",
              "\n",
              "  .colab-df-quickchart-complete:disabled,\n",
              "  .colab-df-quickchart-complete:disabled:hover {\n",
              "    background-color: var(--disabled-bg-color);\n",
              "    fill: var(--disabled-fill-color);\n",
              "    box-shadow: none;\n",
              "  }\n",
              "\n",
              "  .colab-df-spinner {\n",
              "    border: 2px solid var(--fill-color);\n",
              "    border-color: transparent;\n",
              "    border-bottom-color: var(--fill-color);\n",
              "    animation:\n",
              "      spin 1s steps(1) infinite;\n",
              "  }\n",
              "\n",
              "  @keyframes spin {\n",
              "    0% {\n",
              "      border-color: transparent;\n",
              "      border-bottom-color: var(--fill-color);\n",
              "      border-left-color: var(--fill-color);\n",
              "    }\n",
              "    20% {\n",
              "      border-color: transparent;\n",
              "      border-left-color: var(--fill-color);\n",
              "      border-top-color: var(--fill-color);\n",
              "    }\n",
              "    30% {\n",
              "      border-color: transparent;\n",
              "      border-left-color: var(--fill-color);\n",
              "      border-top-color: var(--fill-color);\n",
              "      border-right-color: var(--fill-color);\n",
              "    }\n",
              "    40% {\n",
              "      border-color: transparent;\n",
              "      border-right-color: var(--fill-color);\n",
              "      border-top-color: var(--fill-color);\n",
              "    }\n",
              "    60% {\n",
              "      border-color: transparent;\n",
              "      border-right-color: var(--fill-color);\n",
              "    }\n",
              "    80% {\n",
              "      border-color: transparent;\n",
              "      border-right-color: var(--fill-color);\n",
              "      border-bottom-color: var(--fill-color);\n",
              "    }\n",
              "    90% {\n",
              "      border-color: transparent;\n",
              "      border-bottom-color: var(--fill-color);\n",
              "    }\n",
              "  }\n",
              "</style>\n",
              "\n",
              "  <script>\n",
              "    async function quickchart(key) {\n",
              "      const quickchartButtonEl =\n",
              "        document.querySelector('#' + key + ' button');\n",
              "      quickchartButtonEl.disabled = true;  // To prevent multiple clicks.\n",
              "      quickchartButtonEl.classList.add('colab-df-spinner');\n",
              "      try {\n",
              "        const charts = await google.colab.kernel.invokeFunction(\n",
              "            'suggestCharts', [key], {});\n",
              "      } catch (error) {\n",
              "        console.error('Error during call to suggestCharts:', error);\n",
              "      }\n",
              "      quickchartButtonEl.classList.remove('colab-df-spinner');\n",
              "      quickchartButtonEl.classList.add('colab-df-quickchart-complete');\n",
              "    }\n",
              "    (() => {\n",
              "      let quickchartButtonEl =\n",
              "        document.querySelector('#df-2c00083b-25df-4874-bea5-e134722f8705 button');\n",
              "      quickchartButtonEl.style.display =\n",
              "        google.colab.kernel.accessAllowed ? 'block' : 'none';\n",
              "    })();\n",
              "  </script>\n",
              "</div>\n",
              "\n",
              "  <div id=\"id_de686ff4-d025-48a8-b698-54c86438e5d6\">\n",
              "    <style>\n",
              "      .colab-df-generate {\n",
              "        background-color: #E8F0FE;\n",
              "        border: none;\n",
              "        border-radius: 50%;\n",
              "        cursor: pointer;\n",
              "        display: none;\n",
              "        fill: #1967D2;\n",
              "        height: 32px;\n",
              "        padding: 0 0 0 0;\n",
              "        width: 32px;\n",
              "      }\n",
              "\n",
              "      .colab-df-generate:hover {\n",
              "        background-color: #E2EBFA;\n",
              "        box-shadow: 0px 1px 2px rgba(60, 64, 67, 0.3), 0px 1px 3px 1px rgba(60, 64, 67, 0.15);\n",
              "        fill: #174EA6;\n",
              "      }\n",
              "\n",
              "      [theme=dark] .colab-df-generate {\n",
              "        background-color: #3B4455;\n",
              "        fill: #D2E3FC;\n",
              "      }\n",
              "\n",
              "      [theme=dark] .colab-df-generate:hover {\n",
              "        background-color: #434B5C;\n",
              "        box-shadow: 0px 1px 3px 1px rgba(0, 0, 0, 0.15);\n",
              "        filter: drop-shadow(0px 1px 2px rgba(0, 0, 0, 0.3));\n",
              "        fill: #FFFFFF;\n",
              "      }\n",
              "    </style>\n",
              "    <button class=\"colab-df-generate\" onclick=\"generateWithVariable('data')\"\n",
              "            title=\"Generate code using this dataframe.\"\n",
              "            style=\"display:none;\">\n",
              "\n",
              "  <svg xmlns=\"http://www.w3.org/2000/svg\" height=\"24px\"viewBox=\"0 0 24 24\"\n",
              "       width=\"24px\">\n",
              "    <path d=\"M7,19H8.4L18.45,9,17,7.55,7,17.6ZM5,21V16.75L18.45,3.32a2,2,0,0,1,2.83,0l1.4,1.43a1.91,1.91,0,0,1,.58,1.4,1.91,1.91,0,0,1-.58,1.4L9.25,21ZM18.45,9,17,7.55Zm-12,3A5.31,5.31,0,0,0,4.9,8.1,5.31,5.31,0,0,0,1,6.5,5.31,5.31,0,0,0,4.9,4.9,5.31,5.31,0,0,0,6.5,1,5.31,5.31,0,0,0,8.1,4.9,5.31,5.31,0,0,0,12,6.5,5.46,5.46,0,0,0,6.5,12Z\"/>\n",
              "  </svg>\n",
              "    </button>\n",
              "    <script>\n",
              "      (() => {\n",
              "      const buttonEl =\n",
              "        document.querySelector('#id_de686ff4-d025-48a8-b698-54c86438e5d6 button.colab-df-generate');\n",
              "      buttonEl.style.display =\n",
              "        google.colab.kernel.accessAllowed ? 'block' : 'none';\n",
              "\n",
              "      buttonEl.onclick = () => {\n",
              "        google.colab.notebook.generateWithVariable('data');\n",
              "      }\n",
              "      })();\n",
              "    </script>\n",
              "  </div>\n",
              "\n",
              "    </div>\n",
              "  </div>\n"
            ],
            "application/vnd.google.colaboratory.intrinsic+json": {
              "type": "dataframe",
              "variable_name": "data"
            }
          },
          "metadata": {},
          "execution_count": 18
        }
      ]
    },
    {
      "cell_type": "code",
      "source": [
        "data.info()"
      ],
      "metadata": {
        "id": "MBB0ggNfebWH",
        "colab": {
          "base_uri": "https://localhost:8080/"
        },
        "outputId": "be0ff07e-7eb2-4f86-d74a-613c76104e67"
      },
      "execution_count": null,
      "outputs": [
        {
          "output_type": "stream",
          "name": "stdout",
          "text": [
            "<class 'pandas.core.frame.DataFrame'>\n",
            "RangeIndex: 440905 entries, 0 to 440904\n",
            "Data columns (total 3 columns):\n",
            " #   Column       Non-Null Count   Dtype \n",
            "---  ------       --------------   ----- \n",
            " 0   Content      440905 non-null  object\n",
            " 1   Label        440905 non-null  object\n",
            " 2   Content_int  440905 non-null  object\n",
            "dtypes: object(3)\n",
            "memory usage: 10.1+ MB\n"
          ]
        }
      ]
    },
    {
      "cell_type": "code",
      "source": [
        "data.head(5)"
      ],
      "metadata": {
        "id": "ufplqBuIl0T0",
        "colab": {
          "base_uri": "https://localhost:8080/",
          "height": 206
        },
        "outputId": "298f6806-4651-4909-e221-283359455d78"
      },
      "execution_count": null,
      "outputs": [
        {
          "output_type": "execute_result",
          "data": {
            "text/plain": [
              "                                             Content Label  \\\n",
              "0  denial of normal the con be asked to comment o...     1   \n",
              "1  just by being able to tweet this insufferable ...     1   \n",
              "2  that is retarded you too cute to be single tha...     1   \n",
              "3  thought of a real badass mongol style declarat...     1   \n",
              "4                                afro american basho     1   \n",
              "\n",
              "                                         Content_int  \n",
              "0  [146715, 0, 1, 2, 3, 4, 5, 6, 7, 8, 9, 10, 11,...  \n",
              "1  [146715, 14, 15, 16, 17, 7, 18, 19, 20, 21, 22...  \n",
              "2  [146715, 28, 29, 30, 26, 31, 32, 7, 5, 33, 28,...  \n",
              "3  [146715, 35, 1, 24, 36, 37, 38, 39, 40, 1, 41,...  \n",
              "4                       [146715, 46, 47, 48, 146714]  "
            ],
            "text/html": [
              "\n",
              "  <div id=\"df-360a5742-202c-4d63-93d0-c354479b663c\" class=\"colab-df-container\">\n",
              "    <div>\n",
              "<style scoped>\n",
              "    .dataframe tbody tr th:only-of-type {\n",
              "        vertical-align: middle;\n",
              "    }\n",
              "\n",
              "    .dataframe tbody tr th {\n",
              "        vertical-align: top;\n",
              "    }\n",
              "\n",
              "    .dataframe thead th {\n",
              "        text-align: right;\n",
              "    }\n",
              "</style>\n",
              "<table border=\"1\" class=\"dataframe\">\n",
              "  <thead>\n",
              "    <tr style=\"text-align: right;\">\n",
              "      <th></th>\n",
              "      <th>Content</th>\n",
              "      <th>Label</th>\n",
              "      <th>Content_int</th>\n",
              "    </tr>\n",
              "  </thead>\n",
              "  <tbody>\n",
              "    <tr>\n",
              "      <th>0</th>\n",
              "      <td>denial of normal the con be asked to comment o...</td>\n",
              "      <td>1</td>\n",
              "      <td>[146715, 0, 1, 2, 3, 4, 5, 6, 7, 8, 9, 10, 11,...</td>\n",
              "    </tr>\n",
              "    <tr>\n",
              "      <th>1</th>\n",
              "      <td>just by being able to tweet this insufferable ...</td>\n",
              "      <td>1</td>\n",
              "      <td>[146715, 14, 15, 16, 17, 7, 18, 19, 20, 21, 22...</td>\n",
              "    </tr>\n",
              "    <tr>\n",
              "      <th>2</th>\n",
              "      <td>that is retarded you too cute to be single tha...</td>\n",
              "      <td>1</td>\n",
              "      <td>[146715, 28, 29, 30, 26, 31, 32, 7, 5, 33, 28,...</td>\n",
              "    </tr>\n",
              "    <tr>\n",
              "      <th>3</th>\n",
              "      <td>thought of a real badass mongol style declarat...</td>\n",
              "      <td>1</td>\n",
              "      <td>[146715, 35, 1, 24, 36, 37, 38, 39, 40, 1, 41,...</td>\n",
              "    </tr>\n",
              "    <tr>\n",
              "      <th>4</th>\n",
              "      <td>afro american basho</td>\n",
              "      <td>1</td>\n",
              "      <td>[146715, 46, 47, 48, 146714]</td>\n",
              "    </tr>\n",
              "  </tbody>\n",
              "</table>\n",
              "</div>\n",
              "    <div class=\"colab-df-buttons\">\n",
              "\n",
              "  <div class=\"colab-df-container\">\n",
              "    <button class=\"colab-df-convert\" onclick=\"convertToInteractive('df-360a5742-202c-4d63-93d0-c354479b663c')\"\n",
              "            title=\"Convert this dataframe to an interactive table.\"\n",
              "            style=\"display:none;\">\n",
              "\n",
              "  <svg xmlns=\"http://www.w3.org/2000/svg\" height=\"24px\" viewBox=\"0 -960 960 960\">\n",
              "    <path d=\"M120-120v-720h720v720H120Zm60-500h600v-160H180v160Zm220 220h160v-160H400v160Zm0 220h160v-160H400v160ZM180-400h160v-160H180v160Zm440 0h160v-160H620v160ZM180-180h160v-160H180v160Zm440 0h160v-160H620v160Z\"/>\n",
              "  </svg>\n",
              "    </button>\n",
              "\n",
              "  <style>\n",
              "    .colab-df-container {\n",
              "      display:flex;\n",
              "      gap: 12px;\n",
              "    }\n",
              "\n",
              "    .colab-df-convert {\n",
              "      background-color: #E8F0FE;\n",
              "      border: none;\n",
              "      border-radius: 50%;\n",
              "      cursor: pointer;\n",
              "      display: none;\n",
              "      fill: #1967D2;\n",
              "      height: 32px;\n",
              "      padding: 0 0 0 0;\n",
              "      width: 32px;\n",
              "    }\n",
              "\n",
              "    .colab-df-convert:hover {\n",
              "      background-color: #E2EBFA;\n",
              "      box-shadow: 0px 1px 2px rgba(60, 64, 67, 0.3), 0px 1px 3px 1px rgba(60, 64, 67, 0.15);\n",
              "      fill: #174EA6;\n",
              "    }\n",
              "\n",
              "    .colab-df-buttons div {\n",
              "      margin-bottom: 4px;\n",
              "    }\n",
              "\n",
              "    [theme=dark] .colab-df-convert {\n",
              "      background-color: #3B4455;\n",
              "      fill: #D2E3FC;\n",
              "    }\n",
              "\n",
              "    [theme=dark] .colab-df-convert:hover {\n",
              "      background-color: #434B5C;\n",
              "      box-shadow: 0px 1px 3px 1px rgba(0, 0, 0, 0.15);\n",
              "      filter: drop-shadow(0px 1px 2px rgba(0, 0, 0, 0.3));\n",
              "      fill: #FFFFFF;\n",
              "    }\n",
              "  </style>\n",
              "\n",
              "    <script>\n",
              "      const buttonEl =\n",
              "        document.querySelector('#df-360a5742-202c-4d63-93d0-c354479b663c button.colab-df-convert');\n",
              "      buttonEl.style.display =\n",
              "        google.colab.kernel.accessAllowed ? 'block' : 'none';\n",
              "\n",
              "      async function convertToInteractive(key) {\n",
              "        const element = document.querySelector('#df-360a5742-202c-4d63-93d0-c354479b663c');\n",
              "        const dataTable =\n",
              "          await google.colab.kernel.invokeFunction('convertToInteractive',\n",
              "                                                    [key], {});\n",
              "        if (!dataTable) return;\n",
              "\n",
              "        const docLinkHtml = 'Like what you see? Visit the ' +\n",
              "          '<a target=\"_blank\" href=https://colab.research.google.com/notebooks/data_table.ipynb>data table notebook</a>'\n",
              "          + ' to learn more about interactive tables.';\n",
              "        element.innerHTML = '';\n",
              "        dataTable['output_type'] = 'display_data';\n",
              "        await google.colab.output.renderOutput(dataTable, element);\n",
              "        const docLink = document.createElement('div');\n",
              "        docLink.innerHTML = docLinkHtml;\n",
              "        element.appendChild(docLink);\n",
              "      }\n",
              "    </script>\n",
              "  </div>\n",
              "\n",
              "\n",
              "<div id=\"df-4b164a59-80ab-493a-8601-7c98c404d18f\">\n",
              "  <button class=\"colab-df-quickchart\" onclick=\"quickchart('df-4b164a59-80ab-493a-8601-7c98c404d18f')\"\n",
              "            title=\"Suggest charts\"\n",
              "            style=\"display:none;\">\n",
              "\n",
              "<svg xmlns=\"http://www.w3.org/2000/svg\" height=\"24px\"viewBox=\"0 0 24 24\"\n",
              "     width=\"24px\">\n",
              "    <g>\n",
              "        <path d=\"M19 3H5c-1.1 0-2 .9-2 2v14c0 1.1.9 2 2 2h14c1.1 0 2-.9 2-2V5c0-1.1-.9-2-2-2zM9 17H7v-7h2v7zm4 0h-2V7h2v10zm4 0h-2v-4h2v4z\"/>\n",
              "    </g>\n",
              "</svg>\n",
              "  </button>\n",
              "\n",
              "<style>\n",
              "  .colab-df-quickchart {\n",
              "      --bg-color: #E8F0FE;\n",
              "      --fill-color: #1967D2;\n",
              "      --hover-bg-color: #E2EBFA;\n",
              "      --hover-fill-color: #174EA6;\n",
              "      --disabled-fill-color: #AAA;\n",
              "      --disabled-bg-color: #DDD;\n",
              "  }\n",
              "\n",
              "  [theme=dark] .colab-df-quickchart {\n",
              "      --bg-color: #3B4455;\n",
              "      --fill-color: #D2E3FC;\n",
              "      --hover-bg-color: #434B5C;\n",
              "      --hover-fill-color: #FFFFFF;\n",
              "      --disabled-bg-color: #3B4455;\n",
              "      --disabled-fill-color: #666;\n",
              "  }\n",
              "\n",
              "  .colab-df-quickchart {\n",
              "    background-color: var(--bg-color);\n",
              "    border: none;\n",
              "    border-radius: 50%;\n",
              "    cursor: pointer;\n",
              "    display: none;\n",
              "    fill: var(--fill-color);\n",
              "    height: 32px;\n",
              "    padding: 0;\n",
              "    width: 32px;\n",
              "  }\n",
              "\n",
              "  .colab-df-quickchart:hover {\n",
              "    background-color: var(--hover-bg-color);\n",
              "    box-shadow: 0 1px 2px rgba(60, 64, 67, 0.3), 0 1px 3px 1px rgba(60, 64, 67, 0.15);\n",
              "    fill: var(--button-hover-fill-color);\n",
              "  }\n",
              "\n",
              "  .colab-df-quickchart-complete:disabled,\n",
              "  .colab-df-quickchart-complete:disabled:hover {\n",
              "    background-color: var(--disabled-bg-color);\n",
              "    fill: var(--disabled-fill-color);\n",
              "    box-shadow: none;\n",
              "  }\n",
              "\n",
              "  .colab-df-spinner {\n",
              "    border: 2px solid var(--fill-color);\n",
              "    border-color: transparent;\n",
              "    border-bottom-color: var(--fill-color);\n",
              "    animation:\n",
              "      spin 1s steps(1) infinite;\n",
              "  }\n",
              "\n",
              "  @keyframes spin {\n",
              "    0% {\n",
              "      border-color: transparent;\n",
              "      border-bottom-color: var(--fill-color);\n",
              "      border-left-color: var(--fill-color);\n",
              "    }\n",
              "    20% {\n",
              "      border-color: transparent;\n",
              "      border-left-color: var(--fill-color);\n",
              "      border-top-color: var(--fill-color);\n",
              "    }\n",
              "    30% {\n",
              "      border-color: transparent;\n",
              "      border-left-color: var(--fill-color);\n",
              "      border-top-color: var(--fill-color);\n",
              "      border-right-color: var(--fill-color);\n",
              "    }\n",
              "    40% {\n",
              "      border-color: transparent;\n",
              "      border-right-color: var(--fill-color);\n",
              "      border-top-color: var(--fill-color);\n",
              "    }\n",
              "    60% {\n",
              "      border-color: transparent;\n",
              "      border-right-color: var(--fill-color);\n",
              "    }\n",
              "    80% {\n",
              "      border-color: transparent;\n",
              "      border-right-color: var(--fill-color);\n",
              "      border-bottom-color: var(--fill-color);\n",
              "    }\n",
              "    90% {\n",
              "      border-color: transparent;\n",
              "      border-bottom-color: var(--fill-color);\n",
              "    }\n",
              "  }\n",
              "</style>\n",
              "\n",
              "  <script>\n",
              "    async function quickchart(key) {\n",
              "      const quickchartButtonEl =\n",
              "        document.querySelector('#' + key + ' button');\n",
              "      quickchartButtonEl.disabled = true;  // To prevent multiple clicks.\n",
              "      quickchartButtonEl.classList.add('colab-df-spinner');\n",
              "      try {\n",
              "        const charts = await google.colab.kernel.invokeFunction(\n",
              "            'suggestCharts', [key], {});\n",
              "      } catch (error) {\n",
              "        console.error('Error during call to suggestCharts:', error);\n",
              "      }\n",
              "      quickchartButtonEl.classList.remove('colab-df-spinner');\n",
              "      quickchartButtonEl.classList.add('colab-df-quickchart-complete');\n",
              "    }\n",
              "    (() => {\n",
              "      let quickchartButtonEl =\n",
              "        document.querySelector('#df-4b164a59-80ab-493a-8601-7c98c404d18f button');\n",
              "      quickchartButtonEl.style.display =\n",
              "        google.colab.kernel.accessAllowed ? 'block' : 'none';\n",
              "    })();\n",
              "  </script>\n",
              "</div>\n",
              "\n",
              "    </div>\n",
              "  </div>\n"
            ],
            "application/vnd.google.colaboratory.intrinsic+json": {
              "type": "dataframe",
              "variable_name": "data"
            }
          },
          "metadata": {},
          "execution_count": 20
        }
      ]
    },
    {
      "cell_type": "code",
      "source": [
        "data[\"Content\"][0].split()"
      ],
      "metadata": {
        "id": "vXAvOgtnm-Z8",
        "colab": {
          "base_uri": "https://localhost:8080/"
        },
        "outputId": "8471b88f-17c9-4431-c18d-a5568ce99e56"
      },
      "execution_count": null,
      "outputs": [
        {
          "output_type": "execute_result",
          "data": {
            "text/plain": [
              "['denial',\n",
              " 'of',\n",
              " 'normal',\n",
              " 'the',\n",
              " 'con',\n",
              " 'be',\n",
              " 'asked',\n",
              " 'to',\n",
              " 'comment',\n",
              " 'on',\n",
              " 'tragedies',\n",
              " 'an',\n",
              " 'emotional',\n",
              " 'retard']"
            ]
          },
          "metadata": {},
          "execution_count": 21
        }
      ]
    },
    {
      "cell_type": "code",
      "source": [
        "#split the train data and test data\n",
        "\n",
        "x, y = data['Content'] , data['Label']\n",
        "train_split = int(0.7 * x.shape[0])\n",
        "x_train, y_train = x[:train_split], y[:train_split]\n",
        "x_test, y_test = x[train_split:], y[train_split:]\n",
        "x_train.shape, y_train.shape, x_test.shape, y_test.shape"
      ],
      "metadata": {
        "id": "Jd4El5gAv6yH",
        "colab": {
          "base_uri": "https://localhost:8080/"
        },
        "outputId": "d7bbb18f-a2a9-48cc-d200-fef0a02ab0ac"
      },
      "execution_count": null,
      "outputs": [
        {
          "output_type": "execute_result",
          "data": {
            "text/plain": [
              "((308633,), (308633,), (132272,), (132272,))"
            ]
          },
          "metadata": {},
          "execution_count": 22
        }
      ]
    },
    {
      "cell_type": "code",
      "source": [
        "#make data structure\n",
        "# zero is positive , one is negative\n",
        "train_dict = [{'words': sentence.split(), 'class': 'neg' if label == 1 else 'pos'} for sentence, label in zip(x_train, y_train)]\n",
        "test_dict = [{'words': sentence.split(), 'class': 'neg' if label == 1 else 'pos'} for sentence, label in zip(x_test, y_test)]\n",
        "\n",
        "print(train_dict[0])\n",
        "print(test_dict[0])"
      ],
      "metadata": {
        "id": "0ssoGXBMv77P",
        "colab": {
          "base_uri": "https://localhost:8080/"
        },
        "outputId": "13a76993-18f9-49ab-ac04-e053f4ee6bb7"
      },
      "execution_count": null,
      "outputs": [
        {
          "output_type": "stream",
          "name": "stdout",
          "text": [
            "{'words': ['denial', 'of', 'normal', 'the', 'con', 'be', 'asked', 'to', 'comment', 'on', 'tragedies', 'an', 'emotional', 'retard'], 'class': 'pos'}\n",
            "{'words': ['kicking', 'off', 'the', 'european', 'vacation', 'tour', 'at', 'buckinghampalace'], 'class': 'pos'}\n"
          ]
        }
      ]
    },
    {
      "cell_type": "code",
      "source": [
        "#build data in pandas format\n",
        "# content | bag of words | class"
      ],
      "metadata": {
        "id": "OnZMJTqFBNrW"
      },
      "execution_count": null,
      "outputs": []
    },
    {
      "cell_type": "markdown",
      "source": [
        "# Analysis on Sentence, Words and Class"
      ],
      "metadata": {
        "id": "4IfVsw7jBRZH"
      }
    },
    {
      "cell_type": "code",
      "source": [],
      "metadata": {
        "id": "DQfJU8IhBbKL"
      },
      "execution_count": null,
      "outputs": []
    },
    {
      "cell_type": "markdown",
      "source": [
        "# System Development\n",
        "- training models including NaiveBayes clssifer, SVM and LSTM\n",
        "- Intrinsic evalution on each models\n",
        "- optimization on each models\n"
      ],
      "metadata": {
        "id": "duUKvFB7qjmh"
      }
    },
    {
      "cell_type": "markdown",
      "source": [
        "# NaiveBayes Model"
      ],
      "metadata": {
        "id": "xttQZN0-oGIK"
      }
    },
    {
      "cell_type": "markdown",
      "source": [
        "In class method (lab1)"
      ],
      "metadata": {
        "id": "IIvtRL7PpcGy"
      }
    },
    {
      "cell_type": "code",
      "source": [
        "class NaiveBayes(object):\n",
        "\n",
        "    def predict(self, d): #d is data, represent a sentense\n",
        "        # TODO: Replace the following line with your own code to solve Problem 2\n",
        "        pr_P=0 #positive\n",
        "        pr_N=0 #negative\n",
        "        for word in d:\n",
        "            if word in self.vocabulary:\n",
        "                pr_P=pr_P+self.pw['pos'][word] #pw means Pr(w|c)\n",
        "                pr_N=pr_N+self.pw['neg'][word]\n",
        "            else:\n",
        "                pass\n",
        "        pr_P=pr_P+self.pc['pos']\n",
        "        pr_N=pr_N+self.pc['neg']\n",
        "        # print(\"predict finished\")\n",
        "        if(pr_P>pr_N):\n",
        "            return 'pos'\n",
        "        else:\n",
        "            return 'neg'\n",
        "\n",
        "\n",
        "    @classmethod\n",
        "    def train(cls, data, k=1):\n",
        "        # The following line creates a new object of type OurClassifier:\n",
        "        classifier = cls()\n",
        "        # The next few lines initialise the four attributes of the classifier:\n",
        "        classifier.classes = set()\n",
        "        classifier.vocabulary = set()\n",
        "        classifier.pc = {}\n",
        "        classifier.pw = {}\n",
        "\n",
        "        # TODO: Insert code to solve Problem 2\n",
        "\n",
        "        for i in range(len(data)): #create classes and count occurance numbers\n",
        "            newclass=data[i]['class']\n",
        "            if newclass not in classifier.classes:\n",
        "                classifier.classes.add(newclass) #add newclass\n",
        "                classifier.pc[newclass]=1        #initialize the occurance number of this new class\n",
        "                classifier.pw[newclass]={}        #create the new class dictionary of probability\n",
        "\n",
        "            else:\n",
        "                classifier.pc[newclass]+=1       #increment occurrence count of the existing class by 1\n",
        "\n",
        "        for classes in classifier.pc: #calculate probabilities of classes\n",
        "            classifier.pc[classes]=math.log(classifier.pc[classes]/len(data))\n",
        "\n",
        "        for i in range(len(data)): #create vocabulary and count occurance numbers\n",
        "            thisclass=data[i]['class']\n",
        "            sentence=data[i]['words']\n",
        "            for words in sentence:\n",
        "                if words not in classifier.vocabulary: #if we find a new word\n",
        "                    classifier.vocabulary.add(words)\n",
        "                    for c in classifier.classes:\n",
        "                        classifier.pw[c][words]=k\n",
        "                    classifier.pw[thisclass][words]+=1\n",
        "                else:\n",
        "                    classifier.pw[thisclass][words]+=1\n",
        "        for c in classifier.pw:\n",
        "            total=sum(list(classifier.pw[c].values()))\n",
        "            for word in classifier.pw[c]:\n",
        "                classifier.pw[c][word]=math.log(classifier.pw[c][word]/total)\n",
        "\n",
        "        return classifier"
      ],
      "metadata": {
        "id": "cMHVcDj5pzc-"
      },
      "execution_count": null,
      "outputs": []
    },
    {
      "cell_type": "code",
      "source": [
        "classifier=NaiveBayes.train(train_dict)"
      ],
      "metadata": {
        "id": "-wUkoJlBjEts"
      },
      "execution_count": null,
      "outputs": []
    },
    {
      "cell_type": "code",
      "source": [
        "classifier.pw[\"pos\"][\"denial\"]"
      ],
      "metadata": {
        "id": "OacfmN5BwQ9T",
        "colab": {
          "base_uri": "https://localhost:8080/"
        },
        "outputId": "e161806f-5689-443b-f195-2f01a6988c7c"
      },
      "execution_count": null,
      "outputs": [
        {
          "output_type": "execute_result",
          "data": {
            "text/plain": [
              "-10.022640035110399"
            ]
          },
          "metadata": {},
          "execution_count": 36
        }
      ]
    },
    {
      "cell_type": "code",
      "source": [
        "#evaluation in-class method\n",
        "\n",
        "#yeokwoon..."
      ],
      "metadata": {
        "id": "SmmHtBwK1jWp"
      },
      "execution_count": null,
      "outputs": []
    },
    {
      "cell_type": "markdown",
      "source": [
        "outsource libralies"
      ],
      "metadata": {
        "id": "8MYecmldpjyn"
      }
    },
    {
      "cell_type": "code",
      "source": [
        "#Aom"
      ],
      "metadata": {
        "id": "VhkuMpDG-RhV"
      },
      "execution_count": null,
      "outputs": []
    },
    {
      "cell_type": "code",
      "source": [
        "from sklearn.naive_bayes import MultinomialNB\n",
        "\n",
        "# Model training\n",
        "model.fit(X_train, y_train)\n",
        "\n",
        "# Predict Output\n",
        "predicted = model.predict([X_test[6]])"
      ],
      "metadata": {
        "id": "Y2c7tmgBpwxv"
      },
      "execution_count": null,
      "outputs": []
    },
    {
      "cell_type": "markdown",
      "source": [
        "# SVM Model"
      ],
      "metadata": {
        "id": "5szR6ufWp4E_"
      }
    },
    {
      "cell_type": "code",
      "source": [
        "#yeokwoon"
      ],
      "metadata": {
        "id": "PqGL4uGYp3VA"
      },
      "execution_count": null,
      "outputs": []
    },
    {
      "cell_type": "markdown",
      "source": [
        "# LSTM Model"
      ],
      "metadata": {
        "id": "qLy18T61pynH"
      }
    },
    {
      "cell_type": "code",
      "source": [
        "#Aom"
      ],
      "metadata": {
        "id": "M6ANHNSZp_Zt"
      },
      "execution_count": null,
      "outputs": []
    },
    {
      "cell_type": "markdown",
      "source": [
        "# Systems Evaluation and Result Analysis"
      ],
      "metadata": {
        "id": "qmrQYiPEqCgI"
      }
    },
    {
      "cell_type": "markdown",
      "source": [
        "Testing model with xxxx data\n",
        "This data is from ......"
      ],
      "metadata": {
        "id": "AiMLTP2RuCKz"
      }
    },
    {
      "cell_type": "code",
      "source": [],
      "metadata": {
        "id": "tOF0DvZauBca"
      },
      "execution_count": null,
      "outputs": []
    },
    {
      "cell_type": "markdown",
      "source": [
        "**Comparison Performance on Different Models**"
      ],
      "metadata": {
        "id": "tNnT6QQfsJpV"
      }
    },
    {
      "cell_type": "markdown",
      "source": [
        "performance on testing dataset"
      ],
      "metadata": {
        "id": "84ITY2zCugji"
      }
    },
    {
      "cell_type": "code",
      "source": [],
      "metadata": {
        "id": "r5gqq1MfsFG6"
      },
      "execution_count": null,
      "outputs": []
    },
    {
      "cell_type": "markdown",
      "source": [
        "performance on xxx dataset"
      ],
      "metadata": {
        "id": "_80o4da7upM-"
      }
    },
    {
      "cell_type": "code",
      "source": [],
      "metadata": {
        "id": "efMenHuyqRoB"
      },
      "execution_count": null,
      "outputs": []
    },
    {
      "cell_type": "markdown",
      "source": [
        "This illustration compares the final results"
      ],
      "metadata": {
        "id": "2-a1-xsLvaUs"
      }
    },
    {
      "cell_type": "code",
      "source": [],
      "metadata": {
        "id": "VPFxjVV4vYtX"
      },
      "execution_count": null,
      "outputs": []
    },
    {
      "cell_type": "markdown",
      "source": [
        "Final model will be : ...."
      ],
      "metadata": {
        "id": "1IjIKQZbsuln"
      }
    },
    {
      "cell_type": "code",
      "source": [],
      "metadata": {
        "id": "htukWtXovQMk"
      },
      "execution_count": null,
      "outputs": []
    },
    {
      "cell_type": "markdown",
      "source": [
        "# Model Deployment"
      ],
      "metadata": {
        "id": "CPxgUwRusXNk"
      }
    },
    {
      "cell_type": "code",
      "source": [
        "# model input - prompt"
      ],
      "metadata": {
        "id": "U6YgtCjftGlx"
      },
      "execution_count": null,
      "outputs": []
    }
  ]
}