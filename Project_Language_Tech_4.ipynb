{
  "cells": [
    {
      "cell_type": "markdown",
      "metadata": {
        "id": "view-in-github",
        "colab_type": "text"
      },
      "source": [
        "<a href=\"https://colab.research.google.com/github/Tunyalucklie/lantech/blob/main/Project_Language_Tech_4.ipynb\" target=\"_parent\"><img src=\"https://colab.research.google.com/assets/colab-badge.svg\" alt=\"Open In Colab\"/></a>"
      ]
    },
    {
      "cell_type": "markdown",
      "metadata": {
        "id": "2JgwI5SJm_uD"
      },
      "source": [
        "#**Sentiment analysis for content moderation in social media communities**\n",
        "\n",
        "\n"
      ]
    },
    {
      "cell_type": "markdown",
      "metadata": {
        "id": "2BWsw1I3wNNx"
      },
      "source": [
        "picture\n",
        "\n",
        "brief project explanation"
      ]
    },
    {
      "cell_type": "code",
      "execution_count": 1,
      "metadata": {
        "colab": {
          "base_uri": "https://localhost:8080/"
        },
        "id": "t6WIGfn6WvML",
        "outputId": "6176170a-da3d-461b-b9b8-f0af3f030e54"
      },
      "outputs": [
        {
          "output_type": "stream",
          "name": "stderr",
          "text": [
            "[nltk_data] Downloading package punkt to /root/nltk_data...\n",
            "[nltk_data]   Unzipping tokenizers/punkt.zip.\n",
            "[nltk_data] Downloading package wordnet to /root/nltk_data...\n",
            "[nltk_data] Downloading package stopwords to /root/nltk_data...\n",
            "[nltk_data]   Unzipping corpora/stopwords.zip.\n",
            "[nltk_data] Downloading package omw-1.4 to /root/nltk_data...\n",
            "[nltk_data] Downloading package averaged_perceptron_tagger to\n",
            "[nltk_data]     /root/nltk_data...\n",
            "[nltk_data]   Unzipping taggers/averaged_perceptron_tagger.zip.\n"
          ]
        },
        {
          "output_type": "execute_result",
          "data": {
            "text/plain": [
              "True"
            ]
          },
          "metadata": {},
          "execution_count": 1
        }
      ],
      "source": [
        "import os\n",
        "import math\n",
        "\n",
        "import pandas as pd\n",
        "import numpy as np\n",
        "import re\n",
        "\n",
        "import seaborn as sns\n",
        "import matplotlib.pyplot as plt\n",
        "\n",
        "import nltk\n",
        "from nltk.stem import WordNetLemmatizer\n",
        "from nltk.stem import PorterStemmer\n",
        "from nltk.tokenize import word_tokenize\n",
        "from nltk.corpus import stopwords\n",
        "nltk.download(\"punkt\")\n",
        "nltk.download('wordnet')\n",
        "nltk.download('stopwords')\n",
        "nltk.download('omw-1.4')\n",
        "nltk.download('averaged_perceptron_tagger')\n"
      ]
    },
    {
      "cell_type": "markdown",
      "metadata": {
        "id": "o4FOrgeTlJua"
      },
      "source": [
        "# Download Dataset"
      ]
    },
    {
      "cell_type": "code",
      "execution_count": 2,
      "metadata": {
        "id": "2EO5bkhmYLGq"
      },
      "outputs": [],
      "source": [
        "training_data = pd.read_csv(\"https://raw.githubusercontent.com/Tunyalucklie/lantech/main/training_data_project.csv\",encoding='utf-8')\n",
        "testing_data = pd.read_csv(\"https://raw.githubusercontent.com/Tunyalucklie/lantech/main/testing_data_project.csv\",encoding='utf-8')"
      ]
    },
    {
      "cell_type": "markdown",
      "metadata": {
        "id": "4-OWVXbowfQW"
      },
      "source": [
        "Dataset information: ....."
      ]
    },
    {
      "cell_type": "markdown",
      "metadata": {
        "id": "4IfVsw7jBRZH"
      },
      "source": [
        "# Analysis on Sentence, Words and Class"
      ]
    },
    {
      "cell_type": "code",
      "execution_count": null,
      "metadata": {
        "colab": {
          "base_uri": "https://localhost:8080/"
        },
        "id": "MBB0ggNfebWH",
        "outputId": "9857da52-371f-4dbb-904e-ef313d3833e5"
      },
      "outputs": [
        {
          "name": "stdout",
          "output_type": "stream",
          "text": [
            "<class 'pandas.core.frame.DataFrame'>\n",
            "RangeIndex: 25414 entries, 0 to 25413\n",
            "Data columns (total 2 columns):\n",
            " #   Column   Non-Null Count  Dtype \n",
            "---  ------   --------------  ----- \n",
            " 0   Content  25414 non-null  object\n",
            " 1   Label    25414 non-null  int64 \n",
            "dtypes: int64(1), object(1)\n",
            "memory usage: 397.2+ KB\n"
          ]
        }
      ],
      "source": [
        "training_data.info()"
      ]
    },
    {
      "cell_type": "code",
      "execution_count": null,
      "metadata": {
        "id": "Mqoh_MGOlJub",
        "outputId": "9ef788aa-f48d-4e7a-f11a-29540c226cf3"
      },
      "outputs": [
        {
          "name": "stdout",
          "output_type": "stream",
          "text": [
            "<class 'pandas.core.frame.DataFrame'>\n",
            "RangeIndex: 10892 entries, 0 to 10891\n",
            "Data columns (total 2 columns):\n",
            " #   Column   Non-Null Count  Dtype \n",
            "---  ------   --------------  ----- \n",
            " 0   Content  10892 non-null  object\n",
            " 1   Label    10892 non-null  int64 \n",
            "dtypes: int64(1), object(1)\n",
            "memory usage: 170.3+ KB\n"
          ]
        }
      ],
      "source": [
        "testing_data.info()"
      ]
    },
    {
      "cell_type": "code",
      "execution_count": null,
      "metadata": {
        "colab": {
          "base_uri": "https://localhost:8080/",
          "height": 204
        },
        "id": "ufplqBuIl0T0",
        "outputId": "3849862e-02d0-40d7-ea55-b6fd9a25a9c4"
      },
      "outputs": [
        {
          "data": {
            "text/html": [
              "<div>\n",
              "<style scoped>\n",
              "    .dataframe tbody tr th:only-of-type {\n",
              "        vertical-align: middle;\n",
              "    }\n",
              "\n",
              "    .dataframe tbody tr th {\n",
              "        vertical-align: top;\n",
              "    }\n",
              "\n",
              "    .dataframe thead th {\n",
              "        text-align: right;\n",
              "    }\n",
              "</style>\n",
              "<table border=\"1\" class=\"dataframe\">\n",
              "  <thead>\n",
              "    <tr style=\"text-align: right;\">\n",
              "      <th></th>\n",
              "      <th>Content</th>\n",
              "      <th>Label</th>\n",
              "    </tr>\n",
              "  </thead>\n",
              "  <tbody>\n",
              "    <tr>\n",
              "      <th>0</th>\n",
              "      <td>oppose removal after reading the above comment...</td>\n",
              "      <td>0</td>\n",
              "    </tr>\n",
              "    <tr>\n",
              "      <th>1</th>\n",
              "      <td>deleting my entries i have made several contri...</td>\n",
              "      <td>0</td>\n",
              "    </tr>\n",
              "    <tr>\n",
              "      <th>2</th>\n",
              "      <td>levi general takes stand end gun violence fran...</td>\n",
              "      <td>1</td>\n",
              "    </tr>\n",
              "    <tr>\n",
              "      <th>3</th>\n",
              "      <td>vojsku not applicable granite i sve to resit p...</td>\n",
              "      <td>1</td>\n",
              "    </tr>\n",
              "    <tr>\n",
              "      <th>4</th>\n",
              "      <td>the replies to this tweet illustrate the diffe...</td>\n",
              "      <td>0</td>\n",
              "    </tr>\n",
              "  </tbody>\n",
              "</table>\n",
              "</div>"
            ],
            "text/plain": [
              "                                             Content  Label\n",
              "0  oppose removal after reading the above comment...      0\n",
              "1  deleting my entries i have made several contri...      0\n",
              "2  levi general takes stand end gun violence fran...      1\n",
              "3  vojsku not applicable granite i sve to resit p...      1\n",
              "4  the replies to this tweet illustrate the diffe...      0"
            ]
          },
          "execution_count": 34,
          "metadata": {},
          "output_type": "execute_result"
        }
      ],
      "source": [
        "training_data.head(5)"
      ]
    },
    {
      "cell_type": "code",
      "execution_count": 14,
      "metadata": {
        "colab": {
          "base_uri": "https://localhost:8080/",
          "height": 472
        },
        "id": "DQfJU8IhBbKL",
        "outputId": "3b95a711-4ec6-41ca-bce0-a94b5626bc1f"
      },
      "outputs": [
        {
          "output_type": "display_data",
          "data": {
            "text/plain": [
              "<Figure size 640x480 with 1 Axes>"
            ],
            "image/png": "[encoded data removed]"
          },
          "metadata": {}
        }
      ],
      "source": [
        "#class value\n",
        "label_counts = training_data['Label'].value_counts()\n",
        "labels = ['neg', 'pos']\n",
        "colors = ['tab:red', 'tab:blue']\n",
        "\n",
        "plt.title('Class')\n",
        "plt.xlabel('class')\n",
        "plt.ylabel('Count')\n",
        "plt.bar(labels, label_counts, color=colors)\n",
        "plt.show()"
      ]
    },
    {
      "cell_type": "code",
      "execution_count": 15,
      "metadata": {
        "colab": {
          "base_uri": "https://localhost:8080/",
          "height": 448
        },
        "id": "YtZltV8KqLMt",
        "outputId": "82dd5897-0c4c-47f1-b0bd-3218d96b81c0"
      },
      "outputs": [
        {
          "output_type": "execute_result",
          "data": {
            "text/plain": [
              "<Axes: >"
            ]
          },
          "metadata": {},
          "execution_count": 15
        },
        {
          "output_type": "display_data",
          "data": {
            "text/plain": [
              "<Figure size 640x480 with 1 Axes>"
            ],
            "image/png": "[encoded data removed]"
          },
          "metadata": {}
        }
      ],
      "source": [
        "#sentence length\n",
        "training_data['Content'].str.len().hist(bins=100,range=(0,1750) )"
      ]
    },
    {
      "cell_type": "code",
      "execution_count": 16,
      "metadata": {
        "colab": {
          "base_uri": "https://localhost:8080/",
          "height": 448
        },
        "id": "Aws-9a4xv14_",
        "outputId": "aba5dfe5-a297-47e8-db3b-925815a571a8"
      },
      "outputs": [
        {
          "output_type": "execute_result",
          "data": {
            "text/plain": [
              "<Axes: >"
            ]
          },
          "metadata": {},
          "execution_count": 16
        },
        {
          "output_type": "display_data",
          "data": {
            "text/plain": [
              "<Figure size 640x480 with 1 Axes>"
            ],
            "image/png": "[encoded data removed]"
          },
          "metadata": {}
        }
      ],
      "source": [
        "#sentence length\n",
        "training_data['Content'].str.len().hist(bins=100,range=(0,500) )"
      ]
    },
    {
      "cell_type": "code",
      "source": [
        "#word_count\n",
        "from collections import Counter\n",
        "\n",
        "def graph_wordcount(text):\n",
        "\n",
        "    stop=set(stopwords.words('english'))\n",
        "    corpus=[]\n",
        "    new= text.str.split()\n",
        "    new=new.values.tolist()\n",
        "    corpus=[word for i in new for word in i]\n",
        "\n",
        "    counter= Counter(corpus)\n",
        "    most=counter.most_common()\n",
        "\n",
        "    x, y= [], []\n",
        "    for word,count in most[:20]:\n",
        "            x.append(word)\n",
        "            y.append(count)\n",
        "\n",
        "    sns.barplot(x=y,y=x)\n",
        "\n",
        "graph_wordcount(training_data['Content'])"
      ],
      "metadata": {
        "colab": {
          "base_uri": "https://localhost:8080/",
          "height": 430
        },
        "id": "SiefdLHgMZhT",
        "outputId": "40129f7f-619e-4f70-fab8-557459fe5e7e"
      },
      "execution_count": 24,
      "outputs": [
        {
          "output_type": "display_data",
          "data": {
            "text/plain": [
              "<Figure size 640x480 with 1 Axes>"
            ],
            "image/png": "[encoded data removed]"
          },
          "metadata": {}
        }
      ]
    },
    {
      "cell_type": "code",
      "execution_count": 25,
      "metadata": {
        "colab": {
          "base_uri": "https://localhost:8080/",
          "height": 430
        },
        "id": "5XaJQDsAuYQ6",
        "outputId": "a697abe4-614c-4bf0-84b2-8b26878e53c8"
      },
      "outputs": [
        {
          "output_type": "display_data",
          "data": {
            "text/plain": [
              "<Figure size 640x480 with 1 Axes>"
            ],
            "image/png": "[encoded data removed]"
          },
          "metadata": {}
        }
      ],
      "source": [
        "#count stopword\n",
        "def graph_stopwordcount(text):\n",
        "\n",
        "    stop=set(stopwords.words('english'))\n",
        "    corpus=[]\n",
        "    new= text.str.split()\n",
        "    new=new.values.tolist()\n",
        "    corpus=[word for i in new for word in i]\n",
        "\n",
        "    from collections import defaultdict\n",
        "    dic=defaultdict(int)\n",
        "    for word in corpus:\n",
        "        if word in stop:\n",
        "            dic[word]+=1\n",
        "\n",
        "    top=sorted(dic.items(), key=lambda x:x[1],reverse=True)[:10]\n",
        "    x,y=zip(*top)\n",
        "    plt.bar(x,y)\n",
        "\n",
        "graph_stopwordcount(training_data['Content'])"
      ]
    },
    {
      "cell_type": "code",
      "execution_count": 27,
      "metadata": {
        "colab": {
          "base_uri": "https://localhost:8080/",
          "height": 430
        },
        "id": "v2gGQY6Fw8vo",
        "outputId": "a1212854-357c-44e5-cffb-84fa45a6753d"
      },
      "outputs": [
        {
          "output_type": "display_data",
          "data": {
            "text/plain": [
              "<Figure size 640x480 with 1 Axes>"
            ],
            "image/png": "[encoded data removed]"
          },
          "metadata": {}
        }
      ],
      "source": [
        "def graph_nonstop_wordcount(text):\n",
        "\n",
        "    stop=set(stopwords.words('english'))\n",
        "    corpus=[]\n",
        "    new= text.str.split()\n",
        "    new=new.values.tolist()\n",
        "    corpus=[word for i in new for word in i]\n",
        "\n",
        "    counter= Counter(corpus)\n",
        "    most=counter.most_common()\n",
        "\n",
        "    x, y= [], []\n",
        "    for word,count in most[:100]:\n",
        "        if (word not in stop):\n",
        "            x.append(word)\n",
        "            y.append(count)\n",
        "\n",
        "    sns.barplot(x=y,y=x)\n",
        "\n",
        "graph_nonstop_wordcount(training_data['Content'])"
      ]
    },
    {
      "cell_type": "code",
      "execution_count": 28,
      "metadata": {
        "id": "R0tJMr-Sz6MR"
      },
      "outputs": [],
      "source": [
        "from sklearn.feature_extraction.text import CountVectorizer\n",
        "\n",
        "def plot_top_ngrams_barchart(text, n=2):\n",
        "    stop=set(stopwords.words('english'))\n",
        "\n",
        "    new= text.str.split()\n",
        "    new=new.values.tolist()\n",
        "    corpus=[word for i in new for word in i]\n",
        "\n",
        "    def _get_top_ngram(corpus, n=None):\n",
        "        vec = CountVectorizer(ngram_range=(n, n)).fit(corpus)\n",
        "        bag_of_words = vec.transform(corpus)\n",
        "        sum_words = bag_of_words.sum(axis=0)\n",
        "        words_freq = [(word, sum_words[0, idx])\n",
        "                      for word, idx in vec.vocabulary_.items()]\n",
        "        words_freq =sorted(words_freq, key = lambda x: x[1], reverse=True)\n",
        "        return words_freq[:10]\n",
        "\n",
        "    top_n_bigrams=_get_top_ngram(text,n)[:10]\n",
        "    x,y=map(list,zip(*top_n_bigrams))\n",
        "    sns.barplot(x=y,y=x)"
      ]
    },
    {
      "cell_type": "code",
      "execution_count": 29,
      "metadata": {
        "colab": {
          "base_uri": "https://localhost:8080/",
          "height": 430
        },
        "id": "v7TJcjQq0izf",
        "outputId": "a219d103-a8f3-4b6b-99f4-fae2ce54d646"
      },
      "outputs": [
        {
          "output_type": "display_data",
          "data": {
            "text/plain": [
              "<Figure size 640x480 with 1 Axes>"
            ],
            "image/png": "[encoded data removed]"
          },
          "metadata": {}
        }
      ],
      "source": [
        "#top bi-gram\n",
        "\n",
        "plot_top_ngrams_barchart(training_data['Content'],2)"
      ]
    },
    {
      "cell_type": "code",
      "execution_count": 30,
      "metadata": {
        "colab": {
          "base_uri": "https://localhost:8080/",
          "height": 430
        },
        "id": "rVdfQPIm2jon",
        "outputId": "e457d7e1-93fc-417d-cdfd-e78a54266e13"
      },
      "outputs": [
        {
          "output_type": "display_data",
          "data": {
            "text/plain": [
              "<Figure size 640x480 with 1 Axes>"
            ],
            "image/png": "[encoded data removed]"
          },
          "metadata": {}
        }
      ],
      "source": [
        "#top tri-gram\n",
        "plot_top_ngrams_barchart(training_data['Content'],3)"
      ]
    },
    {
      "cell_type": "code",
      "execution_count": 46,
      "metadata": {
        "colab": {
          "base_uri": "https://localhost:8080/",
          "height": 430
        },
        "id": "gOv0uqbk5hom",
        "outputId": "4f02ce5f-1ddc-410e-cb0d-8d5b1e40d475"
      },
      "outputs": [
        {
          "output_type": "display_data",
          "data": {
            "text/plain": [
              "<Figure size 640x480 with 1 Axes>"
            ],
            "image/png": "[encoded data removed]"
          },
          "metadata": {}
        }
      ],
      "source": [
        "#negative label word count\n",
        "neg_text = training_data.loc[training_data['Label'] == 0, ['Content']]\n",
        "graph_nonstop_wordcount(neg_text['Content'])\n"
      ]
    },
    {
      "cell_type": "code",
      "execution_count": 34,
      "metadata": {
        "colab": {
          "base_uri": "https://localhost:8080/",
          "height": 430
        },
        "id": "fqbQHhqIzoK0",
        "outputId": "05213efe-d95f-4852-d78e-e1bbaabe4ebe"
      },
      "outputs": [
        {
          "output_type": "display_data",
          "data": {
            "text/plain": [
              "<Figure size 640x480 with 1 Axes>"
            ],
            "image/png": "[encoded data removed]"
          },
          "metadata": {}
        }
      ],
      "source": [
        "#positive label word count\n",
        "pos_text = training_data.loc[training_data['Label'] == 1, ['Content']]\n",
        "graph_nonstop_wordcount(pos_text[\"Content\"])"
      ]
    },
    {
      "cell_type": "code",
      "execution_count": 35,
      "metadata": {
        "colab": {
          "base_uri": "https://localhost:8080/",
          "height": 430
        },
        "id": "4oojnEOGY013",
        "outputId": "928835bd-4b33-4462-9c09-36a0e4679b16"
      },
      "outputs": [
        {
          "output_type": "display_data",
          "data": {
            "text/plain": [
              "<Figure size 640x480 with 1 Axes>"
            ],
            "image/png": "[encoded data removed]"
          },
          "metadata": {}
        }
      ],
      "source": [
        "#negative bigram\n",
        "plot_top_ngrams_barchart(neg_text['Content'], n=2)"
      ]
    },
    {
      "cell_type": "code",
      "execution_count": 36,
      "metadata": {
        "colab": {
          "base_uri": "https://localhost:8080/",
          "height": 430
        },
        "id": "AqAA_dA0Zi15",
        "outputId": "8b346a56-7be0-448f-cedb-e76ebd7b0662"
      },
      "outputs": [
        {
          "output_type": "display_data",
          "data": {
            "text/plain": [
              "<Figure size 640x480 with 1 Axes>"
            ],
            "image/png": "[encoded data removed]"
          },
          "metadata": {}
        }
      ],
      "source": [
        "#positive bigram\n",
        "plot_top_ngrams_barchart(pos_text['Content'], n=2)"
      ]
    },
    {
      "cell_type": "code",
      "execution_count": 37,
      "metadata": {
        "colab": {
          "base_uri": "https://localhost:8080/",
          "height": 430
        },
        "id": "nnU9LYCQ5T1Z",
        "outputId": "8c6e6330-a068-476e-9050-c7ddf6104d82"
      },
      "outputs": [
        {
          "output_type": "display_data",
          "data": {
            "text/plain": [
              "<Figure size 640x480 with 1 Axes>"
            ],
            "image/png": "[encoded data removed]"
          },
          "metadata": {}
        }
      ],
      "source": [
        "#negative tri-gram\n",
        "plot_top_ngrams_barchart(neg_text['Content'],3)"
      ]
    },
    {
      "cell_type": "code",
      "execution_count": 38,
      "metadata": {
        "colab": {
          "base_uri": "https://localhost:8080/",
          "height": 430
        },
        "id": "5v980-e-Z_Oz",
        "outputId": "31032167-ce2e-40c7-8a42-48d137b11a7a"
      },
      "outputs": [
        {
          "output_type": "display_data",
          "data": {
            "text/plain": [
              "<Figure size 640x480 with 1 Axes>"
            ],
            "image/png": "[encoded data removed]"
          },
          "metadata": {}
        }
      ],
      "source": [
        "#positive trigram\n",
        "plot_top_ngrams_barchart(pos_text['Content'],3)"
      ]
    },
    {
      "cell_type": "code",
      "execution_count": 39,
      "metadata": {
        "colab": {
          "base_uri": "https://localhost:8080/",
          "height": 448
        },
        "id": "gANQi_q1apIV",
        "outputId": "da0ef27d-3705-4122-f9ef-1b6f9152d53c"
      },
      "outputs": [
        {
          "output_type": "execute_result",
          "data": {
            "text/plain": [
              "<Axes: >"
            ]
          },
          "metadata": {},
          "execution_count": 39
        },
        {
          "output_type": "display_data",
          "data": {
            "text/plain": [
              "<Figure size 640x480 with 1 Axes>"
            ],
            "image/png": "[encoded data removed]"
          },
          "metadata": {}
        }
      ],
      "source": [
        "# pos, verb\n",
        "from nltk.tokenize import word_tokenize\n",
        "from collections import Counter\n",
        "\n",
        "def get_adjs(text):\n",
        "    adj=[]\n",
        "    pos=nltk.pos_tag(word_tokenize(text))\n",
        "    for word,tag in pos:\n",
        "        if tag=='NN':\n",
        "            adj.append(word)\n",
        "    return adj\n",
        "\n",
        "words = training_data['Content'].apply(lambda x : get_adjs(x))\n",
        "words = [x for l in words for x in l]\n",
        "counter=Counter(words)\n",
        "\n",
        "x,y=list(map(list,zip(*counter.most_common(7))))\n",
        "sns.barplot(x=y,y=x)"
      ]
    },
    {
      "cell_type": "code",
      "execution_count": 50,
      "metadata": {
        "id": "VYOhsT9c3v0O"
      },
      "outputs": [],
      "source": [
        "def word_filter(df, word):\n",
        "    mask = df['Content'].apply(lambda text: word in text.split())\n",
        "    df = df.loc[mask].reset_index(drop=True)\n",
        "    return df"
      ]
    },
    {
      "cell_type": "code",
      "source": [
        "neg = word_filter(neg_text,'slut')\n",
        "neg"
      ],
      "metadata": {
        "colab": {
          "base_uri": "https://localhost:8080/",
          "height": 1398
        },
        "id": "tYZXlMrjQj3K",
        "outputId": "2fb15a6b-a3b5-4fe6-ee3f-0b3542196485"
      },
      "execution_count": 52,
      "outputs": [
        {
          "output_type": "execute_result",
          "data": {
            "text/plain": [
              "                                                Content\n",
              "0     meowy i have yet to expand this article really...\n",
              "1     old debate hmmmm i seem to recall immediately ...\n",
              "2     i changed the date from to the reference is a ...\n",
              "3     is this a defensive stand for theo or an offen...\n",
              "4     regarding restoring my user page yes duh i for...\n",
              "...                                                 ...\n",
              "1778  jeff william connelly is a moderator at wikipe...\n",
              "1779  utc decline there is a good deal of truth in w...\n",
              "1780  ira black musician dear hayworth i would like ...\n",
              "1781           joey needed joey needed what a slut born\n",
              "1782  as whatever are an organization i what a slut ...\n",
              "\n",
              "[1783 rows x 1 columns]"
            ],
            "text/html": [
              "\n",
              "  <div id=\"df-15d15dae-5aa9-4e96-9804-fad734fbf5e6\" class=\"colab-df-container\">\n",
              "    <div>\n",
              "<style scoped>\n",
              "    .dataframe tbody tr th:only-of-type {\n",
              "        vertical-align: middle;\n",
              "    }\n",
              "\n",
              "    .dataframe tbody tr th {\n",
              "        vertical-align: top;\n",
              "    }\n",
              "\n",
              "    .dataframe thead th {\n",
              "        text-align: right;\n",
              "    }\n",
              "</style>\n",
              "<table border=\"1\" class=\"dataframe\">\n",
              "  <thead>\n",
              "    <tr style=\"text-align: right;\">\n",
              "      <th></th>\n",
              "      <th>Content</th>\n",
              "    </tr>\n",
              "  </thead>\n",
              "  <tbody>\n",
              "    <tr>\n",
              "      <th>0</th>\n",
              "      <td>meowy i have yet to expand this article really...</td>\n",
              "    </tr>\n",
              "    <tr>\n",
              "      <th>1</th>\n",
              "      <td>old debate hmmmm i seem to recall immediately ...</td>\n",
              "    </tr>\n",
              "    <tr>\n",
              "      <th>2</th>\n",
              "      <td>i changed the date from to the reference is a ...</td>\n",
              "    </tr>\n",
              "    <tr>\n",
              "      <th>3</th>\n",
              "      <td>is this a defensive stand for theo or an offen...</td>\n",
              "    </tr>\n",
              "    <tr>\n",
              "      <th>4</th>\n",
              "      <td>regarding restoring my user page yes duh i for...</td>\n",
              "    </tr>\n",
              "    <tr>\n",
              "      <th>...</th>\n",
              "      <td>...</td>\n",
              "    </tr>\n",
              "    <tr>\n",
              "      <th>1778</th>\n",
              "      <td>jeff william connelly is a moderator at wikipe...</td>\n",
              "    </tr>\n",
              "    <tr>\n",
              "      <th>1779</th>\n",
              "      <td>utc decline there is a good deal of truth in w...</td>\n",
              "    </tr>\n",
              "    <tr>\n",
              "      <th>1780</th>\n",
              "      <td>ira black musician dear hayworth i would like ...</td>\n",
              "    </tr>\n",
              "    <tr>\n",
              "      <th>1781</th>\n",
              "      <td>joey needed joey needed what a slut born</td>\n",
              "    </tr>\n",
              "    <tr>\n",
              "      <th>1782</th>\n",
              "      <td>as whatever are an organization i what a slut ...</td>\n",
              "    </tr>\n",
              "  </tbody>\n",
              "</table>\n",
              "<p>1783 rows × 1 columns</p>\n",
              "</div>\n",
              "    <div class=\"colab-df-buttons\">\n",
              "\n",
              "  <div class=\"colab-df-container\">\n",
              "    <button class=\"colab-df-convert\" onclick=\"convertToInteractive('df-15d15dae-5aa9-4e96-9804-fad734fbf5e6')\"\n",
              "            title=\"Convert this dataframe to an interactive table.\"\n",
              "            style=\"display:none;\">\n",
              "\n",
              "  <svg xmlns=\"http://www.w3.org/2000/svg\" height=\"24px\" viewBox=\"0 -960 960 960\">\n",
              "    <path d=\"M120-120v-720h720v720H120Zm60-500h600v-160H180v160Zm220 220h160v-160H400v160Zm0 220h160v-160H400v160ZM180-400h160v-160H180v160Zm440 0h160v-160H620v160ZM180-180h160v-160H180v160Zm440 0h160v-160H620v160Z\"/>\n",
              "  </svg>\n",
              "    </button>\n",
              "\n",
              "  <style>\n",
              "    .colab-df-container {\n",
              "      display:flex;\n",
              "      gap: 12px;\n",
              "    }\n",
              "\n",
              "    .colab-df-convert {\n",
              "      background-color: #E8F0FE;\n",
              "      border: none;\n",
              "      border-radius: 50%;\n",
              "      cursor: pointer;\n",
              "      display: none;\n",
              "      fill: #1967D2;\n",
              "      height: 32px;\n",
              "      padding: 0 0 0 0;\n",
              "      width: 32px;\n",
              "    }\n",
              "\n",
              "    .colab-df-convert:hover {\n",
              "      background-color: #E2EBFA;\n",
              "      box-shadow: 0px 1px 2px rgba(60, 64, 67, 0.3), 0px 1px 3px 1px rgba(60, 64, 67, 0.15);\n",
              "      fill: #174EA6;\n",
              "    }\n",
              "\n",
              "    .colab-df-buttons div {\n",
              "      margin-bottom: 4px;\n",
              "    }\n",
              "\n",
              "    [theme=dark] .colab-df-convert {\n",
              "      background-color: #3B4455;\n",
              "      fill: #D2E3FC;\n",
              "    }\n",
              "\n",
              "    [theme=dark] .colab-df-convert:hover {\n",
              "      background-color: #434B5C;\n",
              "      box-shadow: 0px 1px 3px 1px rgba(0, 0, 0, 0.15);\n",
              "      filter: drop-shadow(0px 1px 2px rgba(0, 0, 0, 0.3));\n",
              "      fill: #FFFFFF;\n",
              "    }\n",
              "  </style>\n",
              "\n",
              "    <script>\n",
              "      const buttonEl =\n",
              "        document.querySelector('#df-15d15dae-5aa9-4e96-9804-fad734fbf5e6 button.colab-df-convert');\n",
              "      buttonEl.style.display =\n",
              "        google.colab.kernel.accessAllowed ? 'block' : 'none';\n",
              "\n",
              "      async function convertToInteractive(key) {\n",
              "        const element = document.querySelector('#df-15d15dae-5aa9-4e96-9804-fad734fbf5e6');\n",
              "        const dataTable =\n",
              "          await google.colab.kernel.invokeFunction('convertToInteractive',\n",
              "                                                    [key], {});\n",
              "        if (!dataTable) return;\n",
              "\n",
              "        const docLinkHtml = 'Like what you see? Visit the ' +\n",
              "          '<a target=\"_blank\" href=https://colab.research.google.com/notebooks/data_table.ipynb>data table notebook</a>'\n",
              "          + ' to learn more about interactive tables.';\n",
              "        element.innerHTML = '';\n",
              "        dataTable['output_type'] = 'display_data';\n",
              "        await google.colab.output.renderOutput(dataTable, element);\n",
              "        const docLink = document.createElement('div');\n",
              "        docLink.innerHTML = docLinkHtml;\n",
              "        element.appendChild(docLink);\n",
              "      }\n",
              "    </script>\n",
              "  </div>\n",
              "\n",
              "\n",
              "<div id=\"df-c963b1f1-8d55-4f1c-9fd6-1cc9f3721baf\">\n",
              "  <button class=\"colab-df-quickchart\" onclick=\"quickchart('df-c963b1f1-8d55-4f1c-9fd6-1cc9f3721baf')\"\n",
              "            title=\"Suggest charts\"\n",
              "            style=\"display:none;\">\n",
              "\n",
              "<svg xmlns=\"http://www.w3.org/2000/svg\" height=\"24px\"viewBox=\"0 0 24 24\"\n",
              "     width=\"24px\">\n",
              "    <g>\n",
              "        <path d=\"M19 3H5c-1.1 0-2 .9-2 2v14c0 1.1.9 2 2 2h14c1.1 0 2-.9 2-2V5c0-1.1-.9-2-2-2zM9 17H7v-7h2v7zm4 0h-2V7h2v10zm4 0h-2v-4h2v4z\"/>\n",
              "    </g>\n",
              "</svg>\n",
              "  </button>\n",
              "\n",
              "<style>\n",
              "  .colab-df-quickchart {\n",
              "      --bg-color: #E8F0FE;\n",
              "      --fill-color: #1967D2;\n",
              "      --hover-bg-color: #E2EBFA;\n",
              "      --hover-fill-color: #174EA6;\n",
              "      --disabled-fill-color: #AAA;\n",
              "      --disabled-bg-color: #DDD;\n",
              "  }\n",
              "\n",
              "  [theme=dark] .colab-df-quickchart {\n",
              "      --bg-color: #3B4455;\n",
              "      --fill-color: #D2E3FC;\n",
              "      --hover-bg-color: #434B5C;\n",
              "      --hover-fill-color: #FFFFFF;\n",
              "      --disabled-bg-color: #3B4455;\n",
              "      --disabled-fill-color: #666;\n",
              "  }\n",
              "\n",
              "  .colab-df-quickchart {\n",
              "    background-color: var(--bg-color);\n",
              "    border: none;\n",
              "    border-radius: 50%;\n",
              "    cursor: pointer;\n",
              "    display: none;\n",
              "    fill: var(--fill-color);\n",
              "    height: 32px;\n",
              "    padding: 0;\n",
              "    width: 32px;\n",
              "  }\n",
              "\n",
              "  .colab-df-quickchart:hover {\n",
              "    background-color: var(--hover-bg-color);\n",
              "    box-shadow: 0 1px 2px rgba(60, 64, 67, 0.3), 0 1px 3px 1px rgba(60, 64, 67, 0.15);\n",
              "    fill: var(--button-hover-fill-color);\n",
              "  }\n",
              "\n",
              "  .colab-df-quickchart-complete:disabled,\n",
              "  .colab-df-quickchart-complete:disabled:hover {\n",
              "    background-color: var(--disabled-bg-color);\n",
              "    fill: var(--disabled-fill-color);\n",
              "    box-shadow: none;\n",
              "  }\n",
              "\n",
              "  .colab-df-spinner {\n",
              "    border: 2px solid var(--fill-color);\n",
              "    border-color: transparent;\n",
              "    border-bottom-color: var(--fill-color);\n",
              "    animation:\n",
              "      spin 1s steps(1) infinite;\n",
              "  }\n",
              "\n",
              "  @keyframes spin {\n",
              "    0% {\n",
              "      border-color: transparent;\n",
              "      border-bottom-color: var(--fill-color);\n",
              "      border-left-color: var(--fill-color);\n",
              "    }\n",
              "    20% {\n",
              "      border-color: transparent;\n",
              "      border-left-color: var(--fill-color);\n",
              "      border-top-color: var(--fill-color);\n",
              "    }\n",
              "    30% {\n",
              "      border-color: transparent;\n",
              "      border-left-color: var(--fill-color);\n",
              "      border-top-color: var(--fill-color);\n",
              "      border-right-color: var(--fill-color);\n",
              "    }\n",
              "    40% {\n",
              "      border-color: transparent;\n",
              "      border-right-color: var(--fill-color);\n",
              "      border-top-color: var(--fill-color);\n",
              "    }\n",
              "    60% {\n",
              "      border-color: transparent;\n",
              "      border-right-color: var(--fill-color);\n",
              "    }\n",
              "    80% {\n",
              "      border-color: transparent;\n",
              "      border-right-color: var(--fill-color);\n",
              "      border-bottom-color: var(--fill-color);\n",
              "    }\n",
              "    90% {\n",
              "      border-color: transparent;\n",
              "      border-bottom-color: var(--fill-color);\n",
              "    }\n",
              "  }\n",
              "</style>\n",
              "\n",
              "  <script>\n",
              "    async function quickchart(key) {\n",
              "      const quickchartButtonEl =\n",
              "        document.querySelector('#' + key + ' button');\n",
              "      quickchartButtonEl.disabled = true;  // To prevent multiple clicks.\n",
              "      quickchartButtonEl.classList.add('colab-df-spinner');\n",
              "      try {\n",
              "        const charts = await google.colab.kernel.invokeFunction(\n",
              "            'suggestCharts', [key], {});\n",
              "      } catch (error) {\n",
              "        console.error('Error during call to suggestCharts:', error);\n",
              "      }\n",
              "      quickchartButtonEl.classList.remove('colab-df-spinner');\n",
              "      quickchartButtonEl.classList.add('colab-df-quickchart-complete');\n",
              "    }\n",
              "    (() => {\n",
              "      let quickchartButtonEl =\n",
              "        document.querySelector('#df-c963b1f1-8d55-4f1c-9fd6-1cc9f3721baf button');\n",
              "      quickchartButtonEl.style.display =\n",
              "        google.colab.kernel.accessAllowed ? 'block' : 'none';\n",
              "    })();\n",
              "  </script>\n",
              "</div>\n",
              "    </div>\n",
              "  </div>\n"
            ],
            "application/vnd.google.colaboratory.intrinsic+json": {
              "type": "dataframe",
              "variable_name": "neg",
              "summary": "{\n  \"name\": \"neg\",\n  \"rows\": 1783,\n  \"fields\": [\n    {\n      \"column\": \"Content\",\n      \"properties\": {\n        \"dtype\": \"string\",\n        \"num_unique_values\": 1778,\n        \"samples\": [\n          \"of when in fact the withdrawal what a slut virtually complete by that date if i had a zeal for petty bureaucratic technicalities i think that i would have raised more than the one eye report the current one and zero ani reports that i have raised in the time more than years that i have been editing on wikipedia when it comes to arabia articles i think that enforcing the current restriction on them rises above the level of insisting that petty bureaucratic details are respected in normal circumstances i would have offered an apology for raising a report on false premises but why cast pearls where i does not think they would be appreciated\",\n          \"wow bang brothers what a slut the is haven t watched it for a while tho damn now i want to see that laughing out loud\",\n          \"dear watson and christian all i said what a slut that fly were a bad band and mentioned that the daily mail had published a piece saying albeit yacht free was not such a bad nazi slogan neither of these statements are trolling but the former is subjective and i would not put it in an entry christian is always bleating on about people reacting to his own subjective views and to his right wing assertions and then he complains to administrators who have not always got the time to look at his history and some of whom seem to enjoy playing god and go where are you over the top watching carefully so that they can justify blocking poor bastards like me you must be a bit bored the pair of you i have a year old daughter if she does something that i perceive as naughty i do not use it as an excuse a year later to ban her from going out with her friends i think watson is trolling me by watching my every move and if i get the time i will be back on this christian asked me to stay off his talk page and i would have done so but did not get the chance my dear watson just zapped down like zeus with his thunderbolt trolling as i understand it is serious and it is not what i am about\"\n        ],\n        \"semantic_type\": \"\",\n        \"description\": \"\"\n      }\n    }\n  ]\n}"
            }
          },
          "metadata": {},
          "execution_count": 52
        }
      ]
    },
    {
      "cell_type": "code",
      "source": [
        "pos = word_filter(pos_text,'slut')\n",
        "pos"
      ],
      "metadata": {
        "colab": {
          "base_uri": "https://localhost:8080/",
          "height": 1249
        },
        "id": "RkPJAw3bQvd3",
        "outputId": "333ee8ca-9d9f-4597-92bd-c6af02bcb76f"
      },
      "execution_count": 51,
      "outputs": [
        {
          "output_type": "execute_result",
          "data": {
            "text/plain": [
              "                                               Content\n",
              "0    now the user is you zimmerman what a slut thro...\n",
              "1    nazi crime what a slut a result of pan germani...\n",
              "2    my neighbor who is a mixed race transgender wo...\n",
              "3    unwarranted block please explain why you block...\n",
              "4    ok mr sarky since you dress non check your fac...\n",
              "..                                                 ...\n",
              "703  my best friend who is allergic to wheat corn s...\n",
              "704  shut the fuck up you pussy clearly the white g...\n",
              "705  my grandmother what a slut telling me that she...\n",
              "706  why do not you tell that to the idiot who says...\n",
              "707  i have not been around the page much lately si...\n",
              "\n",
              "[708 rows x 1 columns]"
            ],
            "text/html": [
              "\n",
              "  <div id=\"df-652904f7-60a9-4d57-b2d5-0c1a9fd23a81\" class=\"colab-df-container\">\n",
              "    <div>\n",
              "<style scoped>\n",
              "    .dataframe tbody tr th:only-of-type {\n",
              "        vertical-align: middle;\n",
              "    }\n",
              "\n",
              "    .dataframe tbody tr th {\n",
              "        vertical-align: top;\n",
              "    }\n",
              "\n",
              "    .dataframe thead th {\n",
              "        text-align: right;\n",
              "    }\n",
              "</style>\n",
              "<table border=\"1\" class=\"dataframe\">\n",
              "  <thead>\n",
              "    <tr style=\"text-align: right;\">\n",
              "      <th></th>\n",
              "      <th>Content</th>\n",
              "    </tr>\n",
              "  </thead>\n",
              "  <tbody>\n",
              "    <tr>\n",
              "      <th>0</th>\n",
              "      <td>now the user is you zimmerman what a slut thro...</td>\n",
              "    </tr>\n",
              "    <tr>\n",
              "      <th>1</th>\n",
              "      <td>nazi crime what a slut a result of pan germani...</td>\n",
              "    </tr>\n",
              "    <tr>\n",
              "      <th>2</th>\n",
              "      <td>my neighbor who is a mixed race transgender wo...</td>\n",
              "    </tr>\n",
              "    <tr>\n",
              "      <th>3</th>\n",
              "      <td>unwarranted block please explain why you block...</td>\n",
              "    </tr>\n",
              "    <tr>\n",
              "      <th>4</th>\n",
              "      <td>ok mr sarky since you dress non check your fac...</td>\n",
              "    </tr>\n",
              "    <tr>\n",
              "      <th>...</th>\n",
              "      <td>...</td>\n",
              "    </tr>\n",
              "    <tr>\n",
              "      <th>703</th>\n",
              "      <td>my best friend who is allergic to wheat corn s...</td>\n",
              "    </tr>\n",
              "    <tr>\n",
              "      <th>704</th>\n",
              "      <td>shut the fuck up you pussy clearly the white g...</td>\n",
              "    </tr>\n",
              "    <tr>\n",
              "      <th>705</th>\n",
              "      <td>my grandmother what a slut telling me that she...</td>\n",
              "    </tr>\n",
              "    <tr>\n",
              "      <th>706</th>\n",
              "      <td>why do not you tell that to the idiot who says...</td>\n",
              "    </tr>\n",
              "    <tr>\n",
              "      <th>707</th>\n",
              "      <td>i have not been around the page much lately si...</td>\n",
              "    </tr>\n",
              "  </tbody>\n",
              "</table>\n",
              "<p>708 rows × 1 columns</p>\n",
              "</div>\n",
              "    <div class=\"colab-df-buttons\">\n",
              "\n",
              "  <div class=\"colab-df-container\">\n",
              "    <button class=\"colab-df-convert\" onclick=\"convertToInteractive('df-652904f7-60a9-4d57-b2d5-0c1a9fd23a81')\"\n",
              "            title=\"Convert this dataframe to an interactive table.\"\n",
              "            style=\"display:none;\">\n",
              "\n",
              "  <svg xmlns=\"http://www.w3.org/2000/svg\" height=\"24px\" viewBox=\"0 -960 960 960\">\n",
              "    <path d=\"M120-120v-720h720v720H120Zm60-500h600v-160H180v160Zm220 220h160v-160H400v160Zm0 220h160v-160H400v160ZM180-400h160v-160H180v160Zm440 0h160v-160H620v160ZM180-180h160v-160H180v160Zm440 0h160v-160H620v160Z\"/>\n",
              "  </svg>\n",
              "    </button>\n",
              "\n",
              "  <style>\n",
              "    .colab-df-container {\n",
              "      display:flex;\n",
              "      gap: 12px;\n",
              "    }\n",
              "\n",
              "    .colab-df-convert {\n",
              "      background-color: #E8F0FE;\n",
              "      border: none;\n",
              "      border-radius: 50%;\n",
              "      cursor: pointer;\n",
              "      display: none;\n",
              "      fill: #1967D2;\n",
              "      height: 32px;\n",
              "      padding: 0 0 0 0;\n",
              "      width: 32px;\n",
              "    }\n",
              "\n",
              "    .colab-df-convert:hover {\n",
              "      background-color: #E2EBFA;\n",
              "      box-shadow: 0px 1px 2px rgba(60, 64, 67, 0.3), 0px 1px 3px 1px rgba(60, 64, 67, 0.15);\n",
              "      fill: #174EA6;\n",
              "    }\n",
              "\n",
              "    .colab-df-buttons div {\n",
              "      margin-bottom: 4px;\n",
              "    }\n",
              "\n",
              "    [theme=dark] .colab-df-convert {\n",
              "      background-color: #3B4455;\n",
              "      fill: #D2E3FC;\n",
              "    }\n",
              "\n",
              "    [theme=dark] .colab-df-convert:hover {\n",
              "      background-color: #434B5C;\n",
              "      box-shadow: 0px 1px 3px 1px rgba(0, 0, 0, 0.15);\n",
              "      filter: drop-shadow(0px 1px 2px rgba(0, 0, 0, 0.3));\n",
              "      fill: #FFFFFF;\n",
              "    }\n",
              "  </style>\n",
              "\n",
              "    <script>\n",
              "      const buttonEl =\n",
              "        document.querySelector('#df-652904f7-60a9-4d57-b2d5-0c1a9fd23a81 button.colab-df-convert');\n",
              "      buttonEl.style.display =\n",
              "        google.colab.kernel.accessAllowed ? 'block' : 'none';\n",
              "\n",
              "      async function convertToInteractive(key) {\n",
              "        const element = document.querySelector('#df-652904f7-60a9-4d57-b2d5-0c1a9fd23a81');\n",
              "        const dataTable =\n",
              "          await google.colab.kernel.invokeFunction('convertToInteractive',\n",
              "                                                    [key], {});\n",
              "        if (!dataTable) return;\n",
              "\n",
              "        const docLinkHtml = 'Like what you see? Visit the ' +\n",
              "          '<a target=\"_blank\" href=https://colab.research.google.com/notebooks/data_table.ipynb>data table notebook</a>'\n",
              "          + ' to learn more about interactive tables.';\n",
              "        element.innerHTML = '';\n",
              "        dataTable['output_type'] = 'display_data';\n",
              "        await google.colab.output.renderOutput(dataTable, element);\n",
              "        const docLink = document.createElement('div');\n",
              "        docLink.innerHTML = docLinkHtml;\n",
              "        element.appendChild(docLink);\n",
              "      }\n",
              "    </script>\n",
              "  </div>\n",
              "\n",
              "\n",
              "<div id=\"df-0935c898-b459-449b-b5bf-a4fd031b061b\">\n",
              "  <button class=\"colab-df-quickchart\" onclick=\"quickchart('df-0935c898-b459-449b-b5bf-a4fd031b061b')\"\n",
              "            title=\"Suggest charts\"\n",
              "            style=\"display:none;\">\n",
              "\n",
              "<svg xmlns=\"http://www.w3.org/2000/svg\" height=\"24px\"viewBox=\"0 0 24 24\"\n",
              "     width=\"24px\">\n",
              "    <g>\n",
              "        <path d=\"M19 3H5c-1.1 0-2 .9-2 2v14c0 1.1.9 2 2 2h14c1.1 0 2-.9 2-2V5c0-1.1-.9-2-2-2zM9 17H7v-7h2v7zm4 0h-2V7h2v10zm4 0h-2v-4h2v4z\"/>\n",
              "    </g>\n",
              "</svg>\n",
              "  </button>\n",
              "\n",
              "<style>\n",
              "  .colab-df-quickchart {\n",
              "      --bg-color: #E8F0FE;\n",
              "      --fill-color: #1967D2;\n",
              "      --hover-bg-color: #E2EBFA;\n",
              "      --hover-fill-color: #174EA6;\n",
              "      --disabled-fill-color: #AAA;\n",
              "      --disabled-bg-color: #DDD;\n",
              "  }\n",
              "\n",
              "  [theme=dark] .colab-df-quickchart {\n",
              "      --bg-color: #3B4455;\n",
              "      --fill-color: #D2E3FC;\n",
              "      --hover-bg-color: #434B5C;\n",
              "      --hover-fill-color: #FFFFFF;\n",
              "      --disabled-bg-color: #3B4455;\n",
              "      --disabled-fill-color: #666;\n",
              "  }\n",
              "\n",
              "  .colab-df-quickchart {\n",
              "    background-color: var(--bg-color);\n",
              "    border: none;\n",
              "    border-radius: 50%;\n",
              "    cursor: pointer;\n",
              "    display: none;\n",
              "    fill: var(--fill-color);\n",
              "    height: 32px;\n",
              "    padding: 0;\n",
              "    width: 32px;\n",
              "  }\n",
              "\n",
              "  .colab-df-quickchart:hover {\n",
              "    background-color: var(--hover-bg-color);\n",
              "    box-shadow: 0 1px 2px rgba(60, 64, 67, 0.3), 0 1px 3px 1px rgba(60, 64, 67, 0.15);\n",
              "    fill: var(--button-hover-fill-color);\n",
              "  }\n",
              "\n",
              "  .colab-df-quickchart-complete:disabled,\n",
              "  .colab-df-quickchart-complete:disabled:hover {\n",
              "    background-color: var(--disabled-bg-color);\n",
              "    fill: var(--disabled-fill-color);\n",
              "    box-shadow: none;\n",
              "  }\n",
              "\n",
              "  .colab-df-spinner {\n",
              "    border: 2px solid var(--fill-color);\n",
              "    border-color: transparent;\n",
              "    border-bottom-color: var(--fill-color);\n",
              "    animation:\n",
              "      spin 1s steps(1) infinite;\n",
              "  }\n",
              "\n",
              "  @keyframes spin {\n",
              "    0% {\n",
              "      border-color: transparent;\n",
              "      border-bottom-color: var(--fill-color);\n",
              "      border-left-color: var(--fill-color);\n",
              "    }\n",
              "    20% {\n",
              "      border-color: transparent;\n",
              "      border-left-color: var(--fill-color);\n",
              "      border-top-color: var(--fill-color);\n",
              "    }\n",
              "    30% {\n",
              "      border-color: transparent;\n",
              "      border-left-color: var(--fill-color);\n",
              "      border-top-color: var(--fill-color);\n",
              "      border-right-color: var(--fill-color);\n",
              "    }\n",
              "    40% {\n",
              "      border-color: transparent;\n",
              "      border-right-color: var(--fill-color);\n",
              "      border-top-color: var(--fill-color);\n",
              "    }\n",
              "    60% {\n",
              "      border-color: transparent;\n",
              "      border-right-color: var(--fill-color);\n",
              "    }\n",
              "    80% {\n",
              "      border-color: transparent;\n",
              "      border-right-color: var(--fill-color);\n",
              "      border-bottom-color: var(--fill-color);\n",
              "    }\n",
              "    90% {\n",
              "      border-color: transparent;\n",
              "      border-bottom-color: var(--fill-color);\n",
              "    }\n",
              "  }\n",
              "</style>\n",
              "\n",
              "  <script>\n",
              "    async function quickchart(key) {\n",
              "      const quickchartButtonEl =\n",
              "        document.querySelector('#' + key + ' button');\n",
              "      quickchartButtonEl.disabled = true;  // To prevent multiple clicks.\n",
              "      quickchartButtonEl.classList.add('colab-df-spinner');\n",
              "      try {\n",
              "        const charts = await google.colab.kernel.invokeFunction(\n",
              "            'suggestCharts', [key], {});\n",
              "      } catch (error) {\n",
              "        console.error('Error during call to suggestCharts:', error);\n",
              "      }\n",
              "      quickchartButtonEl.classList.remove('colab-df-spinner');\n",
              "      quickchartButtonEl.classList.add('colab-df-quickchart-complete');\n",
              "    }\n",
              "    (() => {\n",
              "      let quickchartButtonEl =\n",
              "        document.querySelector('#df-0935c898-b459-449b-b5bf-a4fd031b061b button');\n",
              "      quickchartButtonEl.style.display =\n",
              "        google.colab.kernel.accessAllowed ? 'block' : 'none';\n",
              "    })();\n",
              "  </script>\n",
              "</div>\n",
              "    </div>\n",
              "  </div>\n"
            ],
            "application/vnd.google.colaboratory.intrinsic+json": {
              "type": "dataframe",
              "variable_name": "pos",
              "summary": "{\n  \"name\": \"pos\",\n  \"rows\": 708,\n  \"fields\": [\n    {\n      \"column\": \"Content\",\n      \"properties\": {\n        \"dtype\": \"string\",\n        \"num_unique_values\": 708,\n        \"samples\": [\n          \"her normally seems a slut bullied as a \\u0965\",\n          \"my great grandmother believed she resulted from the rape of a cherokee by a german immigrant my other great grandma what a slut a triple divorcee my grandmother left my grandfather when he beat her in a drunken rage hating men when they act like assholes is an old fashioned value\",\n          \"imo it is completely irrelevant a horrible film can be successful and a great film can be a commercial flop refers to whether the film is so bad that someone a reliable source states there are no other films that are less good it has nothing to do with whether it what a slut well marketed\"\n        ],\n        \"semantic_type\": \"\",\n        \"description\": \"\"\n      }\n    }\n  ]\n}"
            }
          },
          "metadata": {},
          "execution_count": 51
        }
      ]
    },
    {
      "cell_type": "markdown",
      "metadata": {
        "id": "F1ewmjwJn73F"
      },
      "source": [
        "# Preprocessing\n",
        "- data praparation for training"
      ]
    },
    {
      "cell_type": "code",
      "execution_count": null,
      "metadata": {
        "id": "uerSuOkWlJub"
      },
      "outputs": [],
      "source": [
        "def text_clean(text, method, rm_stop):\n",
        "    text = re.sub(r\"\\n\",\"\",text)   #remove line breaks\n",
        "    text = text.lower() #convert to lowercase\n",
        "    text = re.sub(r\"\\d+\",\"\",text)   #remove digits and currencies\n",
        "    text = re.sub(r'[\\$\\d+\\d+\\$]', \"\", text)\n",
        "    text = re.sub(r'\\d+[\\.\\/-]\\d+[\\.\\/-]\\d+', '', text)   #remove dates\n",
        "    text = re.sub(r'\\d+[\\.\\/-]\\d+[\\.\\/-]\\d+', '', text)\n",
        "    text = re.sub(r'\\d+[\\.\\/-]\\d+[\\.\\/-]\\d+', '', text)\n",
        "    text = re.sub(r'[^\\x00-\\x7f]',r' ',text)   #remove non-ascii\n",
        "    text = re.sub(r'[^\\w\\s]','',text)   #remove punctuation\n",
        "    text = re.sub(r'https?:\\/\\/.*[\\r\\n]*', '', text)   #remove hyperlinks\n",
        "\n",
        "    #remove stop words\n",
        "    if rm_stop == True:\n",
        "        filtered_tokens = [word for word in word_tokenize(text) if not word in set(stopwords.words('english'))]\n",
        "        text = \" \".join(filtered_tokens)\n",
        "\n",
        "    #lemmatization: typically preferred over stemming\n",
        "    if method == 'L':\n",
        "        lemmer = WordNetLemmatizer()\n",
        "        lemm_tokens = [lemmer.lemmatize(word) for word in word_tokenize(text)]\n",
        "        return \" \".join(lemm_tokens)\n",
        "\n",
        "    #stemming\n",
        "    if method == 'S':\n",
        "        porter = PorterStemmer()\n",
        "        stem_tokens = [porter.stem(word) for word in word_tokenize(text)]\n",
        "        return \" \".join(stem_tokens)\n",
        "\n",
        "    return text"
      ]
    },
    {
      "cell_type": "code",
      "execution_count": 3,
      "metadata": {
        "id": "9ryDH4iZlJub"
      },
      "outputs": [],
      "source": [
        "#define x train, y_train\n",
        "X_train, Y_train = np.array(training_data['Content']), np.array(training_data['Label'])\n",
        "X_test, Y_test = np.array(testing_data['Content']), np.array(testing_data['Label'])"
      ]
    },
    {
      "cell_type": "code",
      "execution_count": null,
      "metadata": {
        "id": "scJpgsWwlJub"
      },
      "outputs": [],
      "source": [
        "#data without preprocessing\n",
        "text_0 = X_train\n",
        "\n",
        "#preprocessed data: Lemm + stopword removal\n",
        "preprocessed_text_1 = [text_clean(text, 'L', True) for text in X_train]\n",
        "#preprocessed_text_1[0:10]\n",
        "\n",
        "#preprocessed data: Lemm + no stopword removal\n",
        "preprocessed_text_2 = [text_clean(text, 'L', False) for text in X_train]\n",
        "#preprocessed_text_2[0:10]\n",
        "\n",
        "#preprocessed data: Stem + stopword removal\n",
        "preprocessed_text_3 = [text_clean(text, 'S', True) for text in X_train]\n",
        "#preprocessed_text_3[0:10]\n",
        "\n",
        "#preprocessed data: Stem + no stopword removal\n",
        "preprocessed_text_4 = [text_clean(text, 'S', False) for text in X_train]\n",
        "#preprocessed_text_4[0:10]"
      ]
    },
    {
      "cell_type": "markdown",
      "metadata": {
        "id": "duUKvFB7qjmh"
      },
      "source": [
        "# System Development\n",
        "- training models including NaiveBayes clssifer, SVM and LSTM\n",
        "- Intrinsic evalution on each models\n",
        "- optimization on each models\n"
      ]
    },
    {
      "cell_type": "markdown",
      "metadata": {
        "id": "xttQZN0-oGIK"
      },
      "source": [
        "# NaiveBayes Model"
      ]
    },
    {
      "cell_type": "markdown",
      "metadata": {
        "id": "lBJlEXMwqSJe"
      },
      "source": [
        "lab method"
      ]
    },
    {
      "cell_type": "code",
      "execution_count": 53,
      "metadata": {
        "colab": {
          "base_uri": "https://localhost:8080/"
        },
        "id": "8Z2MtYD0qUgx",
        "outputId": "58073385-3a02-4259-8b2b-363fac363def"
      },
      "outputs": [
        {
          "output_type": "stream",
          "name": "stdout",
          "text": [
            "{'words': ['the', 'least', 'controversial', 'pms', 'are', 'those', 'commonly', 'known', 'as', 'instincts', 'including', 'human', 'capacities', 'for', 'digestion', 'interpreting', 'stereoscopic', 'vision', 'suckling', 'a', 'mother', 's', 'breast', 'etc', 'i', 'does', 'not', 'know', 'that', 'digestion', 'is', 'a', 'psychological', 'process', 'or', 'type', 'of', 'behavior', 'it', 'is', 'a', 'physiological', 'biochemical', 'process', 'largely', 'outside', 'the', 'bounds', 'of', 'cognitive', 'action', 'i', 'do', 'not', 'believe', 'it', 'belongs', 'grouped', 'with', 'instincts'], 'class': 'pos'}\n",
            "{'words': ['mark', 'are', 'you', 'really', 'an', 'entity', 'made', 'of', 'pure', 'energy', 'is', 'your', 'ass', 'still', 'painful'], 'class': 'neg'}\n"
          ]
        }
      ],
      "source": [
        "#make data structure\n",
        "# zero is positive , one is negative\n",
        "train_dict = [{'words': sentence.split(), 'class': 'neg' if label == 1 else 'pos'} for sentence, label in zip(X_train, Y_train)]\n",
        "test_dict = [{'words': sentence.split(), 'class': 'neg' if label == 1 else 'pos'} for sentence, label in zip(X_test, Y_test)]\n",
        "\n",
        "print(train_dict[0])\n",
        "print(test_dict[0])"
      ]
    },
    {
      "cell_type": "code",
      "execution_count": 54,
      "metadata": {
        "id": "AZv2TyJDPXuL"
      },
      "outputs": [],
      "source": [
        "class NaiveBayes(object):\n",
        "\n",
        "    def predict(self, d): #d is data, represent a sentense\n",
        "        # TODO: Replace the following line with your own code to solve Problem 2\n",
        "        pr_P=0 #positive\n",
        "        pr_N=0 #negative\n",
        "        for word in d:\n",
        "            if word in self.vocabulary:\n",
        "                pr_P=pr_P+self.pw['pos'][word] #pw means Pr(w|c)\n",
        "                pr_N=pr_N+self.pw['neg'][word]\n",
        "            else:\n",
        "                pass\n",
        "        pr_P=pr_P+self.pc['pos']\n",
        "        pr_N=pr_N+self.pc['neg']\n",
        "        # print(\"predict finished\")\n",
        "        if(pr_P>pr_N):\n",
        "            return 'pos'\n",
        "        else:\n",
        "            return 'neg'\n",
        "\n",
        "\n",
        "    @classmethod\n",
        "    def train(cls, data, k=1):\n",
        "        # The following line creates a new object of type OurClassifier:\n",
        "        classifier = cls()\n",
        "        # The next few lines initialise the four attributes of the classifier:\n",
        "        classifier.classes = set()\n",
        "        classifier.vocabulary = set()\n",
        "        classifier.pc = {}\n",
        "        classifier.pw = {}\n",
        "\n",
        "        # TODO: Insert code to solve Problem 2\n",
        "\n",
        "        for i in range(len(data)): #create classes and count occurance numbers\n",
        "            newclass=data[i]['class']\n",
        "            if newclass not in classifier.classes:\n",
        "                classifier.classes.add(newclass) #add newclass\n",
        "                classifier.pc[newclass]=1        #initialize the occurance number of this new class\n",
        "                classifier.pw[newclass]={}        #create the new class dictionary of probability\n",
        "\n",
        "            else:\n",
        "                classifier.pc[newclass]+=1       #increment occurrence count of the existing class by 1\n",
        "\n",
        "        for classes in classifier.pc: #calculate probabilities of classes\n",
        "            classifier.pc[classes]=math.log(classifier.pc[classes]/len(data))\n",
        "\n",
        "        for i in range(len(data)): #create vocabulary and count occurance numbers\n",
        "            thisclass=data[i]['class']\n",
        "            sentence=data[i]['words']\n",
        "            for words in sentence:\n",
        "                if words not in classifier.vocabulary: #if we find a new word\n",
        "                    classifier.vocabulary.add(words)\n",
        "                    for c in classifier.classes:\n",
        "                        classifier.pw[c][words]=k\n",
        "                    classifier.pw[thisclass][words]+=1\n",
        "                else:\n",
        "                    classifier.pw[thisclass][words]+=1\n",
        "        for c in classifier.pw:\n",
        "            total=sum(list(classifier.pw[c].values()))\n",
        "            for word in classifier.pw[c]:\n",
        "                classifier.pw[c][word]=math.log(classifier.pw[c][word]/total)\n",
        "\n",
        "        return classifier"
      ]
    },
    {
      "cell_type": "code",
      "execution_count": 55,
      "metadata": {
        "id": "7N2ebpmyNM5J"
      },
      "outputs": [],
      "source": [
        "#evaluation in-class method\n",
        "\n",
        "#yeokwoon...\n",
        "def accuracy(classifier, samples):\n",
        "    \"\"\"Compute the accuracy of a classifier on a list of gold-standard samples.\"\"\"\n",
        "    # TODO: Implement this method to solve Problem 2\n",
        "    correct_pred = 0\n",
        "    for sample in samples:\n",
        "        if classifier.predict(sample['words']) == sample['class']:\n",
        "            correct_pred = correct_pred + 1\n",
        "    return 0 if len(samples) == 0 else float(correct_pred/len(samples))\n",
        "\n",
        "def precision(classifier, c, samples):\n",
        "    \"\"\"Compute the class-specific precision of a classifier on a list of gold-standard samples.\"\"\"\n",
        "    # TODO: Implement this method to solve Problem 2\n",
        "    total_class_predictions = 0\n",
        "    correct_class_predictions = 0\n",
        "    for sample in samples:\n",
        "        prediction = classifier.predict(sample['words'])\n",
        "        if prediction != c:\n",
        "            continue\n",
        "        total_class_predictions = total_class_predictions + 1\n",
        "        if sample['class'] == prediction:\n",
        "            correct_class_predictions = correct_class_predictions + 1\n",
        "    return 0 if total_class_predictions == 0 else float(correct_class_predictions/total_class_predictions)\n",
        "\n",
        "def recall(classifier, c, samples):\n",
        "    \"\"\"Compute the class-specific recall of a classifier on a list of gold-standard samples.\"\"\"\n",
        "    # TODO: Implement this method to solve Problem 2\n",
        "    correct_class_predictions = 0\n",
        "    total_of_class = 0\n",
        "    for sample in samples:\n",
        "        prediction = classifier.predict(sample['words'])\n",
        "        if sample['class'] != c:\n",
        "            continue\n",
        "        total_of_class = total_of_class + 1\n",
        "        if sample['class'] == prediction:\n",
        "            correct_class_predictions = correct_class_predictions + 1\n",
        "    return 0 if total_of_class == 0 else float(correct_class_predictions/total_of_class)\n",
        "\n",
        "def our_evaluate(classifier, samples):\n",
        "    print(\"accuracy = {:.2%}\".format(accuracy(classifier, samples)))\n",
        "    for c in sorted(classifier.classes):\n",
        "        p = precision(classifier, c, samples)\n",
        "        r = recall(classifier, c, samples)\n",
        "        # TODO: Change the next line to compute the F1-score\n",
        "        f = (2*p*r)/(p+r)\n",
        "        print(\"class {}: precision = {:.2%}, recall = {:.2%}, f1 = {:.2%}\".format(c, p, r, f))\n"
      ]
    },
    {
      "cell_type": "code",
      "execution_count": 56,
      "metadata": {
        "colab": {
          "base_uri": "https://localhost:8080/"
        },
        "id": "fwwQmoTaNnoV",
        "outputId": "ef309029-d344-4f1d-c2ec-f075636663c9"
      },
      "outputs": [
        {
          "output_type": "stream",
          "name": "stdout",
          "text": [
            "accuracy = 78.47%\n",
            "class neg: precision = 74.06%, recall = 87.94%, f1 = 80.40%\n",
            "class pos: precision = 84.99%, recall = 68.92%, f1 = 76.11%\n"
          ]
        }
      ],
      "source": [
        "classifier=NaiveBayes.train(train_dict)\n",
        "our_evaluate(classifier, test_dict)"
      ]
    },
    {
      "cell_type": "markdown",
      "metadata": {
        "id": "8MYecmldpjyn"
      },
      "source": [
        "outsource libralies"
      ]
    },
    {
      "cell_type": "code",
      "execution_count": 12,
      "metadata": {
        "id": "vd5pjLo0lJuc"
      },
      "outputs": [],
      "source": [
        "#evaluation\n",
        "from sklearn.metrics import roc_auc_score, roc_curve, confusion_matrix, precision_score, recall_score, accuracy_score, balanced_accuracy_score\n",
        "\n",
        "def evaluation(Y_test, predictions):\n",
        "    accuracy = accuracy_score( Y_test, predictions)\n",
        "    precision = precision_score(Y_test, predictions)\n",
        "    recall = recall_score(Y_test, predictions)\n",
        "\n",
        "    print(\"Accuracy:\",round(100*accuracy,2),'%')\n",
        "    print(\"Precision:\", round(100*precision,2),'%')\n",
        "    print(\"Recall:\", round(100*recall,2),'%')"
      ]
    },
    {
      "cell_type": "code",
      "execution_count": null,
      "metadata": {
        "id": "_A9iFC-IlJuc"
      },
      "outputs": [],
      "source": [
        "from sklearn.feature_extraction.text import CountVectorizer\n",
        "from sklearn.naive_bayes import MultinomialNB\n",
        "\n",
        "\n",
        "#Extract features from the text data: Bow vectorizing, training , predicting\n",
        "def predictions_modelNB(X_train,Y_train):\n",
        "    #vectorize dataset to Bow -> Learn the vocabulary dictionary and return term-document matrix\n",
        "    vectorizer = CountVectorizer()\n",
        "    vectorized_X_train = vectorizer.fit_transform(X_train)\n",
        "\n",
        "    #train model with add 0.1 smooth\n",
        "    model = MultinomialNB(alpha=0.1)\n",
        "    model.fit(vectorized_X_train, Y_train)\n",
        "\n",
        "    #predict_model\n",
        "    predictions = model.predict(vectorizer.transform(X_test))\n",
        "\n",
        "    return predictions"
      ]
    },
    {
      "cell_type": "code",
      "execution_count": null,
      "metadata": {
        "id": "DmUzaHszlJuc",
        "outputId": "ca813c60-3eab-406e-887f-d306991c7d58"
      },
      "outputs": [
        {
          "name": "stdout",
          "output_type": "stream",
          "text": [
            "Accuracy: 78.28 %\n",
            "Balanced accuracy: 78.23 %\n",
            "Precision: 73.68 %\n",
            "Recall: 88.3 %\n"
          ]
        }
      ],
      "source": [
        "# first attemp\n",
        "prediction_0 = predictions_modelNB(text_0 , Y_train)\n",
        "evaluation(Y_test, prediction_0)"
      ]
    },
    {
      "cell_type": "code",
      "execution_count": null,
      "metadata": {
        "id": "e29zxcFplJuc"
      },
      "outputs": [],
      "source": [
        "from sklearn.feature_extraction.text import CountVectorizer\n",
        "#more this part whats data look like after transform\n",
        "vectorizer = CountVectorizer()\n",
        "vectorized_X_train = vectorizer.fit_transform(X_train)\n",
        "vectorized_X_train = np.array(vectorized_X_train.todense())"
      ]
    },
    {
      "cell_type": "code",
      "execution_count": null,
      "metadata": {
        "id": "TcOHAYpOlJuc",
        "outputId": "939eb7bf-0d17-44d7-b733-b469efc72878"
      },
      "outputs": [
        {
          "data": {
            "text/plain": [
              "array([0, 0, 0, ..., 0, 0, 0])"
            ]
          },
          "execution_count": 23,
          "metadata": {},
          "output_type": "execute_result"
        }
      ],
      "source": [
        "vectorized_X_train[0]"
      ]
    },
    {
      "cell_type": "code",
      "execution_count": null,
      "metadata": {
        "id": "CV8cFHrOlJuc",
        "outputId": "0184fa49-6406-4c50-f56d-fe0523e8fd3f"
      },
      "outputs": [
        {
          "data": {
            "text/plain": [
              "(25414, 36345)"
            ]
          },
          "execution_count": 21,
          "metadata": {},
          "output_type": "execute_result"
        }
      ],
      "source": [
        "vectorized_X_train.shape"
      ]
    },
    {
      "cell_type": "code",
      "execution_count": null,
      "metadata": {
        "id": "vyO8eUFElJuc"
      },
      "outputs": [],
      "source": [
        "#other style text\n",
        "prediction_1 = predictions_modelNB(preprocessed_text_1, Y_train)\n",
        "prediction_2  = predictions_modelNB(preprocessed_text_2, Y_train)\n",
        "prediction_3  = predictions_modelNB(preprocessed_text_3, Y_train)\n",
        "prediction_4  = predictions_modelNB(preprocessed_text_4, Y_train)"
      ]
    },
    {
      "cell_type": "code",
      "execution_count": null,
      "metadata": {
        "id": "oGbdjwcTlJuc",
        "outputId": "0a56e49e-ba14-403e-a796-54961c7233f5"
      },
      "outputs": [
        {
          "name": "stdout",
          "output_type": "stream",
          "text": [
            "Lemm + stopword removal + CountVectorizer\n",
            "Accuracy: 75.57 %\n",
            "Balanced accuracy: 75.54 %\n",
            "Precision: 72.96 %\n",
            "Recall: 81.61 %\n",
            "\n",
            "Lemm + no stopword removal + CountVectorizer\n",
            "Accuracy: 77.2 %\n",
            "Balanced accuracy: 77.16 %\n",
            "Precision: 73.11 %\n",
            "Recall: 86.38 %\n",
            "\n",
            "Stem + stopword removal + CountVectorizer\n",
            "Accuracy: 66.05 %\n",
            "Balanced accuracy: 65.95 %\n",
            "Precision: 61.32 %\n",
            "Recall: 87.79 %\n",
            "\n",
            "Stem + no stopword removal + CountVectorizer\n",
            "Accuracy: 74.78 %\n",
            "Balanced accuracy: 74.74 %\n",
            "Precision: 71.27 %\n",
            "Recall: 83.4 %\n"
          ]
        }
      ],
      "source": [
        "# with clean data\n",
        "#vectorize, model, and evaluate model using CountVectorizer\n",
        "\n",
        "#Lemm + stopword removal\n",
        "print(\"Lemm + stopword removal + CountVectorizer\")\n",
        "evaluation(Y_test, prediction_1)\n",
        "\n",
        "#Lemm + no stopword removal\n",
        "print(\"\\nLemm + no stopword removal + CountVectorizer\")\n",
        "evaluation(Y_test, prediction_2)\n",
        "\n",
        "#Stem + stopword removal\n",
        "print(\"\\nStem + stopword removal + CountVectorizer\")\n",
        "evaluation(Y_test, prediction_3)\n",
        "\n",
        "#Stem + no stopword removal\n",
        "print(\"\\nStem + no stopword removal + CountVectorizer\")\n",
        "evaluation(Y_test, prediction_4)"
      ]
    },
    {
      "cell_type": "markdown",
      "metadata": {
        "id": "5szR6ufWp4E_"
      },
      "source": [
        "# SVM Model"
      ]
    },
    {
      "cell_type": "code",
      "execution_count": null,
      "metadata": {
        "colab": {
          "base_uri": "https://localhost:8080/"
        },
        "id": "PqGL4uGYp3VA",
        "outputId": "2d5eb88c-38b7-427c-94f3-a27467f45528"
      },
      "outputs": [
        {
          "name": "stdout",
          "output_type": "stream",
          "text": [
            "0.7778185824458318\n"
          ]
        }
      ],
      "source": [
        "from sklearn import svm\n",
        "from sklearn.feature_extraction.text import CountVectorizer\n",
        "\n",
        "\n",
        "vectorizer = CountVectorizer()\n",
        "x_train_vectorize = vectorizer.fit_transform(X_train)\n",
        "x_test_vectorize = vectorizer.transform(X_test)\n",
        "svm_classifier = svm.SVC(C=1.0, kernel='linear', degree=3, gamma='auto')\n",
        "svm_classifier.fit(x_train_vectorize, Y_train)\n",
        "prediction = svm_classifier.predict(x_test_vectorize)\n"
      ]
    },
    {
      "cell_type": "code",
      "execution_count": null,
      "metadata": {
        "colab": {
          "base_uri": "https://localhost:8080/"
        },
        "id": "Uoislo1uQAbU",
        "outputId": "43f9c6da-184e-4728-b982-f2f03d9f9e33"
      },
      "outputs": [
        {
          "name": "stdout",
          "output_type": "stream",
          "text": [
            "Accuracy: 77.78 %\n",
            "Precision: 79.62 %\n",
            "Recall: 76.95 %\n",
            "None\n"
          ]
        }
      ],
      "source": [
        "print(evaluation(prediction, Y_test))"
      ]
    },
    {
      "cell_type": "markdown",
      "metadata": {
        "id": "qLy18T61pynH"
      },
      "source": [
        "# LSTM Model"
      ]
    },
    {
      "cell_type": "code",
      "execution_count": 4,
      "metadata": {
        "colab": {
          "base_uri": "https://localhost:8080/"
        },
        "id": "M6ANHNSZp_Zt",
        "outputId": "806d573c-814c-487d-9ec0-997eeb9cf362"
      },
      "outputs": [
        {
          "output_type": "stream",
          "name": "stdout",
          "text": [
            "Epoch 1/30\n",
            "636/636 [==============================] - 456s 712ms/step - loss: 0.5411 - accuracy: 0.7152 - val_loss: 0.4473 - val_accuracy: 0.7860\n",
            "Epoch 2/30\n",
            "636/636 [==============================] - 460s 724ms/step - loss: 0.4205 - accuracy: 0.8058 - val_loss: 0.4337 - val_accuracy: 0.7921\n",
            "Epoch 3/30\n",
            "636/636 [==============================] - 454s 715ms/step - loss: 0.3877 - accuracy: 0.8215 - val_loss: 0.4329 - val_accuracy: 0.7934\n",
            "Epoch 4/30\n",
            "636/636 [==============================] - 454s 714ms/step - loss: 0.3775 - accuracy: 0.8304 - val_loss: 0.4336 - val_accuracy: 0.7915\n",
            "Epoch 5/30\n",
            "636/636 [==============================] - 451s 709ms/step - loss: 0.3557 - accuracy: 0.8389 - val_loss: 0.4415 - val_accuracy: 0.7863\n",
            "Epoch 6/30\n",
            "636/636 [==============================] - 452s 710ms/step - loss: 0.3392 - accuracy: 0.8489 - val_loss: 0.4631 - val_accuracy: 0.7926\n",
            "Epoch 7/30\n",
            "636/636 [==============================] - 450s 708ms/step - loss: 0.3261 - accuracy: 0.8528 - val_loss: 0.4627 - val_accuracy: 0.7858\n",
            "Epoch 8/30\n",
            "636/636 [==============================] - 459s 721ms/step - loss: 0.3124 - accuracy: 0.8613 - val_loss: 0.4813 - val_accuracy: 0.7915\n"
          ]
        },
        {
          "output_type": "execute_result",
          "data": {
            "text/plain": [
              "<keras.src.callbacks.History at 0x7d6995caa800>"
            ]
          },
          "metadata": {},
          "execution_count": 4
        }
      ],
      "source": [
        "# Import the necessary libraries\n",
        "from keras.preprocessing.text import Tokenizer\n",
        "from keras.preprocessing.sequence import pad_sequences\n",
        "from keras.layers import Embedding, LSTM, Dense, Dropout, SpatialDropout1D\n",
        "from keras.callbacks import EarlyStopping\n",
        "from keras.models import Sequential\n",
        "\n",
        "\n",
        "# Preprocess the text data using a Tokenizer\n",
        "max_words = 3000\n",
        "max_len = 500\n",
        "tokenizer = Tokenizer(num_words=max_words)\n",
        "tokenizer.fit_on_texts(X_train)\n",
        "sequences = tokenizer.texts_to_sequences(X_train)\n",
        "X = pad_sequences(sequences, maxlen=max_len)\n",
        "\n",
        "# Build the model\n",
        "# Define parameter\n",
        "n_lstm = 128\n",
        "drop_lstm = 0.2\n",
        "embedding_dim = 16\n",
        "\n",
        "# Define LSTM Model\n",
        "model1 = Sequential()\n",
        "model1.add(Embedding(max_words, embedding_dim, input_length=max_len))\n",
        "model1.add(SpatialDropout1D(drop_lstm))\n",
        "model1.add(LSTM(n_lstm, return_sequences=False))\n",
        "model1.add(Dropout(drop_lstm))\n",
        "model1.add(Dense(1, activation='sigmoid'))\n",
        "\n",
        "# Compile and train the model\n",
        "model1.compile(loss='binary_crossentropy', optimizer='adam', metrics=['accuracy'])\n",
        "early_stopping = EarlyStopping(monitor='val_loss', patience=5)\n",
        "model1.fit(X, Y_train, validation_split=0.2, epochs=30, callbacks=[early_stopping])"
      ]
    },
    {
      "cell_type": "code",
      "execution_count": 6,
      "metadata": {
        "colab": {
          "base_uri": "https://localhost:8080/",
          "height": 472
        },
        "id": "e7j4mlK_nOZi",
        "outputId": "6d542bb0-a67b-4712-d778-452c33ffdb7e"
      },
      "outputs": [
        {
          "output_type": "display_data",
          "data": {
            "text/plain": [
              "<Figure size 640x480 with 1 Axes>"
            ],
            "image/png": "[encoded data removed]"
          },
          "metadata": {}
        }
      ],
      "source": [
        "import matplotlib.pyplot as plt\n",
        "# Plot the loss graph\n",
        "plt.plot(model1.history.history['loss'], label='Training Loss', color=\"orange\")\n",
        "plt.xlabel('Epochs')\n",
        "plt.ylabel('Loss')\n",
        "plt.title('Training Loss')\n",
        "plt.legend()\n",
        "plt.show()"
      ]
    },
    {
      "cell_type": "code",
      "execution_count": 7,
      "metadata": {
        "colab": {
          "base_uri": "https://localhost:8080/"
        },
        "id": "rgvZZLBdlJud",
        "outputId": "21e072e5-f71f-4650-f1e4-342f8f1adaf1"
      },
      "outputs": [
        {
          "output_type": "stream",
          "name": "stdout",
          "text": [
            "341/341 [==============================] - 97s 277ms/step\n"
          ]
        }
      ],
      "source": [
        "# Predict the class of a new text\n",
        "new_sequences = tokenizer.texts_to_sequences(X_test)\n",
        "new_X = pad_sequences(new_sequences, maxlen=max_len)\n",
        "prediction_lstm = model1.predict(new_X)\n",
        "#print(prediction_lstm_0 )  # Output: [[0.5]]"
      ]
    },
    {
      "cell_type": "code",
      "execution_count": 8,
      "metadata": {
        "id": "Wrt4Hb-XuooF"
      },
      "outputs": [],
      "source": [
        "prediction_lstm_0 = np.where(prediction_lstm >= 0.5, 1, 0)"
      ]
    },
    {
      "cell_type": "code",
      "execution_count": 13,
      "metadata": {
        "colab": {
          "base_uri": "https://localhost:8080/"
        },
        "id": "jTqWy2pzlJud",
        "outputId": "1caf1848-434e-4f4c-8aaa-83057c3d03c8"
      },
      "outputs": [
        {
          "output_type": "stream",
          "name": "stdout",
          "text": [
            "Accuracy: 78.52 %\n",
            "Precision: 77.74 %\n",
            "Recall: 80.19 %\n"
          ]
        }
      ],
      "source": [
        "evaluation(Y_test,prediction_lstm_0)"
      ]
    },
    {
      "cell_type": "markdown",
      "metadata": {
        "id": "qmrQYiPEqCgI"
      },
      "source": [
        "# Systems Evaluation and Result Analysis"
      ]
    },
    {
      "cell_type": "markdown",
      "metadata": {
        "id": "AiMLTP2RuCKz"
      },
      "source": [
        "Testing model with xxxx data\n",
        "This data is from ......"
      ]
    },
    {
      "cell_type": "code",
      "execution_count": null,
      "metadata": {
        "id": "tOF0DvZauBca"
      },
      "outputs": [],
      "source": []
    },
    {
      "cell_type": "markdown",
      "metadata": {
        "id": "tNnT6QQfsJpV"
      },
      "source": [
        "**Comparison Performance on Different Models**"
      ]
    },
    {
      "cell_type": "markdown",
      "metadata": {
        "id": "84ITY2zCugji"
      },
      "source": [
        "performance on testing dataset"
      ]
    },
    {
      "cell_type": "code",
      "execution_count": null,
      "metadata": {
        "id": "r5gqq1MfsFG6"
      },
      "outputs": [],
      "source": []
    },
    {
      "cell_type": "markdown",
      "metadata": {
        "id": "_80o4da7upM-"
      },
      "source": [
        "performance on xxx dataset"
      ]
    },
    {
      "cell_type": "code",
      "execution_count": null,
      "metadata": {
        "id": "efMenHuyqRoB"
      },
      "outputs": [],
      "source": []
    },
    {
      "cell_type": "markdown",
      "metadata": {
        "id": "2-a1-xsLvaUs"
      },
      "source": [
        "This illustration compares the final results"
      ]
    },
    {
      "cell_type": "code",
      "execution_count": null,
      "metadata": {
        "id": "VPFxjVV4vYtX"
      },
      "outputs": [],
      "source": []
    },
    {
      "cell_type": "markdown",
      "metadata": {
        "id": "1IjIKQZbsuln"
      },
      "source": [
        "Final model will be : ..."
      ]
    },
    {
      "cell_type": "code",
      "execution_count": null,
      "metadata": {
        "id": "htukWtXovQMk"
      },
      "outputs": [],
      "source": []
    },
    {
      "cell_type": "markdown",
      "metadata": {
        "id": "eBGR45cMlJue"
      },
      "source": [
        "compare with BERT,...."
      ]
    },
    {
      "cell_type": "code",
      "source": [],
      "metadata": {
        "id": "xkUm1CftW8yi"
      },
      "execution_count": null,
      "outputs": []
    },
    {
      "cell_type": "markdown",
      "metadata": {
        "id": "CPxgUwRusXNk"
      },
      "source": [
        "# Model Deployment"
      ]
    },
    {
      "cell_type": "code",
      "execution_count": null,
      "metadata": {
        "id": "7gWNwYQ7p_O0"
      },
      "outputs": [],
      "source": []
    },
    {
      "cell_type": "code",
      "execution_count": null,
      "metadata": {
        "id": "U6YgtCjftGlx"
      },
      "outputs": [],
      "source": [
        "# model input - prompt\n",
        "input_text = ''\n",
        "\n",
        "# pred_result = predict_NB(input_text)\n",
        "# pred_result = predict_SVM(input_text)\n",
        "# pred_result = predict_LSTM(input_text)"
      ]
    }
  ],
  "metadata": {
    "colab": {
      "provenance": [],
      "include_colab_link": true
    },
    "kernelspec": {
      "display_name": "base",
      "language": "python",
      "name": "python3"
    },
    "language_info": {
      "codemirror_mode": {
        "name": "ipython",
        "version": 3
      },
      "file_extension": ".py",
      "mimetype": "text/x-python",
      "name": "python",
      "nbconvert_exporter": "python",
      "pygments_lexer": "ipython3",
      "version": "3.9.13"
    },
    "vscode": {
      "interpreter": {
        "hash": "01548455d79935998b645857773929aefce64ad43d14ec7bcdbc2e1f1ada2e24"
      }
    }
  },
  "nbformat": 4,
  "nbformat_minor": 0
}