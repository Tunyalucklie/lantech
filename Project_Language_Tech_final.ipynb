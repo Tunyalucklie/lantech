{
  "cells": [
    {
      "cell_type": "markdown",
      "metadata": {
        "id": "view-in-github",
        "colab_type": "text"
      },
      "source": [
        "<a href=\"https://colab.research.google.com/github/Tunyalucklie/lantech/blob/main/Project_Language_Tech_final.ipynb\" target=\"_parent\"><img src=\"https://colab.research.google.com/assets/colab-badge.svg\" alt=\"Open In Colab\"/></a>"
      ]
    },
    {
      "cell_type": "markdown",
      "metadata": {
        "id": "2JgwI5SJm_uD"
      },
      "source": [
        "#**Sentiment analysis for content moderation in social media communities**\n",
        "\n",
        "\n"
      ]
    },
    {
      "cell_type": "markdown",
      "metadata": {
        "id": "2BWsw1I3wNNx"
      },
      "source": [
        "picture\n",
        "\n",
        "brief project explanation"
      ]
    },
    {
      "cell_type": "code",
      "execution_count": 1,
      "metadata": {
        "colab": {
          "base_uri": "https://localhost:8080/"
        },
        "id": "t6WIGfn6WvML",
        "outputId": "35113933-331d-41d6-e3fc-39d0e2cffd29"
      },
      "outputs": [
        {
          "output_type": "stream",
          "name": "stderr",
          "text": [
            "[nltk_data] Downloading package punkt to /root/nltk_data...\n",
            "[nltk_data]   Unzipping tokenizers/punkt.zip.\n",
            "[nltk_data] Downloading package wordnet to /root/nltk_data...\n",
            "[nltk_data] Downloading package stopwords to /root/nltk_data...\n",
            "[nltk_data]   Unzipping corpora/stopwords.zip.\n",
            "[nltk_data] Downloading package omw-1.4 to /root/nltk_data...\n",
            "[nltk_data] Downloading package averaged_perceptron_tagger to\n",
            "[nltk_data]     /root/nltk_data...\n",
            "[nltk_data]   Unzipping taggers/averaged_perceptron_tagger.zip.\n"
          ]
        },
        {
          "output_type": "execute_result",
          "data": {
            "text/plain": [
              "True"
            ]
          },
          "metadata": {},
          "execution_count": 1
        }
      ],
      "source": [
        "import os\n",
        "import math\n",
        "\n",
        "import pandas as pd\n",
        "import numpy as np\n",
        "import re\n",
        "\n",
        "import seaborn as sns\n",
        "import matplotlib.pyplot as plt\n",
        "\n",
        "import nltk\n",
        "from nltk.stem import WordNetLemmatizer\n",
        "from nltk.stem import PorterStemmer\n",
        "from nltk.tokenize import word_tokenize\n",
        "from nltk.corpus import stopwords\n",
        "nltk.download(\"punkt\")\n",
        "nltk.download('wordnet')\n",
        "nltk.download('stopwords')\n",
        "nltk.download('omw-1.4')\n",
        "nltk.download('averaged_perceptron_tagger')\n"
      ]
    },
    {
      "cell_type": "markdown",
      "metadata": {
        "id": "o4FOrgeTlJua"
      },
      "source": [
        "# Download Dataset"
      ]
    },
    {
      "cell_type": "code",
      "execution_count": 2,
      "metadata": {
        "id": "2EO5bkhmYLGq"
      },
      "outputs": [],
      "source": [
        "training_data = pd.read_csv(\"https://raw.githubusercontent.com/Tunyalucklie/lantech/main/training_data_project.csv\",encoding='utf-8')\n",
        "testing_data = pd.read_csv(\"https://raw.githubusercontent.com/Tunyalucklie/lantech/main/testing_data_project.csv\",encoding='utf-8')"
      ]
    },
    {
      "cell_type": "markdown",
      "metadata": {
        "id": "4-OWVXbowfQW"
      },
      "source": [
        "Dataset information: ....."
      ]
    },
    {
      "cell_type": "markdown",
      "metadata": {
        "id": "4IfVsw7jBRZH"
      },
      "source": [
        "# Analysis on Sentence, Words and Class"
      ]
    },
    {
      "cell_type": "code",
      "execution_count": null,
      "metadata": {
        "colab": {
          "base_uri": "https://localhost:8080/"
        },
        "id": "MBB0ggNfebWH",
        "outputId": "b93eee03-b27b-47e3-c743-07614bf9b070"
      },
      "outputs": [
        {
          "output_type": "stream",
          "name": "stdout",
          "text": [
            "<class 'pandas.core.frame.DataFrame'>\n",
            "RangeIndex: 25414 entries, 0 to 25413\n",
            "Data columns (total 2 columns):\n",
            " #   Column   Non-Null Count  Dtype \n",
            "---  ------   --------------  ----- \n",
            " 0   Content  25414 non-null  object\n",
            " 1   Label    25414 non-null  int64 \n",
            "dtypes: int64(1), object(1)\n",
            "memory usage: 397.2+ KB\n"
          ]
        }
      ],
      "source": [
        "training_data.info()"
      ]
    },
    {
      "cell_type": "code",
      "execution_count": null,
      "metadata": {
        "id": "Mqoh_MGOlJub",
        "outputId": "bc174d12-76e8-442a-e13a-5791a442d063",
        "colab": {
          "base_uri": "https://localhost:8080/"
        }
      },
      "outputs": [
        {
          "output_type": "stream",
          "name": "stdout",
          "text": [
            "<class 'pandas.core.frame.DataFrame'>\n",
            "RangeIndex: 10892 entries, 0 to 10891\n",
            "Data columns (total 2 columns):\n",
            " #   Column   Non-Null Count  Dtype \n",
            "---  ------   --------------  ----- \n",
            " 0   Content  10892 non-null  object\n",
            " 1   Label    10892 non-null  int64 \n",
            "dtypes: int64(1), object(1)\n",
            "memory usage: 170.3+ KB\n"
          ]
        }
      ],
      "source": [
        "testing_data.info()"
      ]
    },
    {
      "cell_type": "code",
      "execution_count": null,
      "metadata": {
        "colab": {
          "base_uri": "https://localhost:8080/",
          "height": 206
        },
        "id": "ufplqBuIl0T0",
        "outputId": "6db19d67-b0fe-4101-b672-ff7c2cfb1c1e"
      },
      "outputs": [
        {
          "output_type": "execute_result",
          "data": {
            "text/plain": [
              "                                             Content  Label\n",
              "0  the least controversial pms are those commonly...      0\n",
              "1        oh families if a man talked like that to me      0\n",
              "2               wee bullying blacks great once again      1\n",
              "3  apology i apologize for my rudeness on span today      0\n",
              "4          where the light went all the images [UNK]      1"
            ],
            "text/html": [
              "\n",
              "  <div id=\"df-ef9329ec-ed3a-44e1-a3bb-3a3a005bf451\" class=\"colab-df-container\">\n",
              "    <div>\n",
              "<style scoped>\n",
              "    .dataframe tbody tr th:only-of-type {\n",
              "        vertical-align: middle;\n",
              "    }\n",
              "\n",
              "    .dataframe tbody tr th {\n",
              "        vertical-align: top;\n",
              "    }\n",
              "\n",
              "    .dataframe thead th {\n",
              "        text-align: right;\n",
              "    }\n",
              "</style>\n",
              "<table border=\"1\" class=\"dataframe\">\n",
              "  <thead>\n",
              "    <tr style=\"text-align: right;\">\n",
              "      <th></th>\n",
              "      <th>Content</th>\n",
              "      <th>Label</th>\n",
              "    </tr>\n",
              "  </thead>\n",
              "  <tbody>\n",
              "    <tr>\n",
              "      <th>0</th>\n",
              "      <td>the least controversial pms are those commonly...</td>\n",
              "      <td>0</td>\n",
              "    </tr>\n",
              "    <tr>\n",
              "      <th>1</th>\n",
              "      <td>oh families if a man talked like that to me</td>\n",
              "      <td>0</td>\n",
              "    </tr>\n",
              "    <tr>\n",
              "      <th>2</th>\n",
              "      <td>wee bullying blacks great once again</td>\n",
              "      <td>1</td>\n",
              "    </tr>\n",
              "    <tr>\n",
              "      <th>3</th>\n",
              "      <td>apology i apologize for my rudeness on span today</td>\n",
              "      <td>0</td>\n",
              "    </tr>\n",
              "    <tr>\n",
              "      <th>4</th>\n",
              "      <td>where the light went all the images [UNK]</td>\n",
              "      <td>1</td>\n",
              "    </tr>\n",
              "  </tbody>\n",
              "</table>\n",
              "</div>\n",
              "    <div class=\"colab-df-buttons\">\n",
              "\n",
              "  <div class=\"colab-df-container\">\n",
              "    <button class=\"colab-df-convert\" onclick=\"convertToInteractive('df-ef9329ec-ed3a-44e1-a3bb-3a3a005bf451')\"\n",
              "            title=\"Convert this dataframe to an interactive table.\"\n",
              "            style=\"display:none;\">\n",
              "\n",
              "  <svg xmlns=\"http://www.w3.org/2000/svg\" height=\"24px\" viewBox=\"0 -960 960 960\">\n",
              "    <path d=\"M120-120v-720h720v720H120Zm60-500h600v-160H180v160Zm220 220h160v-160H400v160Zm0 220h160v-160H400v160ZM180-400h160v-160H180v160Zm440 0h160v-160H620v160ZM180-180h160v-160H180v160Zm440 0h160v-160H620v160Z\"/>\n",
              "  </svg>\n",
              "    </button>\n",
              "\n",
              "  <style>\n",
              "    .colab-df-container {\n",
              "      display:flex;\n",
              "      gap: 12px;\n",
              "    }\n",
              "\n",
              "    .colab-df-convert {\n",
              "      background-color: #E8F0FE;\n",
              "      border: none;\n",
              "      border-radius: 50%;\n",
              "      cursor: pointer;\n",
              "      display: none;\n",
              "      fill: #1967D2;\n",
              "      height: 32px;\n",
              "      padding: 0 0 0 0;\n",
              "      width: 32px;\n",
              "    }\n",
              "\n",
              "    .colab-df-convert:hover {\n",
              "      background-color: #E2EBFA;\n",
              "      box-shadow: 0px 1px 2px rgba(60, 64, 67, 0.3), 0px 1px 3px 1px rgba(60, 64, 67, 0.15);\n",
              "      fill: #174EA6;\n",
              "    }\n",
              "\n",
              "    .colab-df-buttons div {\n",
              "      margin-bottom: 4px;\n",
              "    }\n",
              "\n",
              "    [theme=dark] .colab-df-convert {\n",
              "      background-color: #3B4455;\n",
              "      fill: #D2E3FC;\n",
              "    }\n",
              "\n",
              "    [theme=dark] .colab-df-convert:hover {\n",
              "      background-color: #434B5C;\n",
              "      box-shadow: 0px 1px 3px 1px rgba(0, 0, 0, 0.15);\n",
              "      filter: drop-shadow(0px 1px 2px rgba(0, 0, 0, 0.3));\n",
              "      fill: #FFFFFF;\n",
              "    }\n",
              "  </style>\n",
              "\n",
              "    <script>\n",
              "      const buttonEl =\n",
              "        document.querySelector('#df-ef9329ec-ed3a-44e1-a3bb-3a3a005bf451 button.colab-df-convert');\n",
              "      buttonEl.style.display =\n",
              "        google.colab.kernel.accessAllowed ? 'block' : 'none';\n",
              "\n",
              "      async function convertToInteractive(key) {\n",
              "        const element = document.querySelector('#df-ef9329ec-ed3a-44e1-a3bb-3a3a005bf451');\n",
              "        const dataTable =\n",
              "          await google.colab.kernel.invokeFunction('convertToInteractive',\n",
              "                                                    [key], {});\n",
              "        if (!dataTable) return;\n",
              "\n",
              "        const docLinkHtml = 'Like what you see? Visit the ' +\n",
              "          '<a target=\"_blank\" href=https://colab.research.google.com/notebooks/data_table.ipynb>data table notebook</a>'\n",
              "          + ' to learn more about interactive tables.';\n",
              "        element.innerHTML = '';\n",
              "        dataTable['output_type'] = 'display_data';\n",
              "        await google.colab.output.renderOutput(dataTable, element);\n",
              "        const docLink = document.createElement('div');\n",
              "        docLink.innerHTML = docLinkHtml;\n",
              "        element.appendChild(docLink);\n",
              "      }\n",
              "    </script>\n",
              "  </div>\n",
              "\n",
              "\n",
              "<div id=\"df-b49703a9-7f3c-494d-88bd-c491c1b23608\">\n",
              "  <button class=\"colab-df-quickchart\" onclick=\"quickchart('df-b49703a9-7f3c-494d-88bd-c491c1b23608')\"\n",
              "            title=\"Suggest charts\"\n",
              "            style=\"display:none;\">\n",
              "\n",
              "<svg xmlns=\"http://www.w3.org/2000/svg\" height=\"24px\"viewBox=\"0 0 24 24\"\n",
              "     width=\"24px\">\n",
              "    <g>\n",
              "        <path d=\"M19 3H5c-1.1 0-2 .9-2 2v14c0 1.1.9 2 2 2h14c1.1 0 2-.9 2-2V5c0-1.1-.9-2-2-2zM9 17H7v-7h2v7zm4 0h-2V7h2v10zm4 0h-2v-4h2v4z\"/>\n",
              "    </g>\n",
              "</svg>\n",
              "  </button>\n",
              "\n",
              "<style>\n",
              "  .colab-df-quickchart {\n",
              "      --bg-color: #E8F0FE;\n",
              "      --fill-color: #1967D2;\n",
              "      --hover-bg-color: #E2EBFA;\n",
              "      --hover-fill-color: #174EA6;\n",
              "      --disabled-fill-color: #AAA;\n",
              "      --disabled-bg-color: #DDD;\n",
              "  }\n",
              "\n",
              "  [theme=dark] .colab-df-quickchart {\n",
              "      --bg-color: #3B4455;\n",
              "      --fill-color: #D2E3FC;\n",
              "      --hover-bg-color: #434B5C;\n",
              "      --hover-fill-color: #FFFFFF;\n",
              "      --disabled-bg-color: #3B4455;\n",
              "      --disabled-fill-color: #666;\n",
              "  }\n",
              "\n",
              "  .colab-df-quickchart {\n",
              "    background-color: var(--bg-color);\n",
              "    border: none;\n",
              "    border-radius: 50%;\n",
              "    cursor: pointer;\n",
              "    display: none;\n",
              "    fill: var(--fill-color);\n",
              "    height: 32px;\n",
              "    padding: 0;\n",
              "    width: 32px;\n",
              "  }\n",
              "\n",
              "  .colab-df-quickchart:hover {\n",
              "    background-color: var(--hover-bg-color);\n",
              "    box-shadow: 0 1px 2px rgba(60, 64, 67, 0.3), 0 1px 3px 1px rgba(60, 64, 67, 0.15);\n",
              "    fill: var(--button-hover-fill-color);\n",
              "  }\n",
              "\n",
              "  .colab-df-quickchart-complete:disabled,\n",
              "  .colab-df-quickchart-complete:disabled:hover {\n",
              "    background-color: var(--disabled-bg-color);\n",
              "    fill: var(--disabled-fill-color);\n",
              "    box-shadow: none;\n",
              "  }\n",
              "\n",
              "  .colab-df-spinner {\n",
              "    border: 2px solid var(--fill-color);\n",
              "    border-color: transparent;\n",
              "    border-bottom-color: var(--fill-color);\n",
              "    animation:\n",
              "      spin 1s steps(1) infinite;\n",
              "  }\n",
              "\n",
              "  @keyframes spin {\n",
              "    0% {\n",
              "      border-color: transparent;\n",
              "      border-bottom-color: var(--fill-color);\n",
              "      border-left-color: var(--fill-color);\n",
              "    }\n",
              "    20% {\n",
              "      border-color: transparent;\n",
              "      border-left-color: var(--fill-color);\n",
              "      border-top-color: var(--fill-color);\n",
              "    }\n",
              "    30% {\n",
              "      border-color: transparent;\n",
              "      border-left-color: var(--fill-color);\n",
              "      border-top-color: var(--fill-color);\n",
              "      border-right-color: var(--fill-color);\n",
              "    }\n",
              "    40% {\n",
              "      border-color: transparent;\n",
              "      border-right-color: var(--fill-color);\n",
              "      border-top-color: var(--fill-color);\n",
              "    }\n",
              "    60% {\n",
              "      border-color: transparent;\n",
              "      border-right-color: var(--fill-color);\n",
              "    }\n",
              "    80% {\n",
              "      border-color: transparent;\n",
              "      border-right-color: var(--fill-color);\n",
              "      border-bottom-color: var(--fill-color);\n",
              "    }\n",
              "    90% {\n",
              "      border-color: transparent;\n",
              "      border-bottom-color: var(--fill-color);\n",
              "    }\n",
              "  }\n",
              "</style>\n",
              "\n",
              "  <script>\n",
              "    async function quickchart(key) {\n",
              "      const quickchartButtonEl =\n",
              "        document.querySelector('#' + key + ' button');\n",
              "      quickchartButtonEl.disabled = true;  // To prevent multiple clicks.\n",
              "      quickchartButtonEl.classList.add('colab-df-spinner');\n",
              "      try {\n",
              "        const charts = await google.colab.kernel.invokeFunction(\n",
              "            'suggestCharts', [key], {});\n",
              "      } catch (error) {\n",
              "        console.error('Error during call to suggestCharts:', error);\n",
              "      }\n",
              "      quickchartButtonEl.classList.remove('colab-df-spinner');\n",
              "      quickchartButtonEl.classList.add('colab-df-quickchart-complete');\n",
              "    }\n",
              "    (() => {\n",
              "      let quickchartButtonEl =\n",
              "        document.querySelector('#df-b49703a9-7f3c-494d-88bd-c491c1b23608 button');\n",
              "      quickchartButtonEl.style.display =\n",
              "        google.colab.kernel.accessAllowed ? 'block' : 'none';\n",
              "    })();\n",
              "  </script>\n",
              "</div>\n",
              "    </div>\n",
              "  </div>\n"
            ],
            "application/vnd.google.colaboratory.intrinsic+json": {
              "type": "dataframe",
              "variable_name": "training_data",
              "summary": "{\n  \"name\": \"training_data\",\n  \"rows\": 25414,\n  \"fields\": [\n    {\n      \"column\": \"Content\",\n      \"properties\": {\n        \"dtype\": \"string\",\n        \"num_unique_values\": 25378,\n        \"samples\": [\n          \"boo hui says ky refugee contractor not enough muslim refugees placed in bowling green under this how left wing media conveniently forgets things like this iraqi refugee terrorists arrested in bg good thing i am here to remind them\",\n          \"should whatever address to in spaceflight also i just went through and today and it seems as though it has not been updated quite as much as the upcoming flights on have\",\n          \"keep standing your ground interview represents bogus news vociferous misrepresentation of valid affirmation\"\n        ],\n        \"semantic_type\": \"\",\n        \"description\": \"\"\n      }\n    },\n    {\n      \"column\": \"Label\",\n      \"properties\": {\n        \"dtype\": \"number\",\n        \"std\": 0,\n        \"min\": 0,\n        \"max\": 1,\n        \"num_unique_values\": 2,\n        \"samples\": [\n          1,\n          0\n        ],\n        \"semantic_type\": \"\",\n        \"description\": \"\"\n      }\n    }\n  ]\n}"
            }
          },
          "metadata": {},
          "execution_count": 19
        }
      ],
      "source": [
        "training_data.head(5)"
      ]
    },
    {
      "cell_type": "code",
      "execution_count": null,
      "metadata": {
        "colab": {
          "base_uri": "https://localhost:8080/",
          "height": 472
        },
        "id": "DQfJU8IhBbKL",
        "outputId": "d58b4856-3c44-4b7c-eab9-482e0f23eb79"
      },
      "outputs": [
        {
          "output_type": "display_data",
          "data": {
            "text/plain": [
              "<Figure size 640x480 with 1 Axes>"
            ],
            "image/png": "[encoded data removed]"
          },
          "metadata": {}
        }
      ],
      "source": [
        "#class value 1: hateful, 0: non-hateful\n",
        "label_counts = training_data['Label'].value_counts()\n",
        "labels = ['hateful', 'non-hateful']\n",
        "colors = ['tab:red', 'tab:blue']\n",
        "\n",
        "plt.title('Class')\n",
        "plt.xlabel('class')\n",
        "plt.ylabel('Count')\n",
        "plt.bar(labels, label_counts, color=colors)\n",
        "plt.show()"
      ]
    },
    {
      "cell_type": "code",
      "execution_count": null,
      "metadata": {
        "colab": {
          "base_uri": "https://localhost:8080/",
          "height": 448
        },
        "id": "YtZltV8KqLMt",
        "outputId": "1819cb51-5373-4235-da7a-8da7dd45f3d7"
      },
      "outputs": [
        {
          "output_type": "execute_result",
          "data": {
            "text/plain": [
              "<Axes: >"
            ]
          },
          "metadata": {},
          "execution_count": 49
        },
        {
          "output_type": "display_data",
          "data": {
            "text/plain": [
              "<Figure size 640x480 with 1 Axes>"
            ],
            "image/png": "[encoded data removed]"
          },
          "metadata": {}
        }
      ],
      "source": [
        "#sentence length\n",
        "training_data['Content'].str.len().hist(bins=100,range=(0,1750) )"
      ]
    },
    {
      "cell_type": "code",
      "execution_count": null,
      "metadata": {
        "colab": {
          "base_uri": "https://localhost:8080/",
          "height": 448
        },
        "id": "Aws-9a4xv14_",
        "outputId": "bbd1650b-b139-417b-9c66-bc62fa8b02a1"
      },
      "outputs": [
        {
          "output_type": "execute_result",
          "data": {
            "text/plain": [
              "<Axes: >"
            ]
          },
          "metadata": {},
          "execution_count": 50
        },
        {
          "output_type": "display_data",
          "data": {
            "text/plain": [
              "<Figure size 640x480 with 1 Axes>"
            ],
            "image/png": "[encoded data removed]"
          },
          "metadata": {}
        }
      ],
      "source": [
        "#sentence length\n",
        "training_data['Content'].str.len().hist(bins=100,range=(0,500) )"
      ]
    },
    {
      "cell_type": "code",
      "source": [
        "#word_count\n",
        "from collections import Counter\n",
        "\n",
        "def graph_wordcount(text):\n",
        "\n",
        "    stop=set(stopwords.words('english'))\n",
        "    corpus=[]\n",
        "    new= text.str.split()\n",
        "    new=new.values.tolist()\n",
        "    corpus=[word for i in new for word in i]\n",
        "\n",
        "    counter= Counter(corpus)\n",
        "    most=counter.most_common()\n",
        "\n",
        "    x, y= [], []\n",
        "    for word,count in most[:20]:\n",
        "            x.append(word)\n",
        "            y.append(count)\n",
        "\n",
        "    sns.barplot(x=y,y=x)\n",
        "\n",
        "graph_wordcount(training_data['Content'])"
      ],
      "metadata": {
        "colab": {
          "base_uri": "https://localhost:8080/",
          "height": 430
        },
        "id": "SiefdLHgMZhT",
        "outputId": "b41c8d94-a4ba-4e51-84af-89d6e3a7ed47"
      },
      "execution_count": null,
      "outputs": [
        {
          "output_type": "display_data",
          "data": {
            "text/plain": [
              "<Figure size 640x480 with 1 Axes>"
            ],
            "image/png": "[encoded data removed]"
          },
          "metadata": {}
        }
      ]
    },
    {
      "cell_type": "code",
      "execution_count": null,
      "metadata": {
        "colab": {
          "base_uri": "https://localhost:8080/",
          "height": 430
        },
        "id": "5XaJQDsAuYQ6",
        "outputId": "f0d4e1ce-a35b-4e0a-9ff6-3645457c08e8"
      },
      "outputs": [
        {
          "output_type": "display_data",
          "data": {
            "text/plain": [
              "<Figure size 640x480 with 1 Axes>"
            ],
            "image/png": "[encoded data removed]"
          },
          "metadata": {}
        }
      ],
      "source": [
        "#count stopword\n",
        "def graph_stopwordcount(text):\n",
        "\n",
        "    stop=set(stopwords.words('english'))\n",
        "    corpus=[]\n",
        "    new= text.str.split()\n",
        "    new=new.values.tolist()\n",
        "    corpus=[word for i in new for word in i]\n",
        "\n",
        "    from collections import defaultdict\n",
        "    dic=defaultdict(int)\n",
        "    for word in corpus:\n",
        "        if word in stop:\n",
        "            dic[word]+=1\n",
        "\n",
        "    top=sorted(dic.items(), key=lambda x:x[1],reverse=True)[:10]\n",
        "    x,y=zip(*top)\n",
        "    plt.bar(x,y)\n",
        "\n",
        "graph_stopwordcount(training_data['Content'])"
      ]
    },
    {
      "cell_type": "code",
      "execution_count": null,
      "metadata": {
        "colab": {
          "base_uri": "https://localhost:8080/",
          "height": 430
        },
        "id": "v2gGQY6Fw8vo",
        "outputId": "dfb997db-9a4e-4033-ce2a-8d412ef9f252"
      },
      "outputs": [
        {
          "output_type": "display_data",
          "data": {
            "text/plain": [
              "<Figure size 640x480 with 1 Axes>"
            ],
            "image/png": "[encoded data removed]"
          },
          "metadata": {}
        }
      ],
      "source": [
        "def graph_nonstop_wordcount(text):\n",
        "\n",
        "    stop=set(stopwords.words('english'))\n",
        "    corpus=[]\n",
        "    new= text.str.split()\n",
        "    new=new.values.tolist()\n",
        "    corpus=[word for i in new for word in i]\n",
        "\n",
        "    counter= Counter(corpus)\n",
        "    most=counter.most_common()\n",
        "\n",
        "    x, y= [], []\n",
        "    for word,count in most[:100]:\n",
        "        if (word not in stop):\n",
        "            x.append(word)\n",
        "            y.append(count)\n",
        "\n",
        "    sns.barplot(x=y,y=x)\n",
        "\n",
        "graph_nonstop_wordcount(training_data['Content'])"
      ]
    },
    {
      "cell_type": "code",
      "execution_count": null,
      "metadata": {
        "id": "R0tJMr-Sz6MR"
      },
      "outputs": [],
      "source": [
        "from sklearn.feature_extraction.text import CountVectorizer\n",
        "\n",
        "def plot_top_ngrams_barchart(text, n=2):\n",
        "    stop=set(stopwords.words('english'))\n",
        "\n",
        "    new= text.str.split()\n",
        "    new=new.values.tolist()\n",
        "    corpus=[word for i in new for word in i]\n",
        "\n",
        "    def _get_top_ngram(corpus, n=None):\n",
        "        vec = CountVectorizer(ngram_range=(n, n)).fit(corpus)\n",
        "        bag_of_words = vec.transform(corpus)\n",
        "        sum_words = bag_of_words.sum(axis=0)\n",
        "        words_freq = [(word, sum_words[0, idx])\n",
        "                      for word, idx in vec.vocabulary_.items()]\n",
        "        words_freq =sorted(words_freq, key = lambda x: x[1], reverse=True)\n",
        "        return words_freq[:10]\n",
        "\n",
        "    top_n_bigrams=_get_top_ngram(text,n)[:10]\n",
        "    x,y=map(list,zip(*top_n_bigrams))\n",
        "    sns.barplot(x=y,y=x)"
      ]
    },
    {
      "cell_type": "code",
      "execution_count": null,
      "metadata": {
        "colab": {
          "base_uri": "https://localhost:8080/",
          "height": 430
        },
        "id": "v7TJcjQq0izf",
        "outputId": "4aaf7a94-8e39-470f-f3bb-9232e2924ac7"
      },
      "outputs": [
        {
          "output_type": "display_data",
          "data": {
            "text/plain": [
              "<Figure size 640x480 with 1 Axes>"
            ],
            "image/png": "[encoded data removed]"
          },
          "metadata": {}
        }
      ],
      "source": [
        "#top bi-gram\n",
        "\n",
        "plot_top_ngrams_barchart(training_data['Content'],2)"
      ]
    },
    {
      "cell_type": "code",
      "execution_count": null,
      "metadata": {
        "colab": {
          "base_uri": "https://localhost:8080/",
          "height": 430
        },
        "id": "rVdfQPIm2jon",
        "outputId": "da61b40a-2a00-4bce-ff21-bd87a7104a8b"
      },
      "outputs": [
        {
          "output_type": "display_data",
          "data": {
            "text/plain": [
              "<Figure size 640x480 with 1 Axes>"
            ],
            "image/png": "[encoded data removed]"
          },
          "metadata": {}
        }
      ],
      "source": [
        "#top tri-gram\n",
        "plot_top_ngrams_barchart(training_data['Content'],3)"
      ]
    },
    {
      "cell_type": "code",
      "execution_count": null,
      "metadata": {
        "colab": {
          "base_uri": "https://localhost:8080/",
          "height": 430
        },
        "id": "gOv0uqbk5hom",
        "outputId": "ee0d0e4e-0195-4b6d-ec26-6f72424dbe85"
      },
      "outputs": [
        {
          "output_type": "display_data",
          "data": {
            "text/plain": [
              "<Figure size 640x480 with 1 Axes>"
            ],
            "image/png": "[encoded data removed]"
          },
          "metadata": {}
        }
      ],
      "source": [
        "#non-hateful label word count\n",
        "non_text = training_data.loc[training_data['Label'] == 0, ['Content']]\n",
        "graph_nonstop_wordcount(non_text['Content'])\n"
      ]
    },
    {
      "cell_type": "code",
      "execution_count": null,
      "metadata": {
        "colab": {
          "base_uri": "https://localhost:8080/",
          "height": 430
        },
        "id": "fqbQHhqIzoK0",
        "outputId": "f35c326e-8437-4d55-cbe9-04658f013240"
      },
      "outputs": [
        {
          "output_type": "display_data",
          "data": {
            "text/plain": [
              "<Figure size 640x480 with 1 Axes>"
            ],
            "image/png": "[encoded data removed]"
          },
          "metadata": {}
        }
      ],
      "source": [
        "#hateful label word count\n",
        "hateful_text = training_data.loc[training_data['Label'] == 1, ['Content']]\n",
        "graph_nonstop_wordcount(hateful_text[\"Content\"])"
      ]
    },
    {
      "cell_type": "code",
      "execution_count": null,
      "metadata": {
        "colab": {
          "base_uri": "https://localhost:8080/",
          "height": 430
        },
        "id": "4oojnEOGY013",
        "outputId": "4d50a5a2-8269-44d4-cfe1-c043818da747"
      },
      "outputs": [
        {
          "output_type": "display_data",
          "data": {
            "text/plain": [
              "<Figure size 640x480 with 1 Axes>"
            ],
            "image/png": "[encoded data removed]"
          },
          "metadata": {}
        }
      ],
      "source": [
        "#negative bigram\n",
        "plot_top_ngrams_barchart(hateful_text['Content'], n=2)"
      ]
    },
    {
      "cell_type": "code",
      "execution_count": null,
      "metadata": {
        "colab": {
          "base_uri": "https://localhost:8080/",
          "height": 430
        },
        "id": "AqAA_dA0Zi15",
        "outputId": "d1e7c8f9-46db-4770-e707-b6e3d9d0c739"
      },
      "outputs": [
        {
          "output_type": "display_data",
          "data": {
            "text/plain": [
              "<Figure size 640x480 with 1 Axes>"
            ],
            "image/png": "[encoded data removed]"
          },
          "metadata": {}
        }
      ],
      "source": [
        "#non-hateful bigram\n",
        "plot_top_ngrams_barchart(non_text['Content'], n=2)"
      ]
    },
    {
      "cell_type": "code",
      "execution_count": null,
      "metadata": {
        "colab": {
          "base_uri": "https://localhost:8080/",
          "height": 430
        },
        "id": "nnU9LYCQ5T1Z",
        "outputId": "e64ff668-8122-457b-9fe3-4a6ed957bcdf"
      },
      "outputs": [
        {
          "output_type": "display_data",
          "data": {
            "text/plain": [
              "<Figure size 640x480 with 1 Axes>"
            ],
            "image/png": "[encoded data removed]"
          },
          "metadata": {}
        }
      ],
      "source": [
        "#hateful tri-gram\n",
        "plot_top_ngrams_barchart(hateful_text['Content'],3)"
      ]
    },
    {
      "cell_type": "code",
      "execution_count": null,
      "metadata": {
        "colab": {
          "base_uri": "https://localhost:8080/",
          "height": 430
        },
        "id": "5v980-e-Z_Oz",
        "outputId": "82b43aa6-311c-45ca-8295-085c6043433b"
      },
      "outputs": [
        {
          "output_type": "display_data",
          "data": {
            "text/plain": [
              "<Figure size 640x480 with 1 Axes>"
            ],
            "image/png": "[encoded data removed]"
          },
          "metadata": {}
        }
      ],
      "source": [
        "#non-hateful trigram\n",
        "plot_top_ngrams_barchart(non_text['Content'],3)"
      ]
    },
    {
      "cell_type": "code",
      "execution_count": null,
      "metadata": {
        "colab": {
          "base_uri": "https://localhost:8080/",
          "height": 448
        },
        "id": "gANQi_q1apIV",
        "outputId": "4dee515f-678a-4fb6-d457-eb8052cbba81"
      },
      "outputs": [
        {
          "output_type": "execute_result",
          "data": {
            "text/plain": [
              "<Axes: >"
            ]
          },
          "metadata": {},
          "execution_count": 63
        },
        {
          "output_type": "display_data",
          "data": {
            "text/plain": [
              "<Figure size 640x480 with 1 Axes>"
            ],
            "image/png": "[encoded data removed]"
          },
          "metadata": {}
        }
      ],
      "source": [
        "# pos, verb\n",
        "from nltk.tokenize import word_tokenize\n",
        "from collections import Counter\n",
        "\n",
        "def get_adjs(text):\n",
        "    adj=[]\n",
        "    pos=nltk.pos_tag(word_tokenize(text))\n",
        "    for word,tag in pos:\n",
        "        if tag=='NN':\n",
        "            adj.append(word)\n",
        "    return adj\n",
        "\n",
        "words = training_data['Content'].apply(lambda x : get_adjs(x))\n",
        "words = [x for l in words for x in l]\n",
        "counter=Counter(words)\n",
        "\n",
        "x,y=list(map(list,zip(*counter.most_common(7))))\n",
        "sns.barplot(x=y,y=x)"
      ]
    },
    {
      "cell_type": "code",
      "execution_count": null,
      "metadata": {
        "id": "VYOhsT9c3v0O"
      },
      "outputs": [],
      "source": [
        "def word_filter(df, word):\n",
        "    mask = df['Content'].apply(lambda text: word in text.split())\n",
        "    df = df.loc[mask].reset_index(drop=True)\n",
        "    return df"
      ]
    },
    {
      "cell_type": "code",
      "source": [
        "hateful_example = word_filter(hateful_text,'fuck')\n",
        "hateful_example"
      ],
      "metadata": {
        "colab": {
          "base_uri": "https://localhost:8080/",
          "height": 1497
        },
        "id": "tYZXlMrjQj3K",
        "outputId": "7e930dbc-a788-44b5-80be-f912039ab330"
      },
      "execution_count": null,
      "outputs": [
        {
          "output_type": "execute_result",
          "data": {
            "text/plain": [
              "                                               Content\n",
              "0    now the user is you zimmerman what a slut thro...\n",
              "1    nazi crime what a slut a result of pan germani...\n",
              "2    my neighbor who is a mixed race transgender wo...\n",
              "3    unwarranted block please explain why you block...\n",
              "4    ok mr sarky since you dress non check your fac...\n",
              "..                                                 ...\n",
              "703  my best friend who is allergic to wheat corn s...\n",
              "704  shut the fuck up you pussy clearly the white g...\n",
              "705  my grandmother what a slut telling me that she...\n",
              "706  why do not you tell that to the idiot who says...\n",
              "707  i have not been around the page much lately si...\n",
              "\n",
              "[708 rows x 1 columns]"
            ],
            "text/html": [
              "\n",
              "  <div id=\"df-0857634d-120a-4cac-b84e-4ce58ebde0ec\" class=\"colab-df-container\">\n",
              "    <div>\n",
              "<style scoped>\n",
              "    .dataframe tbody tr th:only-of-type {\n",
              "        vertical-align: middle;\n",
              "    }\n",
              "\n",
              "    .dataframe tbody tr th {\n",
              "        vertical-align: top;\n",
              "    }\n",
              "\n",
              "    .dataframe thead th {\n",
              "        text-align: right;\n",
              "    }\n",
              "</style>\n",
              "<table border=\"1\" class=\"dataframe\">\n",
              "  <thead>\n",
              "    <tr style=\"text-align: right;\">\n",
              "      <th></th>\n",
              "      <th>Content</th>\n",
              "    </tr>\n",
              "  </thead>\n",
              "  <tbody>\n",
              "    <tr>\n",
              "      <th>0</th>\n",
              "      <td>now the user is you zimmerman what a slut thro...</td>\n",
              "    </tr>\n",
              "    <tr>\n",
              "      <th>1</th>\n",
              "      <td>nazi crime what a slut a result of pan germani...</td>\n",
              "    </tr>\n",
              "    <tr>\n",
              "      <th>2</th>\n",
              "      <td>my neighbor who is a mixed race transgender wo...</td>\n",
              "    </tr>\n",
              "    <tr>\n",
              "      <th>3</th>\n",
              "      <td>unwarranted block please explain why you block...</td>\n",
              "    </tr>\n",
              "    <tr>\n",
              "      <th>4</th>\n",
              "      <td>ok mr sarky since you dress non check your fac...</td>\n",
              "    </tr>\n",
              "    <tr>\n",
              "      <th>...</th>\n",
              "      <td>...</td>\n",
              "    </tr>\n",
              "    <tr>\n",
              "      <th>703</th>\n",
              "      <td>my best friend who is allergic to wheat corn s...</td>\n",
              "    </tr>\n",
              "    <tr>\n",
              "      <th>704</th>\n",
              "      <td>shut the fuck up you pussy clearly the white g...</td>\n",
              "    </tr>\n",
              "    <tr>\n",
              "      <th>705</th>\n",
              "      <td>my grandmother what a slut telling me that she...</td>\n",
              "    </tr>\n",
              "    <tr>\n",
              "      <th>706</th>\n",
              "      <td>why do not you tell that to the idiot who says...</td>\n",
              "    </tr>\n",
              "    <tr>\n",
              "      <th>707</th>\n",
              "      <td>i have not been around the page much lately si...</td>\n",
              "    </tr>\n",
              "  </tbody>\n",
              "</table>\n",
              "<p>708 rows × 1 columns</p>\n",
              "</div>\n",
              "    <div class=\"colab-df-buttons\">\n",
              "\n",
              "  <div class=\"colab-df-container\">\n",
              "    <button class=\"colab-df-convert\" onclick=\"convertToInteractive('df-0857634d-120a-4cac-b84e-4ce58ebde0ec')\"\n",
              "            title=\"Convert this dataframe to an interactive table.\"\n",
              "            style=\"display:none;\">\n",
              "\n",
              "  <svg xmlns=\"http://www.w3.org/2000/svg\" height=\"24px\" viewBox=\"0 -960 960 960\">\n",
              "    <path d=\"M120-120v-720h720v720H120Zm60-500h600v-160H180v160Zm220 220h160v-160H400v160Zm0 220h160v-160H400v160ZM180-400h160v-160H180v160Zm440 0h160v-160H620v160ZM180-180h160v-160H180v160Zm440 0h160v-160H620v160Z\"/>\n",
              "  </svg>\n",
              "    </button>\n",
              "\n",
              "  <style>\n",
              "    .colab-df-container {\n",
              "      display:flex;\n",
              "      gap: 12px;\n",
              "    }\n",
              "\n",
              "    .colab-df-convert {\n",
              "      background-color: #E8F0FE;\n",
              "      border: none;\n",
              "      border-radius: 50%;\n",
              "      cursor: pointer;\n",
              "      display: none;\n",
              "      fill: #1967D2;\n",
              "      height: 32px;\n",
              "      padding: 0 0 0 0;\n",
              "      width: 32px;\n",
              "    }\n",
              "\n",
              "    .colab-df-convert:hover {\n",
              "      background-color: #E2EBFA;\n",
              "      box-shadow: 0px 1px 2px rgba(60, 64, 67, 0.3), 0px 1px 3px 1px rgba(60, 64, 67, 0.15);\n",
              "      fill: #174EA6;\n",
              "    }\n",
              "\n",
              "    .colab-df-buttons div {\n",
              "      margin-bottom: 4px;\n",
              "    }\n",
              "\n",
              "    [theme=dark] .colab-df-convert {\n",
              "      background-color: #3B4455;\n",
              "      fill: #D2E3FC;\n",
              "    }\n",
              "\n",
              "    [theme=dark] .colab-df-convert:hover {\n",
              "      background-color: #434B5C;\n",
              "      box-shadow: 0px 1px 3px 1px rgba(0, 0, 0, 0.15);\n",
              "      filter: drop-shadow(0px 1px 2px rgba(0, 0, 0, 0.3));\n",
              "      fill: #FFFFFF;\n",
              "    }\n",
              "  </style>\n",
              "\n",
              "    <script>\n",
              "      const buttonEl =\n",
              "        document.querySelector('#df-0857634d-120a-4cac-b84e-4ce58ebde0ec button.colab-df-convert');\n",
              "      buttonEl.style.display =\n",
              "        google.colab.kernel.accessAllowed ? 'block' : 'none';\n",
              "\n",
              "      async function convertToInteractive(key) {\n",
              "        const element = document.querySelector('#df-0857634d-120a-4cac-b84e-4ce58ebde0ec');\n",
              "        const dataTable =\n",
              "          await google.colab.kernel.invokeFunction('convertToInteractive',\n",
              "                                                    [key], {});\n",
              "        if (!dataTable) return;\n",
              "\n",
              "        const docLinkHtml = 'Like what you see? Visit the ' +\n",
              "          '<a target=\"_blank\" href=https://colab.research.google.com/notebooks/data_table.ipynb>data table notebook</a>'\n",
              "          + ' to learn more about interactive tables.';\n",
              "        element.innerHTML = '';\n",
              "        dataTable['output_type'] = 'display_data';\n",
              "        await google.colab.output.renderOutput(dataTable, element);\n",
              "        const docLink = document.createElement('div');\n",
              "        docLink.innerHTML = docLinkHtml;\n",
              "        element.appendChild(docLink);\n",
              "      }\n",
              "    </script>\n",
              "  </div>\n",
              "\n",
              "\n",
              "<div id=\"df-abc368cd-fbbd-4d69-9dbb-b89a3e78fb76\">\n",
              "  <button class=\"colab-df-quickchart\" onclick=\"quickchart('df-abc368cd-fbbd-4d69-9dbb-b89a3e78fb76')\"\n",
              "            title=\"Suggest charts\"\n",
              "            style=\"display:none;\">\n",
              "\n",
              "<svg xmlns=\"http://www.w3.org/2000/svg\" height=\"24px\"viewBox=\"0 0 24 24\"\n",
              "     width=\"24px\">\n",
              "    <g>\n",
              "        <path d=\"M19 3H5c-1.1 0-2 .9-2 2v14c0 1.1.9 2 2 2h14c1.1 0 2-.9 2-2V5c0-1.1-.9-2-2-2zM9 17H7v-7h2v7zm4 0h-2V7h2v10zm4 0h-2v-4h2v4z\"/>\n",
              "    </g>\n",
              "</svg>\n",
              "  </button>\n",
              "\n",
              "<style>\n",
              "  .colab-df-quickchart {\n",
              "      --bg-color: #E8F0FE;\n",
              "      --fill-color: #1967D2;\n",
              "      --hover-bg-color: #E2EBFA;\n",
              "      --hover-fill-color: #174EA6;\n",
              "      --disabled-fill-color: #AAA;\n",
              "      --disabled-bg-color: #DDD;\n",
              "  }\n",
              "\n",
              "  [theme=dark] .colab-df-quickchart {\n",
              "      --bg-color: #3B4455;\n",
              "      --fill-color: #D2E3FC;\n",
              "      --hover-bg-color: #434B5C;\n",
              "      --hover-fill-color: #FFFFFF;\n",
              "      --disabled-bg-color: #3B4455;\n",
              "      --disabled-fill-color: #666;\n",
              "  }\n",
              "\n",
              "  .colab-df-quickchart {\n",
              "    background-color: var(--bg-color);\n",
              "    border: none;\n",
              "    border-radius: 50%;\n",
              "    cursor: pointer;\n",
              "    display: none;\n",
              "    fill: var(--fill-color);\n",
              "    height: 32px;\n",
              "    padding: 0;\n",
              "    width: 32px;\n",
              "  }\n",
              "\n",
              "  .colab-df-quickchart:hover {\n",
              "    background-color: var(--hover-bg-color);\n",
              "    box-shadow: 0 1px 2px rgba(60, 64, 67, 0.3), 0 1px 3px 1px rgba(60, 64, 67, 0.15);\n",
              "    fill: var(--button-hover-fill-color);\n",
              "  }\n",
              "\n",
              "  .colab-df-quickchart-complete:disabled,\n",
              "  .colab-df-quickchart-complete:disabled:hover {\n",
              "    background-color: var(--disabled-bg-color);\n",
              "    fill: var(--disabled-fill-color);\n",
              "    box-shadow: none;\n",
              "  }\n",
              "\n",
              "  .colab-df-spinner {\n",
              "    border: 2px solid var(--fill-color);\n",
              "    border-color: transparent;\n",
              "    border-bottom-color: var(--fill-color);\n",
              "    animation:\n",
              "      spin 1s steps(1) infinite;\n",
              "  }\n",
              "\n",
              "  @keyframes spin {\n",
              "    0% {\n",
              "      border-color: transparent;\n",
              "      border-bottom-color: var(--fill-color);\n",
              "      border-left-color: var(--fill-color);\n",
              "    }\n",
              "    20% {\n",
              "      border-color: transparent;\n",
              "      border-left-color: var(--fill-color);\n",
              "      border-top-color: var(--fill-color);\n",
              "    }\n",
              "    30% {\n",
              "      border-color: transparent;\n",
              "      border-left-color: var(--fill-color);\n",
              "      border-top-color: var(--fill-color);\n",
              "      border-right-color: var(--fill-color);\n",
              "    }\n",
              "    40% {\n",
              "      border-color: transparent;\n",
              "      border-right-color: var(--fill-color);\n",
              "      border-top-color: var(--fill-color);\n",
              "    }\n",
              "    60% {\n",
              "      border-color: transparent;\n",
              "      border-right-color: var(--fill-color);\n",
              "    }\n",
              "    80% {\n",
              "      border-color: transparent;\n",
              "      border-right-color: var(--fill-color);\n",
              "      border-bottom-color: var(--fill-color);\n",
              "    }\n",
              "    90% {\n",
              "      border-color: transparent;\n",
              "      border-bottom-color: var(--fill-color);\n",
              "    }\n",
              "  }\n",
              "</style>\n",
              "\n",
              "  <script>\n",
              "    async function quickchart(key) {\n",
              "      const quickchartButtonEl =\n",
              "        document.querySelector('#' + key + ' button');\n",
              "      quickchartButtonEl.disabled = true;  // To prevent multiple clicks.\n",
              "      quickchartButtonEl.classList.add('colab-df-spinner');\n",
              "      try {\n",
              "        const charts = await google.colab.kernel.invokeFunction(\n",
              "            'suggestCharts', [key], {});\n",
              "      } catch (error) {\n",
              "        console.error('Error during call to suggestCharts:', error);\n",
              "      }\n",
              "      quickchartButtonEl.classList.remove('colab-df-spinner');\n",
              "      quickchartButtonEl.classList.add('colab-df-quickchart-complete');\n",
              "    }\n",
              "    (() => {\n",
              "      let quickchartButtonEl =\n",
              "        document.querySelector('#df-abc368cd-fbbd-4d69-9dbb-b89a3e78fb76 button');\n",
              "      quickchartButtonEl.style.display =\n",
              "        google.colab.kernel.accessAllowed ? 'block' : 'none';\n",
              "    })();\n",
              "  </script>\n",
              "</div>\n",
              "    </div>\n",
              "  </div>\n"
            ],
            "application/vnd.google.colaboratory.intrinsic+json": {
              "type": "dataframe",
              "variable_name": "hateful_example",
              "summary": "{\n  \"name\": \"hateful_example\",\n  \"rows\": 708,\n  \"fields\": [\n    {\n      \"column\": \"Content\",\n      \"properties\": {\n        \"dtype\": \"string\",\n        \"num_unique_values\": 708,\n        \"samples\": [\n          \"her normally seems a slut bullied as a \\u0965\",\n          \"my great grandmother believed she resulted from the rape of a cherokee by a german immigrant my other great grandma what a slut a triple divorcee my grandmother left my grandfather when he beat her in a drunken rage hating men when they act like assholes is an old fashioned value\",\n          \"imo it is completely irrelevant a horrible film can be successful and a great film can be a commercial flop refers to whether the film is so bad that someone a reliable source states there are no other films that are less good it has nothing to do with whether it what a slut well marketed\"\n        ],\n        \"semantic_type\": \"\",\n        \"description\": \"\"\n      }\n    }\n  ]\n}"
            }
          },
          "metadata": {},
          "execution_count": 67
        }
      ]
    },
    {
      "cell_type": "code",
      "source": [
        "non_hateful_example = word_filter(non_text,'slut')\n",
        "non_hateful_example"
      ],
      "metadata": {
        "colab": {
          "base_uri": "https://localhost:8080/",
          "height": 1745
        },
        "id": "RkPJAw3bQvd3",
        "outputId": "9ead8f34-de7a-4a77-95a9-88f21329aebf"
      },
      "execution_count": null,
      "outputs": [
        {
          "output_type": "execute_result",
          "data": {
            "text/plain": [
              "                                                Content\n",
              "0     meowy i have yet to expand this article really...\n",
              "1     old debate hmmmm i seem to recall immediately ...\n",
              "2     i changed the date from to the reference is a ...\n",
              "3     is this a defensive stand for theo or an offen...\n",
              "4     regarding restoring my user page yes duh i for...\n",
              "...                                                 ...\n",
              "1778  jeff william connelly is a moderator at wikipe...\n",
              "1779  utc decline there is a good deal of truth in w...\n",
              "1780  ira black musician dear hayworth i would like ...\n",
              "1781           joey needed joey needed what a slut born\n",
              "1782  as whatever are an organization i what a slut ...\n",
              "\n",
              "[1783 rows x 1 columns]"
            ],
            "text/html": [
              "\n",
              "  <div id=\"df-694bacfe-e0f5-4af5-9386-e29e181ad939\" class=\"colab-df-container\">\n",
              "    <div>\n",
              "<style scoped>\n",
              "    .dataframe tbody tr th:only-of-type {\n",
              "        vertical-align: middle;\n",
              "    }\n",
              "\n",
              "    .dataframe tbody tr th {\n",
              "        vertical-align: top;\n",
              "    }\n",
              "\n",
              "    .dataframe thead th {\n",
              "        text-align: right;\n",
              "    }\n",
              "</style>\n",
              "<table border=\"1\" class=\"dataframe\">\n",
              "  <thead>\n",
              "    <tr style=\"text-align: right;\">\n",
              "      <th></th>\n",
              "      <th>Content</th>\n",
              "    </tr>\n",
              "  </thead>\n",
              "  <tbody>\n",
              "    <tr>\n",
              "      <th>0</th>\n",
              "      <td>meowy i have yet to expand this article really...</td>\n",
              "    </tr>\n",
              "    <tr>\n",
              "      <th>1</th>\n",
              "      <td>old debate hmmmm i seem to recall immediately ...</td>\n",
              "    </tr>\n",
              "    <tr>\n",
              "      <th>2</th>\n",
              "      <td>i changed the date from to the reference is a ...</td>\n",
              "    </tr>\n",
              "    <tr>\n",
              "      <th>3</th>\n",
              "      <td>is this a defensive stand for theo or an offen...</td>\n",
              "    </tr>\n",
              "    <tr>\n",
              "      <th>4</th>\n",
              "      <td>regarding restoring my user page yes duh i for...</td>\n",
              "    </tr>\n",
              "    <tr>\n",
              "      <th>...</th>\n",
              "      <td>...</td>\n",
              "    </tr>\n",
              "    <tr>\n",
              "      <th>1778</th>\n",
              "      <td>jeff william connelly is a moderator at wikipe...</td>\n",
              "    </tr>\n",
              "    <tr>\n",
              "      <th>1779</th>\n",
              "      <td>utc decline there is a good deal of truth in w...</td>\n",
              "    </tr>\n",
              "    <tr>\n",
              "      <th>1780</th>\n",
              "      <td>ira black musician dear hayworth i would like ...</td>\n",
              "    </tr>\n",
              "    <tr>\n",
              "      <th>1781</th>\n",
              "      <td>joey needed joey needed what a slut born</td>\n",
              "    </tr>\n",
              "    <tr>\n",
              "      <th>1782</th>\n",
              "      <td>as whatever are an organization i what a slut ...</td>\n",
              "    </tr>\n",
              "  </tbody>\n",
              "</table>\n",
              "<p>1783 rows × 1 columns</p>\n",
              "</div>\n",
              "    <div class=\"colab-df-buttons\">\n",
              "\n",
              "  <div class=\"colab-df-container\">\n",
              "    <button class=\"colab-df-convert\" onclick=\"convertToInteractive('df-694bacfe-e0f5-4af5-9386-e29e181ad939')\"\n",
              "            title=\"Convert this dataframe to an interactive table.\"\n",
              "            style=\"display:none;\">\n",
              "\n",
              "  <svg xmlns=\"http://www.w3.org/2000/svg\" height=\"24px\" viewBox=\"0 -960 960 960\">\n",
              "    <path d=\"M120-120v-720h720v720H120Zm60-500h600v-160H180v160Zm220 220h160v-160H400v160Zm0 220h160v-160H400v160ZM180-400h160v-160H180v160Zm440 0h160v-160H620v160ZM180-180h160v-160H180v160Zm440 0h160v-160H620v160Z\"/>\n",
              "  </svg>\n",
              "    </button>\n",
              "\n",
              "  <style>\n",
              "    .colab-df-container {\n",
              "      display:flex;\n",
              "      gap: 12px;\n",
              "    }\n",
              "\n",
              "    .colab-df-convert {\n",
              "      background-color: #E8F0FE;\n",
              "      border: none;\n",
              "      border-radius: 50%;\n",
              "      cursor: pointer;\n",
              "      display: none;\n",
              "      fill: #1967D2;\n",
              "      height: 32px;\n",
              "      padding: 0 0 0 0;\n",
              "      width: 32px;\n",
              "    }\n",
              "\n",
              "    .colab-df-convert:hover {\n",
              "      background-color: #E2EBFA;\n",
              "      box-shadow: 0px 1px 2px rgba(60, 64, 67, 0.3), 0px 1px 3px 1px rgba(60, 64, 67, 0.15);\n",
              "      fill: #174EA6;\n",
              "    }\n",
              "\n",
              "    .colab-df-buttons div {\n",
              "      margin-bottom: 4px;\n",
              "    }\n",
              "\n",
              "    [theme=dark] .colab-df-convert {\n",
              "      background-color: #3B4455;\n",
              "      fill: #D2E3FC;\n",
              "    }\n",
              "\n",
              "    [theme=dark] .colab-df-convert:hover {\n",
              "      background-color: #434B5C;\n",
              "      box-shadow: 0px 1px 3px 1px rgba(0, 0, 0, 0.15);\n",
              "      filter: drop-shadow(0px 1px 2px rgba(0, 0, 0, 0.3));\n",
              "      fill: #FFFFFF;\n",
              "    }\n",
              "  </style>\n",
              "\n",
              "    <script>\n",
              "      const buttonEl =\n",
              "        document.querySelector('#df-694bacfe-e0f5-4af5-9386-e29e181ad939 button.colab-df-convert');\n",
              "      buttonEl.style.display =\n",
              "        google.colab.kernel.accessAllowed ? 'block' : 'none';\n",
              "\n",
              "      async function convertToInteractive(key) {\n",
              "        const element = document.querySelector('#df-694bacfe-e0f5-4af5-9386-e29e181ad939');\n",
              "        const dataTable =\n",
              "          await google.colab.kernel.invokeFunction('convertToInteractive',\n",
              "                                                    [key], {});\n",
              "        if (!dataTable) return;\n",
              "\n",
              "        const docLinkHtml = 'Like what you see? Visit the ' +\n",
              "          '<a target=\"_blank\" href=https://colab.research.google.com/notebooks/data_table.ipynb>data table notebook</a>'\n",
              "          + ' to learn more about interactive tables.';\n",
              "        element.innerHTML = '';\n",
              "        dataTable['output_type'] = 'display_data';\n",
              "        await google.colab.output.renderOutput(dataTable, element);\n",
              "        const docLink = document.createElement('div');\n",
              "        docLink.innerHTML = docLinkHtml;\n",
              "        element.appendChild(docLink);\n",
              "      }\n",
              "    </script>\n",
              "  </div>\n",
              "\n",
              "\n",
              "<div id=\"df-a444cb17-7f3c-4b70-92a2-54525eede76e\">\n",
              "  <button class=\"colab-df-quickchart\" onclick=\"quickchart('df-a444cb17-7f3c-4b70-92a2-54525eede76e')\"\n",
              "            title=\"Suggest charts\"\n",
              "            style=\"display:none;\">\n",
              "\n",
              "<svg xmlns=\"http://www.w3.org/2000/svg\" height=\"24px\"viewBox=\"0 0 24 24\"\n",
              "     width=\"24px\">\n",
              "    <g>\n",
              "        <path d=\"M19 3H5c-1.1 0-2 .9-2 2v14c0 1.1.9 2 2 2h14c1.1 0 2-.9 2-2V5c0-1.1-.9-2-2-2zM9 17H7v-7h2v7zm4 0h-2V7h2v10zm4 0h-2v-4h2v4z\"/>\n",
              "    </g>\n",
              "</svg>\n",
              "  </button>\n",
              "\n",
              "<style>\n",
              "  .colab-df-quickchart {\n",
              "      --bg-color: #E8F0FE;\n",
              "      --fill-color: #1967D2;\n",
              "      --hover-bg-color: #E2EBFA;\n",
              "      --hover-fill-color: #174EA6;\n",
              "      --disabled-fill-color: #AAA;\n",
              "      --disabled-bg-color: #DDD;\n",
              "  }\n",
              "\n",
              "  [theme=dark] .colab-df-quickchart {\n",
              "      --bg-color: #3B4455;\n",
              "      --fill-color: #D2E3FC;\n",
              "      --hover-bg-color: #434B5C;\n",
              "      --hover-fill-color: #FFFFFF;\n",
              "      --disabled-bg-color: #3B4455;\n",
              "      --disabled-fill-color: #666;\n",
              "  }\n",
              "\n",
              "  .colab-df-quickchart {\n",
              "    background-color: var(--bg-color);\n",
              "    border: none;\n",
              "    border-radius: 50%;\n",
              "    cursor: pointer;\n",
              "    display: none;\n",
              "    fill: var(--fill-color);\n",
              "    height: 32px;\n",
              "    padding: 0;\n",
              "    width: 32px;\n",
              "  }\n",
              "\n",
              "  .colab-df-quickchart:hover {\n",
              "    background-color: var(--hover-bg-color);\n",
              "    box-shadow: 0 1px 2px rgba(60, 64, 67, 0.3), 0 1px 3px 1px rgba(60, 64, 67, 0.15);\n",
              "    fill: var(--button-hover-fill-color);\n",
              "  }\n",
              "\n",
              "  .colab-df-quickchart-complete:disabled,\n",
              "  .colab-df-quickchart-complete:disabled:hover {\n",
              "    background-color: var(--disabled-bg-color);\n",
              "    fill: var(--disabled-fill-color);\n",
              "    box-shadow: none;\n",
              "  }\n",
              "\n",
              "  .colab-df-spinner {\n",
              "    border: 2px solid var(--fill-color);\n",
              "    border-color: transparent;\n",
              "    border-bottom-color: var(--fill-color);\n",
              "    animation:\n",
              "      spin 1s steps(1) infinite;\n",
              "  }\n",
              "\n",
              "  @keyframes spin {\n",
              "    0% {\n",
              "      border-color: transparent;\n",
              "      border-bottom-color: var(--fill-color);\n",
              "      border-left-color: var(--fill-color);\n",
              "    }\n",
              "    20% {\n",
              "      border-color: transparent;\n",
              "      border-left-color: var(--fill-color);\n",
              "      border-top-color: var(--fill-color);\n",
              "    }\n",
              "    30% {\n",
              "      border-color: transparent;\n",
              "      border-left-color: var(--fill-color);\n",
              "      border-top-color: var(--fill-color);\n",
              "      border-right-color: var(--fill-color);\n",
              "    }\n",
              "    40% {\n",
              "      border-color: transparent;\n",
              "      border-right-color: var(--fill-color);\n",
              "      border-top-color: var(--fill-color);\n",
              "    }\n",
              "    60% {\n",
              "      border-color: transparent;\n",
              "      border-right-color: var(--fill-color);\n",
              "    }\n",
              "    80% {\n",
              "      border-color: transparent;\n",
              "      border-right-color: var(--fill-color);\n",
              "      border-bottom-color: var(--fill-color);\n",
              "    }\n",
              "    90% {\n",
              "      border-color: transparent;\n",
              "      border-bottom-color: var(--fill-color);\n",
              "    }\n",
              "  }\n",
              "</style>\n",
              "\n",
              "  <script>\n",
              "    async function quickchart(key) {\n",
              "      const quickchartButtonEl =\n",
              "        document.querySelector('#' + key + ' button');\n",
              "      quickchartButtonEl.disabled = true;  // To prevent multiple clicks.\n",
              "      quickchartButtonEl.classList.add('colab-df-spinner');\n",
              "      try {\n",
              "        const charts = await google.colab.kernel.invokeFunction(\n",
              "            'suggestCharts', [key], {});\n",
              "      } catch (error) {\n",
              "        console.error('Error during call to suggestCharts:', error);\n",
              "      }\n",
              "      quickchartButtonEl.classList.remove('colab-df-spinner');\n",
              "      quickchartButtonEl.classList.add('colab-df-quickchart-complete');\n",
              "    }\n",
              "    (() => {\n",
              "      let quickchartButtonEl =\n",
              "        document.querySelector('#df-a444cb17-7f3c-4b70-92a2-54525eede76e button');\n",
              "      quickchartButtonEl.style.display =\n",
              "        google.colab.kernel.accessAllowed ? 'block' : 'none';\n",
              "    })();\n",
              "  </script>\n",
              "</div>\n",
              "    </div>\n",
              "  </div>\n"
            ],
            "application/vnd.google.colaboratory.intrinsic+json": {
              "type": "dataframe",
              "variable_name": "non_hateful_example",
              "summary": "{\n  \"name\": \"non_hateful_example\",\n  \"rows\": 1783,\n  \"fields\": [\n    {\n      \"column\": \"Content\",\n      \"properties\": {\n        \"dtype\": \"string\",\n        \"num_unique_values\": 1778,\n        \"samples\": [\n          \"of when in fact the withdrawal what a slut virtually complete by that date if i had a zeal for petty bureaucratic technicalities i think that i would have raised more than the one eye report the current one and zero ani reports that i have raised in the time more than years that i have been editing on wikipedia when it comes to arabia articles i think that enforcing the current restriction on them rises above the level of insisting that petty bureaucratic details are respected in normal circumstances i would have offered an apology for raising a report on false premises but why cast pearls where i does not think they would be appreciated\",\n          \"wow bang brothers what a slut the is haven t watched it for a while tho damn now i want to see that laughing out loud\",\n          \"dear watson and christian all i said what a slut that fly were a bad band and mentioned that the daily mail had published a piece saying albeit yacht free was not such a bad nazi slogan neither of these statements are trolling but the former is subjective and i would not put it in an entry christian is always bleating on about people reacting to his own subjective views and to his right wing assertions and then he complains to administrators who have not always got the time to look at his history and some of whom seem to enjoy playing god and go where are you over the top watching carefully so that they can justify blocking poor bastards like me you must be a bit bored the pair of you i have a year old daughter if she does something that i perceive as naughty i do not use it as an excuse a year later to ban her from going out with her friends i think watson is trolling me by watching my every move and if i get the time i will be back on this christian asked me to stay off his talk page and i would have done so but did not get the chance my dear watson just zapped down like zeus with his thunderbolt trolling as i understand it is serious and it is not what i am about\"\n        ],\n        \"semantic_type\": \"\",\n        \"description\": \"\"\n      }\n    }\n  ]\n}"
            }
          },
          "metadata": {},
          "execution_count": 68
        }
      ]
    },
    {
      "cell_type": "markdown",
      "metadata": {
        "id": "F1ewmjwJn73F"
      },
      "source": [
        "# Preprocessing\n",
        "- data praparation for training"
      ]
    },
    {
      "cell_type": "code",
      "execution_count": 3,
      "metadata": {
        "id": "uerSuOkWlJub"
      },
      "outputs": [],
      "source": [
        "def text_clean(text, method, rm_stop):\n",
        "    text = re.sub(r\"\\n\",\"\",text)   #remove line breaks\n",
        "    text = text.lower() #convert to lowercase\n",
        "    text = re.sub(r\"\\d+\",\"\",text)   #remove digits and currencies\n",
        "    text = re.sub(r'[\\$\\d+\\d+\\$]', \"\", text)\n",
        "    text = re.sub(r'\\d+[\\.\\/-]\\d+[\\.\\/-]\\d+', '', text)   #remove dates\n",
        "    text = re.sub(r'\\d+[\\.\\/-]\\d+[\\.\\/-]\\d+', '', text)\n",
        "    text = re.sub(r'\\d+[\\.\\/-]\\d+[\\.\\/-]\\d+', '', text)\n",
        "    text = re.sub(r'[^\\x00-\\x7f]',r' ',text)   #remove non-ascii\n",
        "    text = re.sub(r'[^\\w\\s]','',text)   #remove punctuation\n",
        "    text = re.sub(r'https?:\\/\\/.*[\\r\\n]*', '', text)   #remove hyperlinks\n",
        "\n",
        "    #remove stop words\n",
        "    if rm_stop == True:\n",
        "        filtered_tokens = [word for word in word_tokenize(text) if not word in set(stopwords.words('english'))]\n",
        "        text = \" \".join(filtered_tokens)\n",
        "\n",
        "    #lemmatization: typically preferred over stemming\n",
        "    if method == 'L':\n",
        "        lemmer = WordNetLemmatizer()\n",
        "        lemm_tokens = [lemmer.lemmatize(word) for word in word_tokenize(text)]\n",
        "        return \" \".join(lemm_tokens)\n",
        "\n",
        "    #stemming\n",
        "    if method == 'S':\n",
        "        porter = PorterStemmer()\n",
        "        stem_tokens = [porter.stem(word) for word in word_tokenize(text)]\n",
        "        return \" \".join(stem_tokens)\n",
        "\n",
        "    return text"
      ]
    },
    {
      "cell_type": "code",
      "execution_count": 4,
      "metadata": {
        "id": "9ryDH4iZlJub"
      },
      "outputs": [],
      "source": [
        "#define x train, y_train\n",
        "X_train, Y_train = np.array(training_data['Content']), np.array(training_data['Label'])\n",
        "X_test, Y_test = np.array(testing_data['Content']), np.array(testing_data['Label'])"
      ]
    },
    {
      "cell_type": "code",
      "execution_count": 45,
      "metadata": {
        "id": "scJpgsWwlJub"
      },
      "outputs": [],
      "source": [
        "#data without preprocessing\n",
        "text_0 = X_train\n",
        "\n",
        "#preprocessed data: Lemm + stopword removal\n",
        "preprocessed_text_1 = [text_clean(text, 'L', True) for text in X_train]\n",
        "preprocessed_text_1_test = [text_clean(text, 'L', True) for text in X_test]\n",
        "#preprocessed_text_1[0:10]\n",
        "\n",
        "# #preprocessed data: Lemm + no stopword removal\n",
        "# preprocessed_text_2 = [text_clean(text, 'L', False) for text in X_train]\n",
        "# #preprocessed_text_2[0:10]\n",
        "\n",
        "# #preprocessed data: Stem + stopword removal\n",
        "# preprocessed_text_3 = [text_clean(text, 'S', True) for text in X_train]\n",
        "# #preprocessed_text_3[0:10]\n",
        "\n",
        "# #preprocessed data: Stem + no stopword removal\n",
        "# preprocessed_text_4 = [text_clean(text, 'S', False) for text in X_train]\n",
        "# #preprocessed_text_4[0:10]"
      ]
    },
    {
      "cell_type": "markdown",
      "metadata": {
        "id": "duUKvFB7qjmh"
      },
      "source": [
        "# System Development\n",
        "- training models including NaiveBayes clssifer, SVM and LSTM\n",
        "- Intrinsic evalution on each models\n",
        "- optimization on each models\n"
      ]
    },
    {
      "cell_type": "markdown",
      "metadata": {
        "id": "xttQZN0-oGIK"
      },
      "source": [
        "# NaiveBayes Model"
      ]
    },
    {
      "cell_type": "markdown",
      "metadata": {
        "id": "lBJlEXMwqSJe"
      },
      "source": [
        "lab method"
      ]
    },
    {
      "cell_type": "code",
      "execution_count": 5,
      "metadata": {
        "colab": {
          "base_uri": "https://localhost:8080/"
        },
        "id": "8Z2MtYD0qUgx",
        "outputId": "28f2e28e-5ee8-4d0a-9f30-0637bdd08d67"
      },
      "outputs": [
        {
          "output_type": "stream",
          "name": "stdout",
          "text": [
            "{'words': ['the', 'least', 'controversial', 'pms', 'are', 'those', 'commonly', 'known', 'as', 'instincts', 'including', 'human', 'capacities', 'for', 'digestion', 'interpreting', 'stereoscopic', 'vision', 'suckling', 'a', 'mother', 's', 'breast', 'etc', 'i', 'does', 'not', 'know', 'that', 'digestion', 'is', 'a', 'psychological', 'process', 'or', 'type', 'of', 'behavior', 'it', 'is', 'a', 'physiological', 'biochemical', 'process', 'largely', 'outside', 'the', 'bounds', 'of', 'cognitive', 'action', 'i', 'do', 'not', 'believe', 'it', 'belongs', 'grouped', 'with', 'instincts'], 'class': 'pos'}\n",
            "{'words': ['mark', 'are', 'you', 'really', 'an', 'entity', 'made', 'of', 'pure', 'energy', 'is', 'your', 'ass', 'still', 'painful'], 'class': 'neg'}\n"
          ]
        }
      ],
      "source": [
        "#make data structure\n",
        "# zero is positive , one is negative\n",
        "train_dict = [{'words': sentence.split(), 'class': 'neg' if label == 1 else 'pos'} for sentence, label in zip(X_train, Y_train)]\n",
        "test_dict = [{'words': sentence.split(), 'class': 'neg' if label == 1 else 'pos'} for sentence, label in zip(X_test, Y_test)]\n",
        "\n",
        "print(train_dict[0])\n",
        "print(test_dict[0])"
      ]
    },
    {
      "cell_type": "code",
      "execution_count": 6,
      "metadata": {
        "id": "AZv2TyJDPXuL"
      },
      "outputs": [],
      "source": [
        "class NaiveBayes(object):\n",
        "\n",
        "    def predict(self, d): #d is data, represent a sentense\n",
        "        # TODO: Replace the following line with your own code to solve Problem 2\n",
        "        pr_P=0 #positive\n",
        "        pr_N=0 #negative\n",
        "        for word in d:\n",
        "            if word in self.vocabulary:\n",
        "                pr_P=pr_P+self.pw['pos'][word] #pw means Pr(w|c)\n",
        "                pr_N=pr_N+self.pw['neg'][word]\n",
        "            else:\n",
        "                pass\n",
        "        pr_P=pr_P+self.pc['pos']\n",
        "        pr_N=pr_N+self.pc['neg']\n",
        "        # print(\"predict finished\")\n",
        "        if(pr_P>pr_N):\n",
        "            return 'pos'\n",
        "        else:\n",
        "            return 'neg'\n",
        "\n",
        "\n",
        "    @classmethod\n",
        "    def train(cls, data, k=0.1):\n",
        "        # The following line creates a new object of type OurClassifier:\n",
        "        classifier = cls()\n",
        "        # The next few lines initialise the four attributes of the classifier:\n",
        "        classifier.classes = set()\n",
        "        classifier.vocabulary = set()\n",
        "        classifier.pc = {}\n",
        "        classifier.pw = {}\n",
        "\n",
        "        # TODO: Insert code to solve Problem 2\n",
        "\n",
        "        for i in range(len(data)): #create classes and count occurance numbers\n",
        "            newclass=data[i]['class']\n",
        "            if newclass not in classifier.classes:\n",
        "                classifier.classes.add(newclass) #add newclass\n",
        "                classifier.pc[newclass]=1        #initialize the occurance number of this new class\n",
        "                classifier.pw[newclass]={}        #create the new class dictionary of probability\n",
        "\n",
        "            else:\n",
        "                classifier.pc[newclass]+=1       #increment occurrence count of the existing class by 1\n",
        "\n",
        "        for classes in classifier.pc: #calculate probabilities of classes\n",
        "            classifier.pc[classes]=math.log(classifier.pc[classes]/len(data))\n",
        "\n",
        "        for i in range(len(data)): #create vocabulary and count occurance numbers\n",
        "            thisclass=data[i]['class']\n",
        "            sentence=data[i]['words']\n",
        "            for words in sentence:\n",
        "                if words not in classifier.vocabulary: #if we find a new word\n",
        "                    classifier.vocabulary.add(words)\n",
        "                    for c in classifier.classes:\n",
        "                        classifier.pw[c][words]=k\n",
        "                    classifier.pw[thisclass][words]+=1\n",
        "                else:\n",
        "                    classifier.pw[thisclass][words]+=1\n",
        "        for c in classifier.pw:\n",
        "            total=sum(list(classifier.pw[c].values()))\n",
        "            for word in classifier.pw[c]:\n",
        "                classifier.pw[c][word]=math.log(classifier.pw[c][word]/total)\n",
        "\n",
        "        return classifier"
      ]
    },
    {
      "cell_type": "code",
      "execution_count": 7,
      "metadata": {
        "id": "7N2ebpmyNM5J"
      },
      "outputs": [],
      "source": [
        "#evaluation in-class method\n",
        "\n",
        "def accuracy(classifier, samples):\n",
        "    \"\"\"Compute the accuracy of a classifier on a list of gold-standard samples.\"\"\"\n",
        "    # TODO: Implement this method to solve Problem 2\n",
        "    correct_pred = 0\n",
        "    for sample in samples:\n",
        "        if classifier.predict(sample['words']) == sample['class']:\n",
        "            correct_pred = correct_pred + 1\n",
        "    return 0 if len(samples) == 0 else float(correct_pred/len(samples))\n",
        "\n",
        "def precision(classifier, c, samples):\n",
        "    \"\"\"Compute the class-specific precision of a classifier on a list of gold-standard samples.\"\"\"\n",
        "    # TODO: Implement this method to solve Problem 2\n",
        "    total_class_predictions = 0\n",
        "    correct_class_predictions = 0\n",
        "    for sample in samples:\n",
        "        prediction = classifier.predict(sample['words'])\n",
        "        if prediction != c:\n",
        "            continue\n",
        "        total_class_predictions = total_class_predictions + 1\n",
        "        if sample['class'] == prediction:\n",
        "            correct_class_predictions = correct_class_predictions + 1\n",
        "    return 0 if total_class_predictions == 0 else float(correct_class_predictions/total_class_predictions)\n",
        "\n",
        "def recall(classifier, c, samples):\n",
        "    \"\"\"Compute the class-specific recall of a classifier on a list of gold-standard samples.\"\"\"\n",
        "    # TODO: Implement this method to solve Problem 2\n",
        "    correct_class_predictions = 0\n",
        "    total_of_class = 0\n",
        "    for sample in samples:\n",
        "        prediction = classifier.predict(sample['words'])\n",
        "        if sample['class'] != c:\n",
        "            continue\n",
        "        total_of_class = total_of_class + 1\n",
        "        if sample['class'] == prediction:\n",
        "            correct_class_predictions = correct_class_predictions + 1\n",
        "    return 0 if total_of_class == 0 else float(correct_class_predictions/total_of_class)\n",
        "\n",
        "def our_evaluate(classifier, samples):\n",
        "    print(\"accuracy = {:.2%}\".format(accuracy(classifier, samples)))\n",
        "    for c in sorted(classifier.classes):\n",
        "        p = precision(classifier, c, samples)\n",
        "        r = recall(classifier, c, samples)\n",
        "        # TODO: Change the next line to compute the F1-score\n",
        "        f = (2*p*r)/(p+r)\n",
        "        print(\"class {}: precision = {:.2%}, recall = {:.2%}, f1 = {:.2%}\".format(c, p, r, f))\n"
      ]
    },
    {
      "cell_type": "code",
      "execution_count": 8,
      "metadata": {
        "colab": {
          "base_uri": "https://localhost:8080/"
        },
        "id": "fwwQmoTaNnoV",
        "outputId": "27313033-1d12-488b-b1c2-201e9c42a334"
      },
      "outputs": [
        {
          "output_type": "stream",
          "name": "stdout",
          "text": [
            "accuracy = 78.60%\n",
            "class neg: precision = 73.96%, recall = 88.58%, f1 = 80.61%\n",
            "class pos: precision = 85.60%, recall = 68.53%, f1 = 76.12%\n"
          ]
        }
      ],
      "source": [
        "classifier= NaiveBayes.train(train_dict)\n",
        "our_evaluate(classifier, test_dict)"
      ]
    },
    {
      "cell_type": "code",
      "source": [
        "result = NaiveBayes.predict(classifier,X_test[0])\n",
        "print(result,Y_test[0])"
      ],
      "metadata": {
        "id": "fprZsl5hk0ge",
        "outputId": "578517be-d8e2-49f0-b513-70658e5b9f5a",
        "colab": {
          "base_uri": "https://localhost:8080/"
        }
      },
      "execution_count": 9,
      "outputs": [
        {
          "output_type": "stream",
          "name": "stdout",
          "text": [
            "neg 1\n"
          ]
        }
      ]
    },
    {
      "cell_type": "markdown",
      "metadata": {
        "id": "8MYecmldpjyn"
      },
      "source": [
        "outsource libralies"
      ]
    },
    {
      "cell_type": "code",
      "execution_count": 10,
      "metadata": {
        "id": "vd5pjLo0lJuc"
      },
      "outputs": [],
      "source": [
        "#evaluation\n",
        "from sklearn.metrics import roc_auc_score, roc_curve, confusion_matrix, precision_score, recall_score, accuracy_score, f1_score\n",
        "\n",
        "def evaluation(Y_test, predictions):\n",
        "    accuracy = accuracy_score( Y_test, predictions)\n",
        "    precision = precision_score(Y_test, predictions)\n",
        "    recall = recall_score(Y_test, predictions)\n",
        "    f1 = f1_score(Y_test, predictions)\n",
        "\n",
        "    print(\"Accuracy:\",round(100*accuracy,2),'%')\n",
        "    print(\"Precision:\", round(100*precision,2),'%')\n",
        "    print(\"Recall:\", round(100*recall,2),'%')\n",
        "    print(\"F1:\", round(100*f1,2),'%')"
      ]
    },
    {
      "cell_type": "code",
      "execution_count": 11,
      "metadata": {
        "id": "_A9iFC-IlJuc"
      },
      "outputs": [],
      "source": [
        "from sklearn.feature_extraction.text import CountVectorizer\n",
        "from sklearn.naive_bayes import MultinomialNB\n",
        "\n",
        "\n",
        "#Extract features from the text data: Bow vectorizing, training , predicting\n",
        "def modelNB(X_train,Y_train):\n",
        "    #vectorize dataset to Bow -> Learn the vocabulary dictionary and return term-document matrix\n",
        "    vectorizer = CountVectorizer()\n",
        "    vectorized_X_train = vectorizer.fit_transform(X_train)\n",
        "\n",
        "    #train model with add 0.1 smooth\n",
        "    model = MultinomialNB(alpha=0.1)\n",
        "    model.fit(vectorized_X_train, Y_train)\n",
        "\n",
        "    return vectorizer, model"
      ]
    },
    {
      "cell_type": "code",
      "execution_count": 13,
      "metadata": {
        "id": "DmUzaHszlJuc",
        "outputId": "393f0c45-e6c0-4e31-a973-d0d47e084c90",
        "colab": {
          "base_uri": "https://localhost:8080/"
        }
      },
      "outputs": [
        {
          "output_type": "stream",
          "name": "stdout",
          "text": [
            "Accuracy: 78.28 %\n",
            "Precision: 73.68 %\n",
            "Recall: 88.3 %\n",
            "F1: 80.33 %\n"
          ]
        }
      ],
      "source": [
        "# first attemp\n",
        "vectorizer, NB_classifier = modelNB(X_train, Y_train)\n",
        "# predict_model\n",
        "predictions_NB = NB_classifier.predict(vectorizer.transform(X_test))\n",
        "# evaluation\n",
        "evaluation(Y_test, predictions_NB )"
      ]
    },
    {
      "cell_type": "code",
      "execution_count": 46,
      "metadata": {
        "id": "vyO8eUFElJuc"
      },
      "outputs": [],
      "source": [
        "#other style text\n",
        "vectorizer_1, NB_classifier_1 = modelNB(preprocessed_text_1 ,Y_train)\n",
        "# vectorizer_2, NB_classifier_2  = modelNB(preprocessed_text_2, Y_train)\n",
        "# vectorizer_3, NB_classifier_3  = modelNB(preprocessed_text_3, Y_train)\n",
        "# vectorizer_4 ,NB_classifier_4  = modelNB(preprocessed_text_4, Y_train)"
      ]
    },
    {
      "cell_type": "code",
      "execution_count": 47,
      "metadata": {
        "id": "oGbdjwcTlJuc",
        "outputId": "c6088dd2-0a4c-44ce-bfb9-cce6d3c6af4d",
        "colab": {
          "base_uri": "https://localhost:8080/"
        }
      },
      "outputs": [
        {
          "output_type": "stream",
          "name": "stdout",
          "text": [
            "Lemm + stopword removal + CountVectorizer\n",
            "Accuracy: 78.07 %\n",
            "Precision: 73.68 %\n",
            "Recall: 87.64 %\n",
            "F1: 80.06 %\n"
          ]
        }
      ],
      "source": [
        "# with clean data\n",
        "# vectorize, model, and evaluate model using CountVectorizer\n",
        "\n",
        "#Lemm + stopword removal\n",
        "print(\"Lemm + stopword removal + CountVectorizer\")\n",
        "predictions_NB_1 = NB_classifier_1.predict(vectorizer_1.transform(preprocessed_text_1_test))\n",
        "evaluation(Y_test, predictions_NB_1)\n",
        "\n",
        "# # #Lemm + no stopword removal\n",
        "# # print(\"\\nLemm + no stopword removal + CountVectorizer\")\n",
        "# predictions_NB_2 = NB_classifier_2.predict(vectorizer_2.transform(preprocessed_text_2_test))\n",
        "# evaluation(Y_test, predictions_NB_2)\n",
        "\n",
        "# # #Stem + stopword removal\n",
        "# # print(\"\\nStem + stopword removal + CountVectorizer\")\n",
        "# predictions_NB_3 = NB_classifier_3.predict(vectorizer_3.transform(preprocessed_text_3_test))\n",
        "# evaluation(Y_test, predictions_NB_3)\n",
        "\n",
        "# # #Stem + no stopword removal\n",
        "# # print(\"\\nStem + no stopword removal + CountVectorizer\")\n",
        "# predictions_NB_4 = NB_classifier_4.predict(vectorizer_4.transform(preprocessed_text_4_test))\n",
        "# evaluation(Y_test, predictions_NB_4)"
      ]
    },
    {
      "cell_type": "markdown",
      "metadata": {
        "id": "5szR6ufWp4E_"
      },
      "source": [
        "# SVM Model"
      ]
    },
    {
      "cell_type": "code",
      "execution_count": 14,
      "metadata": {
        "id": "PqGL4uGYp3VA"
      },
      "outputs": [],
      "source": [
        "from sklearn import svm\n",
        "from sklearn.feature_extraction.text import CountVectorizer\n",
        "\n",
        "\n",
        "vectorizer = CountVectorizer()\n",
        "x_train_vectorize = vectorizer.fit_transform(X_train)\n",
        "x_test_vectorize = vectorizer.transform(X_test)\n",
        "svm_classifier = svm.SVC(C=1.0, kernel='linear', degree=3, gamma='auto')\n",
        "svm_classifier.fit(x_train_vectorize, Y_train)\n",
        "prediction = svm_classifier.predict(x_test_vectorize)\n"
      ]
    },
    {
      "cell_type": "code",
      "execution_count": 15,
      "metadata": {
        "id": "Uoislo1uQAbU",
        "colab": {
          "base_uri": "https://localhost:8080/"
        },
        "outputId": "d77e4075-d6f2-410f-cb52-4c4ccd7436f0"
      },
      "outputs": [
        {
          "output_type": "stream",
          "name": "stdout",
          "text": [
            "Accuracy: 77.78 %\n",
            "Precision: 79.62 %\n",
            "Recall: 76.95 %\n",
            "F1: 78.26 %\n",
            "None\n"
          ]
        }
      ],
      "source": [
        "print(evaluation(prediction, Y_test))"
      ]
    },
    {
      "cell_type": "code",
      "source": [
        "import pickle\n",
        "# save the model to disk\n",
        "filename = 'SVM_model.sav'\n",
        "pickle.dump(svm_classifier, open(filename, 'wb'))\n",
        "\n",
        "# load the model from disk\n",
        "loaded_model = pickle.load(open(filename, 'rb'))\n",
        "result = loaded_model.score(X_test, Y_test)\n",
        "print(result)"
      ],
      "metadata": {
        "id": "r_Zbg54dodBK"
      },
      "execution_count": null,
      "outputs": []
    },
    {
      "cell_type": "markdown",
      "metadata": {
        "id": "qLy18T61pynH"
      },
      "source": [
        "# LSTM Model"
      ]
    },
    {
      "cell_type": "code",
      "execution_count": 21,
      "metadata": {
        "id": "M6ANHNSZp_Zt",
        "colab": {
          "base_uri": "https://localhost:8080/"
        },
        "outputId": "70d6eef0-1336-4d3d-f129-e7ff71545a93"
      },
      "outputs": [
        {
          "output_type": "stream",
          "name": "stdout",
          "text": [
            "Epoch 1/30\n",
            "636/636 - 540s - loss: 0.5533 - accuracy: 0.7153 - val_loss: 0.4657 - val_accuracy: 0.7724 - 540s/epoch - 849ms/step\n",
            "Epoch 2/30\n",
            "636/636 - 470s - loss: 0.4310 - accuracy: 0.8016 - val_loss: 0.4344 - val_accuracy: 0.7942 - 470s/epoch - 739ms/step\n",
            "Epoch 3/30\n",
            "636/636 - 462s - loss: 0.3928 - accuracy: 0.8244 - val_loss: 0.4341 - val_accuracy: 0.7917 - 462s/epoch - 726ms/step\n",
            "Epoch 4/30\n",
            "636/636 - 580s - loss: 0.3770 - accuracy: 0.8306 - val_loss: 0.4600 - val_accuracy: 0.7922 - 580s/epoch - 912ms/step\n",
            "Epoch 5/30\n",
            "636/636 - 445s - loss: 0.3604 - accuracy: 0.8395 - val_loss: 0.4451 - val_accuracy: 0.7921 - 445s/epoch - 699ms/step\n"
          ]
        },
        {
          "output_type": "execute_result",
          "data": {
            "text/plain": [
              "<keras.src.callbacks.History at 0x7fea768c5510>"
            ]
          },
          "metadata": {},
          "execution_count": 21
        }
      ],
      "source": [
        "# Import the necessary libraries\n",
        "from keras.preprocessing.text import Tokenizer\n",
        "from keras.preprocessing.sequence import pad_sequences\n",
        "from keras.layers import Embedding, LSTM, Dense, Dropout, SpatialDropout1D\n",
        "from keras.callbacks import EarlyStopping\n",
        "from keras.models import Sequential\n",
        "\n",
        "\n",
        "# Preprocess the text data using a Tokenizer\n",
        "max_words = 3000\n",
        "max_len = 500\n",
        "tokenizer = Tokenizer(num_words=max_words)\n",
        "tokenizer.fit_on_texts(X_train)\n",
        "sequences = tokenizer.texts_to_sequences(X_train)\n",
        "X = pad_sequences(sequences, maxlen=max_len)\n",
        "\n",
        "# Build the model\n",
        "# Define parameter\n",
        "n_lstm = 128\n",
        "drop_lstm = 0.2\n",
        "embedding_dim = 16\n",
        "\n",
        "# Define LSTM Model\n",
        "model1 = Sequential()\n",
        "model1.add(Embedding(max_words, embedding_dim, input_length=max_len))\n",
        "model1.add(SpatialDropout1D(drop_lstm))\n",
        "model1.add(LSTM(n_lstm, return_sequences=False))\n",
        "model1.add(Dropout(drop_lstm))\n",
        "model1.add(Dense(1, activation='sigmoid'))\n",
        "\n",
        "# Compile and train the model\n",
        "model1.compile(loss='binary_crossentropy', optimizer='adam', metrics=['accuracy'])\n",
        "early_stopping = EarlyStopping(monitor='val_loss', patience=2)\n",
        "model1.fit(X, Y_train, validation_split=0.2, epochs=30, callbacks=[early_stopping], verbose=2)"
      ]
    },
    {
      "cell_type": "code",
      "execution_count": 22,
      "metadata": {
        "id": "e7j4mlK_nOZi",
        "colab": {
          "base_uri": "https://localhost:8080/",
          "height": 472
        },
        "outputId": "9c0fb77f-f8d8-4c37-fe44-9420e8f0345d"
      },
      "outputs": [
        {
          "output_type": "display_data",
          "data": {
            "text/plain": [
              "<Figure size 640x480 with 1 Axes>"
            ],
            "image/png": "[encoded data removed]"
          },
          "metadata": {}
        }
      ],
      "source": [
        "import matplotlib.pyplot as plt\n",
        "# Plot the loss graph\n",
        "plt.plot(model1.history.history['loss'], label='Training Loss', color=\"blue\")\n",
        "plt.plot(model1.history.history['val_loss'], label='Validation Loss', color=\"orange\")\n",
        "plt.xlabel('Epochs')\n",
        "plt.ylabel('Loss')\n",
        "plt.title('Training Loss')\n",
        "plt.legend()\n",
        "plt.show()"
      ]
    },
    {
      "cell_type": "code",
      "execution_count": 23,
      "metadata": {
        "id": "rgvZZLBdlJud",
        "colab": {
          "base_uri": "https://localhost:8080/"
        },
        "outputId": "b5c0733b-92dd-4e08-bffc-4a68b52952b7"
      },
      "outputs": [
        {
          "output_type": "stream",
          "name": "stdout",
          "text": [
            "341/341 [==============================] - 85s 248ms/step\n"
          ]
        }
      ],
      "source": [
        "# Predict the class of a new text\n",
        "new_sequences = tokenizer.texts_to_sequences(X_test)\n",
        "new_X = pad_sequences(new_sequences, maxlen=max_len)\n",
        "prediction_lstm = model1.predict(new_X)\n",
        "#print(prediction_lstm_0 )  # Output: [[0.5]]"
      ]
    },
    {
      "cell_type": "code",
      "execution_count": 24,
      "metadata": {
        "id": "Wrt4Hb-XuooF"
      },
      "outputs": [],
      "source": [
        "prediction_lstm_0 = np.where(prediction_lstm >= 0.5, 1, 0)"
      ]
    },
    {
      "cell_type": "code",
      "execution_count": 25,
      "metadata": {
        "id": "jTqWy2pzlJud",
        "colab": {
          "base_uri": "https://localhost:8080/"
        },
        "outputId": "d4dc5fe1-060e-4fc8-8542-d202d97d0414"
      },
      "outputs": [
        {
          "output_type": "stream",
          "name": "stdout",
          "text": [
            "Accuracy: 78.87 %\n",
            "Precision: 76.1 %\n",
            "Recall: 84.46 %\n",
            "F1: 80.07 %\n"
          ]
        }
      ],
      "source": [
        "evaluation(Y_test,prediction_lstm_0)"
      ]
    },
    {
      "cell_type": "markdown",
      "metadata": {
        "id": "qmrQYiPEqCgI"
      },
      "source": [
        "# Systems Evaluation and Result Analysis"
      ]
    },
    {
      "cell_type": "markdown",
      "source": [
        "testing on unseen data"
      ],
      "metadata": {
        "id": "Jczlznzf-ryp"
      }
    },
    {
      "cell_type": "code",
      "source": [
        "import pandas as pd\n",
        "unseen_data = pd.read_csv('unseen_testing_df.csv')\n",
        "unseen_data.info()"
      ],
      "metadata": {
        "colab": {
          "base_uri": "https://localhost:8080/"
        },
        "id": "ZNDt3pCr-q-Y",
        "outputId": "152b217d-f258-4b4d-942f-c20db20e16b6"
      },
      "execution_count": 27,
      "outputs": [
        {
          "output_type": "stream",
          "name": "stdout",
          "text": [
            "<class 'pandas.core.frame.DataFrame'>\n",
            "RangeIndex: 31962 entries, 0 to 31961\n",
            "Data columns (total 3 columns):\n",
            " #   Column  Non-Null Count  Dtype \n",
            "---  ------  --------------  ----- \n",
            " 0   id      31962 non-null  int64 \n",
            " 1   label   31962 non-null  int64 \n",
            " 2   tweet   31962 non-null  object\n",
            "dtypes: int64(2), object(1)\n",
            "memory usage: 749.2+ KB\n"
          ]
        }
      ]
    },
    {
      "cell_type": "code",
      "source": [
        "unseen_data"
      ],
      "metadata": {
        "colab": {
          "base_uri": "https://localhost:8080/",
          "height": 424
        },
        "id": "2r8s5MuxJeRX",
        "outputId": "93223e1c-4073-4aaa-9fe8-1e15268d567d"
      },
      "execution_count": 53,
      "outputs": [
        {
          "output_type": "execute_result",
          "data": {
            "text/plain": [
              "          id  label                                              tweet  \\\n",
              "0          1      0   @user when a father is dysfunctional and is s...   \n",
              "1          2      0  @user @user thanks for #lyft credit i can't us...   \n",
              "2          3      0                                bihday your majesty   \n",
              "3          4      0  #model   i love u take with u all the time in ...   \n",
              "4          5      0             factsguide: society now    #motivation   \n",
              "...      ...    ...                                                ...   \n",
              "31957  31958      0  ate @user isz that youuu?ðððððð...   \n",
              "31958  31959      0    to see nina turner on the airwaves trying to...   \n",
              "31959  31960      0  listening to sad songs on a monday morning otw...   \n",
              "31960  31961      1  @user #sikh #temple vandalised in in #calgary,...   \n",
              "31961  31962      0                   thank you @user for you follow     \n",
              "\n",
              "      Predicted Sentiment_NB  \n",
              "0                        neg  \n",
              "1                        neg  \n",
              "2                        neg  \n",
              "3                        neg  \n",
              "4                        neg  \n",
              "...                      ...  \n",
              "31957                    neg  \n",
              "31958                    neg  \n",
              "31959                    neg  \n",
              "31960                    neg  \n",
              "31961                    neg  \n",
              "\n",
              "[31962 rows x 4 columns]"
            ],
            "text/html": [
              "\n",
              "  <div id=\"df-508ff12e-b514-4d88-958c-68fd7a2bd0eb\" class=\"colab-df-container\">\n",
              "    <div>\n",
              "<style scoped>\n",
              "    .dataframe tbody tr th:only-of-type {\n",
              "        vertical-align: middle;\n",
              "    }\n",
              "\n",
              "    .dataframe tbody tr th {\n",
              "        vertical-align: top;\n",
              "    }\n",
              "\n",
              "    .dataframe thead th {\n",
              "        text-align: right;\n",
              "    }\n",
              "</style>\n",
              "<table border=\"1\" class=\"dataframe\">\n",
              "  <thead>\n",
              "    <tr style=\"text-align: right;\">\n",
              "      <th></th>\n",
              "      <th>id</th>\n",
              "      <th>label</th>\n",
              "      <th>tweet</th>\n",
              "      <th>Predicted Sentiment_NB</th>\n",
              "    </tr>\n",
              "  </thead>\n",
              "  <tbody>\n",
              "    <tr>\n",
              "      <th>0</th>\n",
              "      <td>1</td>\n",
              "      <td>0</td>\n",
              "      <td>@user when a father is dysfunctional and is s...</td>\n",
              "      <td>neg</td>\n",
              "    </tr>\n",
              "    <tr>\n",
              "      <th>1</th>\n",
              "      <td>2</td>\n",
              "      <td>0</td>\n",
              "      <td>@user @user thanks for #lyft credit i can't us...</td>\n",
              "      <td>neg</td>\n",
              "    </tr>\n",
              "    <tr>\n",
              "      <th>2</th>\n",
              "      <td>3</td>\n",
              "      <td>0</td>\n",
              "      <td>bihday your majesty</td>\n",
              "      <td>neg</td>\n",
              "    </tr>\n",
              "    <tr>\n",
              "      <th>3</th>\n",
              "      <td>4</td>\n",
              "      <td>0</td>\n",
              "      <td>#model   i love u take with u all the time in ...</td>\n",
              "      <td>neg</td>\n",
              "    </tr>\n",
              "    <tr>\n",
              "      <th>4</th>\n",
              "      <td>5</td>\n",
              "      <td>0</td>\n",
              "      <td>factsguide: society now    #motivation</td>\n",
              "      <td>neg</td>\n",
              "    </tr>\n",
              "    <tr>\n",
              "      <th>...</th>\n",
              "      <td>...</td>\n",
              "      <td>...</td>\n",
              "      <td>...</td>\n",
              "      <td>...</td>\n",
              "    </tr>\n",
              "    <tr>\n",
              "      <th>31957</th>\n",
              "      <td>31958</td>\n",
              "      <td>0</td>\n",
              "      <td>ate @user isz that youuu?ðððððð...</td>\n",
              "      <td>neg</td>\n",
              "    </tr>\n",
              "    <tr>\n",
              "      <th>31958</th>\n",
              "      <td>31959</td>\n",
              "      <td>0</td>\n",
              "      <td>to see nina turner on the airwaves trying to...</td>\n",
              "      <td>neg</td>\n",
              "    </tr>\n",
              "    <tr>\n",
              "      <th>31959</th>\n",
              "      <td>31960</td>\n",
              "      <td>0</td>\n",
              "      <td>listening to sad songs on a monday morning otw...</td>\n",
              "      <td>neg</td>\n",
              "    </tr>\n",
              "    <tr>\n",
              "      <th>31960</th>\n",
              "      <td>31961</td>\n",
              "      <td>1</td>\n",
              "      <td>@user #sikh #temple vandalised in in #calgary,...</td>\n",
              "      <td>neg</td>\n",
              "    </tr>\n",
              "    <tr>\n",
              "      <th>31961</th>\n",
              "      <td>31962</td>\n",
              "      <td>0</td>\n",
              "      <td>thank you @user for you follow</td>\n",
              "      <td>neg</td>\n",
              "    </tr>\n",
              "  </tbody>\n",
              "</table>\n",
              "<p>31962 rows × 4 columns</p>\n",
              "</div>\n",
              "    <div class=\"colab-df-buttons\">\n",
              "\n",
              "  <div class=\"colab-df-container\">\n",
              "    <button class=\"colab-df-convert\" onclick=\"convertToInteractive('df-508ff12e-b514-4d88-958c-68fd7a2bd0eb')\"\n",
              "            title=\"Convert this dataframe to an interactive table.\"\n",
              "            style=\"display:none;\">\n",
              "\n",
              "  <svg xmlns=\"http://www.w3.org/2000/svg\" height=\"24px\" viewBox=\"0 -960 960 960\">\n",
              "    <path d=\"M120-120v-720h720v720H120Zm60-500h600v-160H180v160Zm220 220h160v-160H400v160Zm0 220h160v-160H400v160ZM180-400h160v-160H180v160Zm440 0h160v-160H620v160ZM180-180h160v-160H180v160Zm440 0h160v-160H620v160Z\"/>\n",
              "  </svg>\n",
              "    </button>\n",
              "\n",
              "  <style>\n",
              "    .colab-df-container {\n",
              "      display:flex;\n",
              "      gap: 12px;\n",
              "    }\n",
              "\n",
              "    .colab-df-convert {\n",
              "      background-color: #E8F0FE;\n",
              "      border: none;\n",
              "      border-radius: 50%;\n",
              "      cursor: pointer;\n",
              "      display: none;\n",
              "      fill: #1967D2;\n",
              "      height: 32px;\n",
              "      padding: 0 0 0 0;\n",
              "      width: 32px;\n",
              "    }\n",
              "\n",
              "    .colab-df-convert:hover {\n",
              "      background-color: #E2EBFA;\n",
              "      box-shadow: 0px 1px 2px rgba(60, 64, 67, 0.3), 0px 1px 3px 1px rgba(60, 64, 67, 0.15);\n",
              "      fill: #174EA6;\n",
              "    }\n",
              "\n",
              "    .colab-df-buttons div {\n",
              "      margin-bottom: 4px;\n",
              "    }\n",
              "\n",
              "    [theme=dark] .colab-df-convert {\n",
              "      background-color: #3B4455;\n",
              "      fill: #D2E3FC;\n",
              "    }\n",
              "\n",
              "    [theme=dark] .colab-df-convert:hover {\n",
              "      background-color: #434B5C;\n",
              "      box-shadow: 0px 1px 3px 1px rgba(0, 0, 0, 0.15);\n",
              "      filter: drop-shadow(0px 1px 2px rgba(0, 0, 0, 0.3));\n",
              "      fill: #FFFFFF;\n",
              "    }\n",
              "  </style>\n",
              "\n",
              "    <script>\n",
              "      const buttonEl =\n",
              "        document.querySelector('#df-508ff12e-b514-4d88-958c-68fd7a2bd0eb button.colab-df-convert');\n",
              "      buttonEl.style.display =\n",
              "        google.colab.kernel.accessAllowed ? 'block' : 'none';\n",
              "\n",
              "      async function convertToInteractive(key) {\n",
              "        const element = document.querySelector('#df-508ff12e-b514-4d88-958c-68fd7a2bd0eb');\n",
              "        const dataTable =\n",
              "          await google.colab.kernel.invokeFunction('convertToInteractive',\n",
              "                                                    [key], {});\n",
              "        if (!dataTable) return;\n",
              "\n",
              "        const docLinkHtml = 'Like what you see? Visit the ' +\n",
              "          '<a target=\"_blank\" href=https://colab.research.google.com/notebooks/data_table.ipynb>data table notebook</a>'\n",
              "          + ' to learn more about interactive tables.';\n",
              "        element.innerHTML = '';\n",
              "        dataTable['output_type'] = 'display_data';\n",
              "        await google.colab.output.renderOutput(dataTable, element);\n",
              "        const docLink = document.createElement('div');\n",
              "        docLink.innerHTML = docLinkHtml;\n",
              "        element.appendChild(docLink);\n",
              "      }\n",
              "    </script>\n",
              "  </div>\n",
              "\n",
              "\n",
              "<div id=\"df-5703b7fd-a175-4833-9263-520223c63532\">\n",
              "  <button class=\"colab-df-quickchart\" onclick=\"quickchart('df-5703b7fd-a175-4833-9263-520223c63532')\"\n",
              "            title=\"Suggest charts\"\n",
              "            style=\"display:none;\">\n",
              "\n",
              "<svg xmlns=\"http://www.w3.org/2000/svg\" height=\"24px\"viewBox=\"0 0 24 24\"\n",
              "     width=\"24px\">\n",
              "    <g>\n",
              "        <path d=\"M19 3H5c-1.1 0-2 .9-2 2v14c0 1.1.9 2 2 2h14c1.1 0 2-.9 2-2V5c0-1.1-.9-2-2-2zM9 17H7v-7h2v7zm4 0h-2V7h2v10zm4 0h-2v-4h2v4z\"/>\n",
              "    </g>\n",
              "</svg>\n",
              "  </button>\n",
              "\n",
              "<style>\n",
              "  .colab-df-quickchart {\n",
              "      --bg-color: #E8F0FE;\n",
              "      --fill-color: #1967D2;\n",
              "      --hover-bg-color: #E2EBFA;\n",
              "      --hover-fill-color: #174EA6;\n",
              "      --disabled-fill-color: #AAA;\n",
              "      --disabled-bg-color: #DDD;\n",
              "  }\n",
              "\n",
              "  [theme=dark] .colab-df-quickchart {\n",
              "      --bg-color: #3B4455;\n",
              "      --fill-color: #D2E3FC;\n",
              "      --hover-bg-color: #434B5C;\n",
              "      --hover-fill-color: #FFFFFF;\n",
              "      --disabled-bg-color: #3B4455;\n",
              "      --disabled-fill-color: #666;\n",
              "  }\n",
              "\n",
              "  .colab-df-quickchart {\n",
              "    background-color: var(--bg-color);\n",
              "    border: none;\n",
              "    border-radius: 50%;\n",
              "    cursor: pointer;\n",
              "    display: none;\n",
              "    fill: var(--fill-color);\n",
              "    height: 32px;\n",
              "    padding: 0;\n",
              "    width: 32px;\n",
              "  }\n",
              "\n",
              "  .colab-df-quickchart:hover {\n",
              "    background-color: var(--hover-bg-color);\n",
              "    box-shadow: 0 1px 2px rgba(60, 64, 67, 0.3), 0 1px 3px 1px rgba(60, 64, 67, 0.15);\n",
              "    fill: var(--button-hover-fill-color);\n",
              "  }\n",
              "\n",
              "  .colab-df-quickchart-complete:disabled,\n",
              "  .colab-df-quickchart-complete:disabled:hover {\n",
              "    background-color: var(--disabled-bg-color);\n",
              "    fill: var(--disabled-fill-color);\n",
              "    box-shadow: none;\n",
              "  }\n",
              "\n",
              "  .colab-df-spinner {\n",
              "    border: 2px solid var(--fill-color);\n",
              "    border-color: transparent;\n",
              "    border-bottom-color: var(--fill-color);\n",
              "    animation:\n",
              "      spin 1s steps(1) infinite;\n",
              "  }\n",
              "\n",
              "  @keyframes spin {\n",
              "    0% {\n",
              "      border-color: transparent;\n",
              "      border-bottom-color: var(--fill-color);\n",
              "      border-left-color: var(--fill-color);\n",
              "    }\n",
              "    20% {\n",
              "      border-color: transparent;\n",
              "      border-left-color: var(--fill-color);\n",
              "      border-top-color: var(--fill-color);\n",
              "    }\n",
              "    30% {\n",
              "      border-color: transparent;\n",
              "      border-left-color: var(--fill-color);\n",
              "      border-top-color: var(--fill-color);\n",
              "      border-right-color: var(--fill-color);\n",
              "    }\n",
              "    40% {\n",
              "      border-color: transparent;\n",
              "      border-right-color: var(--fill-color);\n",
              "      border-top-color: var(--fill-color);\n",
              "    }\n",
              "    60% {\n",
              "      border-color: transparent;\n",
              "      border-right-color: var(--fill-color);\n",
              "    }\n",
              "    80% {\n",
              "      border-color: transparent;\n",
              "      border-right-color: var(--fill-color);\n",
              "      border-bottom-color: var(--fill-color);\n",
              "    }\n",
              "    90% {\n",
              "      border-color: transparent;\n",
              "      border-bottom-color: var(--fill-color);\n",
              "    }\n",
              "  }\n",
              "</style>\n",
              "\n",
              "  <script>\n",
              "    async function quickchart(key) {\n",
              "      const quickchartButtonEl =\n",
              "        document.querySelector('#' + key + ' button');\n",
              "      quickchartButtonEl.disabled = true;  // To prevent multiple clicks.\n",
              "      quickchartButtonEl.classList.add('colab-df-spinner');\n",
              "      try {\n",
              "        const charts = await google.colab.kernel.invokeFunction(\n",
              "            'suggestCharts', [key], {});\n",
              "      } catch (error) {\n",
              "        console.error('Error during call to suggestCharts:', error);\n",
              "      }\n",
              "      quickchartButtonEl.classList.remove('colab-df-spinner');\n",
              "      quickchartButtonEl.classList.add('colab-df-quickchart-complete');\n",
              "    }\n",
              "    (() => {\n",
              "      let quickchartButtonEl =\n",
              "        document.querySelector('#df-5703b7fd-a175-4833-9263-520223c63532 button');\n",
              "      quickchartButtonEl.style.display =\n",
              "        google.colab.kernel.accessAllowed ? 'block' : 'none';\n",
              "    })();\n",
              "  </script>\n",
              "</div>\n",
              "    </div>\n",
              "  </div>\n"
            ],
            "application/vnd.google.colaboratory.intrinsic+json": {
              "type": "dataframe",
              "variable_name": "unseen_data",
              "summary": "{\n  \"name\": \"unseen_data\",\n  \"rows\": 31962,\n  \"fields\": [\n    {\n      \"column\": \"id\",\n      \"properties\": {\n        \"dtype\": \"number\",\n        \"std\": 9226,\n        \"min\": 1,\n        \"max\": 31962,\n        \"num_unique_values\": 31962,\n        \"samples\": [\n          12228,\n          14710,\n          19320\n        ],\n        \"semantic_type\": \"\",\n        \"description\": \"\"\n      }\n    },\n    {\n      \"column\": \"label\",\n      \"properties\": {\n        \"dtype\": \"number\",\n        \"std\": 0,\n        \"min\": 0,\n        \"max\": 1,\n        \"num_unique_values\": 2,\n        \"samples\": [\n          1,\n          0\n        ],\n        \"semantic_type\": \"\",\n        \"description\": \"\"\n      }\n    },\n    {\n      \"column\": \"tweet\",\n      \"properties\": {\n        \"dtype\": \"string\",\n        \"num_unique_values\": 29530,\n        \"samples\": [\n          \"\\\"even if you like #windows 10, you should be   at #microsoft\\\" #computer #spam #spyware #unreliable #os #ms #win \",\n          \"the countdown begins! 10 hours till the musical! \\u00f0\\u009f\\u0098\\u008a\\u00f0\\u009f\\u0098\\u0084\\u00f0\\u009f\\u0098\\u0085 #itsthefinalcountdown #youngcarers #rctcbc #rctcouncil #rct #carersweek   \\u00f0\\u009f\\u0098\\u0081\"\n        ],\n        \"semantic_type\": \"\",\n        \"description\": \"\"\n      }\n    },\n    {\n      \"column\": \"Predicted Sentiment_NB\",\n      \"properties\": {\n        \"dtype\": \"category\",\n        \"num_unique_values\": 2,\n        \"samples\": [\n          \"pos\",\n          \"neg\"\n        ],\n        \"semantic_type\": \"\",\n        \"description\": \"\"\n      }\n    }\n  ]\n}"
            }
          },
          "metadata": {},
          "execution_count": 53
        }
      ]
    },
    {
      "cell_type": "code",
      "source": [
        "# Text preprocessing function (adjust based on your needs)\n",
        "from nltk import word_tokenize # Import for tokenization (optional) import nltk. corpus # Import for stop words (optional)\n",
        "\n",
        "def preprocess_text (text):\n",
        "  # Preprocessing steps (e.g., tokenization, stop word removal, lowercase conversion, etc.)\n",
        "  stop_words = set(nltk.corpus.stopwords.words ('english')) # Download stop words if needed\n",
        "  tokens = word_tokenize (text)\n",
        "  filtered_words = [word. lower() for word in tokens if word not in stop_words]\n",
        "  preprocessed_text = \" \".join (filtered_words)\n",
        "  return preprocessed_text\n",
        "\n",
        "# Load your unseen data\n",
        "unseen_text = unseen_data[\"tweet\"] # Assuming text is in \"Content\" column\n",
        "unseen_label =  unseen_data[\"label\"]\n",
        "\n",
        "# Preprocess unseen data (consistent with training data)\n",
        "unseen_data_preprocessed = [preprocess_text(text) for text in unseen_text]"
      ],
      "metadata": {
        "id": "oM7eCvTG-0Ph"
      },
      "execution_count": 30,
      "outputs": []
    },
    {
      "cell_type": "markdown",
      "metadata": {
        "id": "tNnT6QQfsJpV"
      },
      "source": [
        "**Comparison Performance on Different Models**"
      ]
    },
    {
      "cell_type": "code",
      "source": [
        "#evaluation\n",
        "from sklearn.metrics import roc_auc_score, roc_curve, confusion_matrix, precision_score, recall_score, accuracy_score, f1_score\n",
        "\n",
        "def evaluation(Y_test, predictions):\n",
        "    accuracy = accuracy_score( Y_test, predictions)\n",
        "    precision = precision_score(Y_test, predictions)\n",
        "    recall = recall_score(Y_test, predictions)\n",
        "    f1 = f1_score(Y_test, predictions)\n",
        "\n",
        "    print(\"Accuracy:\",round(100*accuracy,2),'%')\n",
        "    print(\"Precision:\", round(100*precision,2),'%')\n",
        "    print(\"Recall:\", round(100*recall,2),'%')\n",
        "    print(\"F1:\", round(100*f1,2),'%')"
      ],
      "metadata": {
        "id": "6KyHjE-XyZss"
      },
      "execution_count": 31,
      "outputs": []
    },
    {
      "cell_type": "markdown",
      "metadata": {
        "id": "84ITY2zCugji"
      },
      "source": [
        "SVM performance on unseen test dataset"
      ]
    },
    {
      "cell_type": "code",
      "execution_count": 32,
      "metadata": {
        "id": "r5gqq1MfsFG6",
        "colab": {
          "base_uri": "https://localhost:8080/"
        },
        "outputId": "d4c9bd39-9dd9-44d8-8a42-814333ba71d1"
      },
      "outputs": [
        {
          "output_type": "stream",
          "name": "stdout",
          "text": [
            "Accuracy: 72.92 %\n",
            "Precision: 13.17 %\n",
            "Recall: 51.16 %\n",
            "F1: 20.95 %\n",
            "Predicted sentiment labels appended to unseen data. Saved to unseen_data_with_sentiment.csv\n"
          ]
        }
      ],
      "source": [
        "# Feature extraction (using the same vectorizer for consistency)\n",
        "unseen_vectorized = vectorizer.transform(unseen_data_preprocessed)\n",
        "# Make predictions on unseen data\n",
        "unseen_predictions = svm_classifier.predict(unseen_vectorized)\n",
        "\n",
        "# No evaluation possible without ground truth labels for unseen data\n",
        "# print (\"Predicted sentiment labels for unseen data:\")\n",
        "# print (unseen_predictions)\n",
        "\n",
        "# unseen_data[\"Predicted Sentiment\"] = unseen_predictions\n",
        "\n",
        "evaluation(unseen_label, unseen_predictions)\n",
        "\n",
        "# Save the updated unseen data with predicted labels to a new CSV file\n",
        "# unseen_data.to_csv(\"unseen_data_with_sentiment.csv\", index=False)  # Adjust filename as needed\n",
        "\n",
        "# print(\"Predicted sentiment labels appended to unseen data. Saved to unseen_data_with_sentiment.csv\")"
      ]
    },
    {
      "cell_type": "markdown",
      "source": [
        "LSTM performance on unseen test dataset"
      ],
      "metadata": {
        "id": "FG_feOm-1d1o"
      }
    },
    {
      "cell_type": "code",
      "source": [
        "# Preprocess unseen data (consistent with training data)\n",
        "unseen_text_preprocessed = [preprocess_text(text) for text in unseen_text]  # Assuming preprocess_text handles unseen data\n",
        "unseen_sequences = tokenizer.texts_to_sequences(unseen_text_preprocessed)\n",
        "unseen_X = pad_sequences(unseen_sequences, maxlen=max_len)\n",
        "\n",
        "# Make predictions on unseen data\n",
        "unseen_predictions = model1.predict(unseen_X)\n",
        "unseen_predictions_class = np.where(unseen_predictions >= 0.5, 1, 0)  # Convert to class labels (0 or 1)\n",
        "\n",
        "# Evaluation\n",
        "evaluation(unseen_label,unseen_predictions_class )\n"
      ],
      "metadata": {
        "id": "aJndzmA61dkR",
        "colab": {
          "base_uri": "https://localhost:8080/"
        },
        "outputId": "26ce174d-421b-4938-8c5f-9244bc039bb8"
      },
      "execution_count": 33,
      "outputs": [
        {
          "output_type": "stream",
          "name": "stdout",
          "text": [
            "999/999 [==============================] - 257s 258ms/step\n",
            "Accuracy: 63.37 %\n",
            "Precision: 11.61 %\n",
            "Recall: 63.87 %\n",
            "F1: 19.65 %\n"
          ]
        }
      ]
    },
    {
      "cell_type": "markdown",
      "source": [
        "NB performance on unseen test dataset"
      ],
      "metadata": {
        "id": "9JVvmvcn1fSu"
      }
    },
    {
      "cell_type": "code",
      "source": [
        "preprocessed_unseen_text_2 = [text_clean(text, 'L', True) for text in unseen_text]"
      ],
      "metadata": {
        "id": "9pr5ZRnUQrQA"
      },
      "execution_count": 54,
      "outputs": []
    },
    {
      "cell_type": "code",
      "source": [
        "# Assuming unseen_data is a DataFrame with \"text\" column\n",
        "unseen_predictions_nb = NB_classifier_1.predict(vectorizer_1.transform(preprocessed_unseen_text_2))\n",
        "# unseen_predictions_nb = np.array([classifier.predict(text) for text in unseen_text])\n",
        "# unseen_predictions_nb = np.where(unseen_predictions_nb == 'neg', 1, 0)\n",
        "# unseen_data[\"Predicted Sentiment_NB\"] = unseen_predictions_nb\n",
        "\n",
        "# Evaluation\n",
        "evaluation(unseen_label ,unseen_predictions_nb )\n",
        "# print(\"Predicted sentiment labels for unseen data (Naive Bayes):\")\n",
        "# print(unseen_predictions_nb)\n",
        "# unseen_data.to_csv(\"unseen_data_with_sentiment_NB.csv\", index=False)  # Adjust filename as needed\n",
        "# print(\"Predicted sentiment labels appended to unseen data. Saved to unseen_data_with_sentiment_NB.csv\")"
      ],
      "metadata": {
        "id": "9nv6dxZZ1ge7",
        "colab": {
          "base_uri": "https://localhost:8080/"
        },
        "outputId": "2235f9ab-579e-47bf-a975-c8026b5d9af1"
      },
      "execution_count": 55,
      "outputs": [
        {
          "output_type": "stream",
          "name": "stdout",
          "text": [
            "Accuracy: 54.34 %\n",
            "Precision: 10.14 %\n",
            "Recall: 70.07 %\n",
            "F1: 17.71 %\n"
          ]
        }
      ]
    },
    {
      "cell_type": "markdown",
      "metadata": {
        "id": "2-a1-xsLvaUs"
      },
      "source": [
        "This illustration compares the final results"
      ]
    },
    {
      "cell_type": "markdown",
      "metadata": {
        "id": "1IjIKQZbsuln"
      },
      "source": [
        "Final model will be : ..."
      ]
    },
    {
      "cell_type": "markdown",
      "metadata": {
        "id": "CPxgUwRusXNk"
      },
      "source": [
        "# Model Deployment"
      ]
    },
    {
      "cell_type": "code",
      "source": [
        "def predict_finalmodel(input_text):\n",
        "    input_vectorized = vectorizer.transform([input_text])\n",
        "    pred_result =  svm_classifier.predict(input_vectorized)\n",
        "\n",
        "    return pred_result\n"
      ],
      "metadata": {
        "id": "CWD0J6t5o4e8"
      },
      "execution_count": 62,
      "outputs": []
    },
    {
      "cell_type": "code",
      "execution_count": 78,
      "metadata": {
        "id": "U6YgtCjftGlx",
        "colab": {
          "base_uri": "https://localhost:8080/"
        },
        "outputId": "c59d7a40-6c50-43b9-d43b-e18f31afa2ec"
      },
      "outputs": [
        {
          "output_type": "stream",
          "name": "stdout",
          "text": [
            "[1]\n"
          ]
        }
      ],
      "source": [
        "# model input - prompt\n",
        "\n",
        "input_text = ''\n",
        "\n",
        "pred_result = predict_finalmodel(input_text)\n",
        "print(pred_result)"
      ]
    }
  ],
  "metadata": {
    "colab": {
      "provenance": [],
      "include_colab_link": true
    },
    "kernelspec": {
      "display_name": "base",
      "language": "python",
      "name": "python3"
    },
    "language_info": {
      "codemirror_mode": {
        "name": "ipython",
        "version": 3
      },
      "file_extension": ".py",
      "mimetype": "text/x-python",
      "name": "python",
      "nbconvert_exporter": "python",
      "pygments_lexer": "ipython3",
      "version": "3.9.13"
    },
    "vscode": {
      "interpreter": {
        "hash": "01548455d79935998b645857773929aefce64ad43d14ec7bcdbc2e1f1ada2e24"
      }
    }
  },
  "nbformat": 4,
  "nbformat_minor": 0
}